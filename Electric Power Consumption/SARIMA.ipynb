{
 "cells": [
  {
   "cell_type": "code",
   "id": "initial_id",
   "metadata": {
    "collapsed": true,
    "ExecuteTime": {
     "end_time": "2024-12-16T11:48:14.898513Z",
     "start_time": "2024-12-16T11:48:10.925148Z"
    }
   },
   "source": [
    "from sklearn.metrics import mean_absolute_error, mean_squared_error, r2_score\n",
    "from statsmodels.tsa.statespace.sarimax import SARIMAX\n",
    "from statsmodels.tsa.seasonal import seasonal_decompose\n",
    "from sklearn.model_selection import train_test_split\n",
    "from sklearn.model_selection import GridSearchCV\n",
    "from sklearn.preprocessing import StandardScaler\n",
    "from datetime import datetime, timedelta\n",
    "from xgboost import XGBRegressor\n",
    "import plotly.express as px\n",
    "from pathlib import Path\n",
    "import pandas as pd\n",
    "import numpy as np\n",
    "import warnings\n",
    "\n",
    "warnings.filterwarnings('ignore')"
   ],
   "outputs": [],
   "execution_count": 1
  },
  {
   "metadata": {
    "ExecuteTime": {
     "end_time": "2024-12-16T11:48:14.910397Z",
     "start_time": "2024-12-16T11:48:14.899637Z"
    }
   },
   "cell_type": "code",
   "source": [
    "def upload_data():\n",
    "    data_path = str(Path.cwd().parent) + \"\\\\Data\\\\EPC\\\\Power Consumption Data.csv\"\n",
    "    \n",
    "    df = pd.read_csv(data_path)\n",
    "    \n",
    "    df = df[df[\"real_consumption\"] > 0]\n",
    "    df = df[df['real_consumption'] <= df['real_consumption'].mean() + 4 * df['real_consumption'].std()]\n",
    "    \n",
    "    df['time'] = pd.to_datetime(df['time'])\n",
    "    df = df.sort_values(by='time',ascending=True)\n",
    "    \n",
    "    return df\n",
    "\n",
    "def data_metrics(data, real, predicted):\n",
    "\n",
    "    y_true = data[real]\n",
    "    y_pred = data[predicted]\n",
    "\n",
    "    # Calculate metrics\n",
    "    mae = mean_absolute_error(y_true, y_pred)\n",
    "    mse = mean_squared_error(y_true, y_pred)\n",
    "    rmse = np.sqrt(mse)\n",
    "    r2 = r2_score(y_true, y_pred)\n",
    "\n",
    "\n",
    "    # MAE (Mean Absolute Error):\n",
    "    # Lower values are better; good MAE depends on the scale of 'real_consumption'.\n",
    "    # As a rule of thumb, MAE should be significantly smaller than the mean of the target variable.\n",
    "    # Lower is better. Ideally, MAE should be much less than the average value of y_true.\n",
    "    print(f\"MAE: {mae:.4f}\")\n",
    "\n",
    "    # MSE (Mean Squared Error):\n",
    "    # Similar to MAE but penalizes large errors more heavily. A smaller MSE is better.\n",
    "    # Compare MSE to the variance of 'real_consumption' for context.\n",
    "    # Lower is better. MSE should ideally be close to zero relative to the variance of y_true.\n",
    "    print(f\"MSE: {mse:.4f}\")\n",
    "\n",
    "\n",
    "\n",
    "    # RMSE (Root Mean Squared Error):\n",
    "    # RMSE is the square root of MSE and is in the same units as 'real_consumption'.\n",
    "    # A good RMSE is often close to the standard deviation of 'real_consumption'.\n",
    "    # Lower is better. RMSE should be comparable to or less than the standard deviation of y_true.\"\n",
    "    print(f\"RMSE: {rmse:.4f}\")\n",
    "\n",
    "\n",
    "\n",
    "    # R² (Coefficient of Determination):\n",
    "    # R² measures how well the predictions explain the variability of the data.\n",
    "    # Values close to 1.0 are excellent, indicating the model explains most of the variance.\n",
    "    # Negative values indicate poor fit.\n",
    "    # Closer to 1.0 is better. Values > 0.7 are generally good; < 0.5 indicates underfitting.\n",
    "    print(f\"R²: {r2:.4f}\")\n",
    "\n",
    "def feature_engineering(data):\n",
    "    # Extracting basic time-based features\n",
    "    data['hour'] = data['time'].dt.hour  # Hour of the day\n",
    "    data['day_of_week'] = data['time'].dt.dayofweek  # Day of the week (0=Monday, 6=Sunday)\n",
    "    data['is_weekend'] = data['day_of_week'].apply(lambda x: 1 if x >= 5 else 0)  # Weekend flag\n",
    "\n",
    "    # Generate lag features (SARIMA benefits from autoregressive terms)\n",
    "    for lag in range(1, 5):  # Lag features for the past 4 time steps\n",
    "        data[f'lag_{lag}'] = data['real_consumption'].shift(lag)\n",
    "\n",
    "    # Generate rolling window statistics (trend and variability capture)\n",
    "    for window in [3, 6, 12]:  # Windows of size 3, 6, and 12\n",
    "        data[f'rolling_mean_{window}'] = data['real_consumption'].rolling(window=window).mean()\n",
    "        data[f'rolling_std_{window}'] = data['real_consumption'].rolling(window=window).std()\n",
    "\n",
    "    # Generate exponential moving averages (for smoother trends)\n",
    "    for span in [3, 5]:  # Spans of size 3 and 5\n",
    "        data[f'ema_{span}'] = data['real_consumption'].ewm(span=span, adjust=False).mean()\n",
    "\n",
    "    # Capture seasonality with cyclic features for hour\n",
    "    data['hour_sin'] = np.sin(2 * np.pi * data['hour'] / 24)  # Cyclic hour feature (sine)\n",
    "    data['hour_cos'] = np.cos(2 * np.pi * data['hour'] / 24)  # Cyclic hour feature (cosine)\n",
    "\n",
    "    # Add a detrended feature (to focus on residual patterns)\n",
    "    data['detrended'] = data['real_consumption'] - data['real_consumption'].rolling(window=24).mean()\n",
    "\n",
    "    # Percentage change in consumption (to capture relative variations)\n",
    "    data['pct_change'] = data['real_consumption'].pct_change()\n",
    "\n",
    "    # Seasonal difference (important for SARIMA to handle seasonal cycles)\n",
    "    data['seasonal_diff'] = data['real_consumption'].diff(24)  # Assuming daily seasonality in hourly data\n",
    "\n",
    "    # Fill NaN values generated by rolling, lag, or pct_change features\n",
    "    data.fillna(method='bfill', inplace=True)  # Backfill\n",
    "    data.fillna(method='ffill', inplace=True)  # Forward fill\n",
    "\n",
    "    return data\n",
    "\n",
    "\n"
   ],
   "id": "6b1e95fb5f8b736d",
   "outputs": [],
   "execution_count": 2
  },
  {
   "metadata": {
    "ExecuteTime": {
     "end_time": "2024-12-16T11:48:19.667776Z",
     "start_time": "2024-12-16T11:48:18.070324Z"
    }
   },
   "cell_type": "code",
   "source": [
    "df = upload_data()\n",
    "\n",
    "data_metrics(data=df, real=\"real_consumption\", predicted=\"predicted_consumption\")\n",
    "\n",
    "df = feature_engineering(df)\n"
   ],
   "id": "5c638f67c9e70eca",
   "outputs": [
    {
     "name": "stdout",
     "output_type": "stream",
     "text": [
      "MAE: 56.7256\n",
      "MSE: 5824.3342\n",
      "RMSE: 76.3173\n",
      "R²: 0.9176\n"
     ]
    }
   ],
   "execution_count": 3
  },
  {
   "cell_type": "code",
   "source": [
    "last_5_months_start = df['time'].max() - pd.DateOffset(months=5)\n",
    "test_mask = df['time'] >= last_5_months_start\n",
    "\n",
    "last_5_months_df = df[test_mask]\n",
    "df = df[~test_mask]\n",
    "\n"
   ],
   "metadata": {
    "collapsed": false,
    "ExecuteTime": {
     "end_time": "2024-12-16T11:52:32.649376Z",
     "start_time": "2024-12-16T11:52:32.372043Z"
    }
   },
   "id": "e0cb1156f1f55f88",
   "outputs": [],
   "execution_count": 5
  },
  {
   "cell_type": "code",
   "source": [
    "# df = df[['time','real_consumption','predicted_consumption',\"ema_5\",\"lag_1\",\"hour\",\"hour_sin\",\"hour_cos\"]]\n",
    "\n",
    "# Step 2: Separate features (X) and target variable (y)\n",
    "X = df.drop(columns=[ 'time', 'real_consumption', 'predicted_consumption'])  # Features\n",
    "y = df['real_consumption']  # Target variable\n",
    "\n",
    "\n",
    "X_train, X_test, y_train, y_test = train_test_split(X, y, test_size=0.6, random_state=42, shuffle=True)"
   ],
   "metadata": {
    "collapsed": false,
    "ExecuteTime": {
     "end_time": "2024-12-16T11:52:34.028928Z",
     "start_time": "2024-12-16T11:52:33.660238Z"
    }
   },
   "id": "79f5b043525f91dc",
   "outputs": [],
   "execution_count": 6
  },
  {
   "cell_type": "code",
   "outputs": [
    {
     "name": "stdout",
     "output_type": "stream",
     "text": [
      "Performing stepwise search to minimize aic\n"
     ]
    }
   ],
   "source": [
    "from pmdarima import auto_arima\n",
    "\n",
    "# Automatically find the best parameters\n",
    "auto_model = auto_arima(df['real_consumption'],\n",
    "                        seasonal=True,\n",
    "                        m=24,  # Adjust 'm' based on seasonality (e.g., 24 for hourly data, 12 for monthly data)\n",
    "                        trace=True,\n",
    "                        error_action='ignore',\n",
    "                        suppress_warnings=True,\n",
    "                        stepwise=True)\n",
    "\n",
    "# Display the best parameters\n",
    "print(\"Best SARIMA parameters:\", auto_model.order, auto_model.seasonal_order)\n"
   ],
   "metadata": {
    "collapsed": false,
    "is_executing": true,
    "ExecuteTime": {
     "start_time": "2024-12-16T11:53:50.782344Z"
    }
   },
   "id": "6bc252709edf2e57",
   "execution_count": null
  },
  {
   "metadata": {
    "ExecuteTime": {
     "end_time": "2024-12-13T10:45:18.234835Z",
     "start_time": "2024-12-13T09:58:21.265263Z"
    }
   },
   "cell_type": "code",
   "source": [
    "from statsmodels.tsa.statespace.sarimax import SARIMAX\n",
    "\n",
    "# Define and fit the SARIMA model\n",
    "model = SARIMAX(df['real_consumption'],\n",
    "                order=auto_model.order,\n",
    "                seasonal_order=auto_model.seasonal_order,\n",
    "                enforce_stationarity=False,\n",
    "                enforce_invertibility=False)\n",
    "\n",
    "sarima_model = model.fit(disp=False)\n",
    "\n",
    "# Print model summary\n",
    "print(sarima_model.summary())\n"
   ],
   "id": "d0a27dc15ad4b584",
   "outputs": [
    {
     "name": "stdout",
     "output_type": "stream",
     "text": [
      "Fitting 3 folds for each of 2592 candidates, totalling 7776 fits\n",
      "Best Parameters: {'colsample_bytree': 1.0, 'gamma': 0, 'learning_rate': 0.1, 'max_depth': 6, 'min_child_weight': 5, 'n_estimators': 100, 'reg_alpha': 0.1, 'reg_lambda': 10, 'subsample': 0.8}\n"
     ]
    }
   ],
   "execution_count": 57
  },
  {
   "cell_type": "code",
   "source": [
    "forecast = sarima_model.forecast(steps=len(test))\n",
    "\n",
    "# Evaluate the model\n",
    "train_rmse_xgb = mean_squared_error(y_train, y_pred_train, squared=False)\n",
    "test_rmse_xgb = mean_squared_error(y_test, y_pred_test, squared=False)\n",
    "train_r2_xgb = r2_score(y_train, y_pred_train)\n",
    "test_r2_xgb = r2_score(y_test, y_pred_test)\n",
    "\n",
    "print(f\"XGBoost - Train RMSE: {train_rmse_xgb:.2f}, Test RMSE: {test_rmse_xgb:.2f}\")\n",
    "print(f\"XGBoost - Train R²: {train_r2_xgb:.2f}, Test R²: {test_r2_xgb:.2f}\")\n"
   ],
   "metadata": {
    "collapsed": false,
    "ExecuteTime": {
     "end_time": "2024-12-13T11:33:54.526263Z",
     "start_time": "2024-12-13T11:33:53.679591Z"
    }
   },
   "id": "ebd625f0fb145e74",
   "outputs": [
    {
     "name": "stdout",
     "output_type": "stream",
     "text": [
      "XGBoost - Train RMSE: 16.83, Test RMSE: 16.97\n",
      "XGBoost - Train R²: 1.00, Test R²: 1.00\n"
     ]
    }
   ],
   "execution_count": 61
  },
  {
   "cell_type": "code",
   "source": [
    "temp_df = last_5_months.head(9)[[\"time\",\"real_consumption\"]]"
   ],
   "metadata": {
    "collapsed": false,
    "ExecuteTime": {
     "end_time": "2024-12-13T11:33:57.136306Z",
     "start_time": "2024-12-13T11:33:57.131848Z"
    }
   },
   "id": "f67db75eb61d1634",
   "outputs": [],
   "execution_count": 62
  },
  {
   "cell_type": "code",
   "source": [
    "for i in range(1):  # Adding 3 extra rows\n",
    "    extra_rows = []\n",
    "    \n",
    "    start_time = temp_df[\"time\"].iloc[-1] + timedelta(minutes=3)\n",
    "    \n",
    "    extra_rows.append((start_time + timedelta(minutes=3 * i), None))\n",
    "\n",
    "    # Create a DataFrame for the extra rows\n",
    "    extra_df = pd.DataFrame(extra_rows, columns=[\"time\", \"real_consumption\"])\n",
    "    \n",
    "    # Combine the original and extra DataFrames\n",
    "    temp_df = pd.concat([temp_df, extra_df], ignore_index=True)\n",
    "\n",
    "\n",
    "temp_df"
   ],
   "metadata": {
    "collapsed": false,
    "ExecuteTime": {
     "end_time": "2024-12-13T11:33:57.846065Z",
     "start_time": "2024-12-13T11:33:57.838017Z"
    }
   },
   "id": "c5d75e9292901e0e",
   "outputs": [
    {
     "data": {
      "text/plain": [
       "                 time  real_consumption\n",
       "0 2024-06-22 18:54:00       1776.203125\n",
       "1 2024-06-22 18:57:00       1762.210449\n",
       "2 2024-06-22 19:00:00       1762.830566\n",
       "3 2024-06-22 19:03:00       1758.603516\n",
       "4 2024-06-22 19:06:00       1764.305908\n",
       "5 2024-06-22 19:09:00       1800.765503\n",
       "6 2024-06-22 19:12:00       1780.111450\n",
       "7 2024-06-22 19:15:00       1783.973999\n",
       "8 2024-06-22 19:18:00       1779.342896\n",
       "9 2024-06-22 19:21:00               NaN"
      ],
      "text/html": [
       "<div>\n",
       "<style scoped>\n",
       "    .dataframe tbody tr th:only-of-type {\n",
       "        vertical-align: middle;\n",
       "    }\n",
       "\n",
       "    .dataframe tbody tr th {\n",
       "        vertical-align: top;\n",
       "    }\n",
       "\n",
       "    .dataframe thead th {\n",
       "        text-align: right;\n",
       "    }\n",
       "</style>\n",
       "<table border=\"1\" class=\"dataframe\">\n",
       "  <thead>\n",
       "    <tr style=\"text-align: right;\">\n",
       "      <th></th>\n",
       "      <th>time</th>\n",
       "      <th>real_consumption</th>\n",
       "    </tr>\n",
       "  </thead>\n",
       "  <tbody>\n",
       "    <tr>\n",
       "      <th>0</th>\n",
       "      <td>2024-06-22 18:54:00</td>\n",
       "      <td>1776.203125</td>\n",
       "    </tr>\n",
       "    <tr>\n",
       "      <th>1</th>\n",
       "      <td>2024-06-22 18:57:00</td>\n",
       "      <td>1762.210449</td>\n",
       "    </tr>\n",
       "    <tr>\n",
       "      <th>2</th>\n",
       "      <td>2024-06-22 19:00:00</td>\n",
       "      <td>1762.830566</td>\n",
       "    </tr>\n",
       "    <tr>\n",
       "      <th>3</th>\n",
       "      <td>2024-06-22 19:03:00</td>\n",
       "      <td>1758.603516</td>\n",
       "    </tr>\n",
       "    <tr>\n",
       "      <th>4</th>\n",
       "      <td>2024-06-22 19:06:00</td>\n",
       "      <td>1764.305908</td>\n",
       "    </tr>\n",
       "    <tr>\n",
       "      <th>5</th>\n",
       "      <td>2024-06-22 19:09:00</td>\n",
       "      <td>1800.765503</td>\n",
       "    </tr>\n",
       "    <tr>\n",
       "      <th>6</th>\n",
       "      <td>2024-06-22 19:12:00</td>\n",
       "      <td>1780.111450</td>\n",
       "    </tr>\n",
       "    <tr>\n",
       "      <th>7</th>\n",
       "      <td>2024-06-22 19:15:00</td>\n",
       "      <td>1783.973999</td>\n",
       "    </tr>\n",
       "    <tr>\n",
       "      <th>8</th>\n",
       "      <td>2024-06-22 19:18:00</td>\n",
       "      <td>1779.342896</td>\n",
       "    </tr>\n",
       "    <tr>\n",
       "      <th>9</th>\n",
       "      <td>2024-06-22 19:21:00</td>\n",
       "      <td>NaN</td>\n",
       "    </tr>\n",
       "  </tbody>\n",
       "</table>\n",
       "</div>"
      ]
     },
     "execution_count": 63,
     "metadata": {},
     "output_type": "execute_result"
    }
   ],
   "execution_count": 63
  },
  {
   "cell_type": "code",
   "source": [
    "temp_df = last_5_months.head(9)[[\"time\",\"real_consumption\"]]\n",
    "\n",
    "for i in range(1,250):\n",
    "    \n",
    "    \n",
    "    for i in range(1):  # Adding 3 extra rows\n",
    "        extra_rows = []\n",
    "\n",
    "    start_time = temp_df[\"time\"].iloc[-1] + timedelta(minutes=3)\n",
    "\n",
    "    extra_rows.append((start_time + timedelta(minutes=3 * i), None))\n",
    "\n",
    "    # Create a DataFrame for the extra rows\n",
    "    extra_df = pd.DataFrame(extra_rows, columns=[\"time\", \"real_consumption\"])\n",
    "\n",
    "    # Combine the original and extra DataFrames\n",
    "    temp_df = pd.concat([temp_df, extra_df], ignore_index=True)\n",
    "    \n",
    "    \n",
    "    \n",
    "    \n",
    "    \n",
    "    \n",
    "    to_predict = feature_engineering(temp_df.copy())[['real_consumption','time',\"ema_5\",\"lag_1\",\"hour\",\"hour_sin\",\"hour_cos\"]].tail(1)\n",
    "    to_predict_1 = to_predict.drop(columns=['real_consumption','time','ema_5'])  # Features\n",
    "    # to_predict_1[\"ema_5\"] = to_predict_1[\"ema_5\"]\n",
    "    prediction = model.predict(to_predict_1)\n",
    "    \n",
    "    results = pd.DataFrame({\n",
    "        'time' : to_predict[\"time\"],\n",
    "        'predicted_consumption': prediction\n",
    "    })\n",
    "    \n",
    "    \n",
    "    temp_df.loc[temp_df['time'] == results[\"time\"].tail(1).values[0], ['real_consumption']] = [results[\"predicted_consumption\"].tail(1).values[0]]\n",
    "    \n",
    "    \n"
   ],
   "metadata": {
    "collapsed": false,
    "ExecuteTime": {
     "end_time": "2024-12-13T11:38:18.267149Z",
     "start_time": "2024-12-13T11:38:16.264679Z"
    }
   },
   "id": "aa16be604f6212a6",
   "outputs": [],
   "execution_count": 76
  },
  {
   "cell_type": "code",
   "source": [
    "reuslts_df = temp_df.rename(columns={\"real_consumption\":\"predicted_consumption_new\"}).merge(last_5_months[[\"time\",\"real_consumption\",\"predicted_consumption\"]], on=\"time\", how=\"left\").dropna()"
   ],
   "metadata": {
    "collapsed": false,
    "ExecuteTime": {
     "end_time": "2024-12-13T11:38:19.253620Z",
     "start_time": "2024-12-13T11:38:19.246969Z"
    }
   },
   "id": "19e8ccd91bd18b83",
   "outputs": [],
   "execution_count": 77
  },
  {
   "cell_type": "code",
   "source": [
    "# Create an interactive plot using Plotly\n",
    "fig = px.line(reuslts_df, x='time', y=['real_consumption', 'predicted_consumption','predicted_consumption_new'], title=\"Interactive Time Series Plot\")\n",
    "\n",
    "# Customize the plot\n",
    "fig.update_layout(\n",
    "    xaxis_title=\"Timestamp\",\n",
    "    yaxis_title=\"Values\",\n",
    "    legend_title=\"Legend\",\n",
    "    xaxis_rangeslider_visible=True  # Enables the date slicer\n",
    ")\n",
    "\n",
    "# Show the plot\n",
    "fig.show()"
   ],
   "metadata": {
    "collapsed": false,
    "ExecuteTime": {
     "end_time": "2024-12-13T11:38:19.901413Z",
     "start_time": "2024-12-13T11:38:19.843903Z"
    }
   },
   "id": "42ccaec7fb3b5023",
   "outputs": [
    {
     "data": {
      "application/vnd.plotly.v1+json": {
       "data": [
        {
         "hovertemplate": "variable=real_consumption<br>time=%{x}<br>value=%{y}<extra></extra>",
         "legendgroup": "real_consumption",
         "line": {
          "color": "#636efa",
          "dash": "solid"
         },
         "marker": {
          "symbol": "circle"
         },
         "mode": "lines",
         "name": "real_consumption",
         "orientation": "v",
         "showlegend": true,
         "x": [
          "2024-06-22T18:54:00",
          "2024-06-22T18:57:00",
          "2024-06-22T19:00:00",
          "2024-06-22T19:03:00",
          "2024-06-22T19:06:00",
          "2024-06-22T19:09:00",
          "2024-06-22T19:12:00",
          "2024-06-22T19:15:00",
          "2024-06-22T19:18:00",
          "2024-06-22T19:21:00",
          "2024-06-22T19:24:00",
          "2024-06-22T19:27:00",
          "2024-06-22T19:30:00",
          "2024-06-22T19:33:00",
          "2024-06-22T19:36:00",
          "2024-06-22T19:39:00",
          "2024-06-22T19:42:00",
          "2024-06-22T19:45:00",
          "2024-06-22T19:48:00",
          "2024-06-22T19:51:00",
          "2024-06-22T19:54:00",
          "2024-06-22T19:57:00",
          "2024-06-22T20:00:00",
          "2024-06-22T20:03:00",
          "2024-06-22T20:06:00",
          "2024-06-22T20:09:00",
          "2024-06-22T20:12:00",
          "2024-06-22T20:15:00",
          "2024-06-22T20:18:00",
          "2024-06-22T20:21:00",
          "2024-06-22T20:24:00",
          "2024-06-22T20:27:00",
          "2024-06-22T20:30:00",
          "2024-06-22T20:33:00",
          "2024-06-22T20:36:00",
          "2024-06-22T20:39:00",
          "2024-06-22T20:42:00",
          "2024-06-22T20:45:00",
          "2024-06-22T20:48:00",
          "2024-06-22T20:51:00",
          "2024-06-22T20:54:00",
          "2024-06-22T20:57:00",
          "2024-06-22T21:00:00",
          "2024-06-22T21:03:00",
          "2024-06-22T21:06:00",
          "2024-06-22T21:09:00",
          "2024-06-22T21:12:00",
          "2024-06-22T21:15:00",
          "2024-06-22T21:18:00",
          "2024-06-22T21:21:00",
          "2024-06-22T21:24:00",
          "2024-06-22T21:27:00",
          "2024-06-22T21:30:00",
          "2024-06-22T21:33:00",
          "2024-06-22T21:36:00",
          "2024-06-22T21:39:00",
          "2024-06-22T21:42:00",
          "2024-06-22T21:45:00",
          "2024-06-22T21:48:00",
          "2024-06-22T21:51:00",
          "2024-06-22T21:54:00",
          "2024-06-22T21:57:00",
          "2024-06-22T22:00:00",
          "2024-06-22T22:03:00",
          "2024-06-22T22:06:00",
          "2024-06-22T22:09:00",
          "2024-06-22T22:12:00",
          "2024-06-22T22:15:00",
          "2024-06-22T22:18:00",
          "2024-06-22T22:21:00",
          "2024-06-22T22:24:00",
          "2024-06-22T22:27:00",
          "2024-06-22T22:30:00",
          "2024-06-22T22:33:00",
          "2024-06-22T22:36:00",
          "2024-06-22T22:39:00",
          "2024-06-22T22:42:00",
          "2024-06-22T22:45:00",
          "2024-06-22T22:48:00",
          "2024-06-22T22:51:00",
          "2024-06-22T22:54:00",
          "2024-06-22T22:57:00",
          "2024-06-22T23:00:00",
          "2024-06-22T23:03:00",
          "2024-06-22T23:06:00",
          "2024-06-22T23:09:00",
          "2024-06-22T23:12:00",
          "2024-06-22T23:15:00",
          "2024-06-22T23:18:00",
          "2024-06-22T23:21:00",
          "2024-06-22T23:24:00",
          "2024-06-22T23:27:00",
          "2024-06-22T23:30:00",
          "2024-06-22T23:33:00",
          "2024-06-22T23:36:00",
          "2024-06-22T23:39:00",
          "2024-06-22T23:42:00",
          "2024-06-22T23:45:00",
          "2024-06-22T23:48:00",
          "2024-06-22T23:51:00",
          "2024-06-22T23:54:00",
          "2024-06-22T23:57:00",
          "2024-06-23T00:00:00",
          "2024-06-23T00:03:00",
          "2024-06-23T00:06:00",
          "2024-06-23T00:09:00",
          "2024-06-23T00:12:00",
          "2024-06-23T00:15:00",
          "2024-06-23T00:18:00",
          "2024-06-23T00:21:00",
          "2024-06-23T00:24:00",
          "2024-06-23T00:27:00",
          "2024-06-23T00:30:00",
          "2024-06-23T00:33:00",
          "2024-06-23T00:36:00",
          "2024-06-23T00:39:00",
          "2024-06-23T00:42:00",
          "2024-06-23T00:45:00",
          "2024-06-23T00:48:00",
          "2024-06-23T00:51:00",
          "2024-06-23T00:54:00",
          "2024-06-23T00:57:00",
          "2024-06-23T01:00:00",
          "2024-06-23T01:03:00",
          "2024-06-23T01:06:00",
          "2024-06-23T01:09:00",
          "2024-06-23T01:12:00",
          "2024-06-23T01:15:00",
          "2024-06-23T01:18:00",
          "2024-06-23T01:21:00",
          "2024-06-23T01:24:00",
          "2024-06-23T01:27:00",
          "2024-06-23T01:30:00",
          "2024-06-23T01:33:00",
          "2024-06-23T01:36:00",
          "2024-06-23T01:39:00",
          "2024-06-23T01:42:00",
          "2024-06-23T01:45:00",
          "2024-06-23T01:48:00",
          "2024-06-23T01:51:00",
          "2024-06-23T01:54:00",
          "2024-06-23T01:57:00",
          "2024-06-23T02:00:00",
          "2024-06-23T02:03:00",
          "2024-06-23T02:06:00",
          "2024-06-23T02:09:00",
          "2024-06-23T02:12:00",
          "2024-06-23T02:15:00",
          "2024-06-23T02:18:00",
          "2024-06-23T02:21:00",
          "2024-06-23T02:24:00",
          "2024-06-23T02:27:00",
          "2024-06-23T02:30:00",
          "2024-06-23T02:33:00",
          "2024-06-23T02:36:00",
          "2024-06-23T02:39:00",
          "2024-06-23T02:42:00",
          "2024-06-23T02:45:00",
          "2024-06-23T02:48:00",
          "2024-06-23T02:51:00",
          "2024-06-23T02:54:00",
          "2024-06-23T02:57:00",
          "2024-06-23T03:00:00",
          "2024-06-23T03:03:00",
          "2024-06-23T03:06:00",
          "2024-06-23T03:09:00",
          "2024-06-23T03:12:00",
          "2024-06-23T03:15:00",
          "2024-06-23T03:18:00",
          "2024-06-23T03:21:00",
          "2024-06-23T03:24:00",
          "2024-06-23T03:27:00",
          "2024-06-23T03:30:00",
          "2024-06-23T03:33:00",
          "2024-06-23T03:36:00",
          "2024-06-23T03:39:00",
          "2024-06-23T03:42:00",
          "2024-06-23T03:45:00",
          "2024-06-23T03:48:00",
          "2024-06-23T03:51:00",
          "2024-06-23T03:54:00",
          "2024-06-23T03:57:00",
          "2024-06-23T04:00:00",
          "2024-06-23T04:03:00",
          "2024-06-23T04:06:00",
          "2024-06-23T04:09:00",
          "2024-06-23T04:12:00",
          "2024-06-23T04:15:00",
          "2024-06-23T04:18:00",
          "2024-06-23T04:21:00",
          "2024-06-23T04:24:00",
          "2024-06-23T04:27:00",
          "2024-06-23T04:30:00",
          "2024-06-23T04:33:00",
          "2024-06-23T04:36:00",
          "2024-06-23T04:39:00",
          "2024-06-23T04:42:00",
          "2024-06-23T04:45:00",
          "2024-06-23T04:48:00",
          "2024-06-23T04:51:00",
          "2024-06-23T04:54:00",
          "2024-06-23T04:57:00",
          "2024-06-23T05:00:00",
          "2024-06-23T05:03:00",
          "2024-06-23T05:06:00",
          "2024-06-23T05:09:00",
          "2024-06-23T05:12:00",
          "2024-06-23T05:15:00",
          "2024-06-23T05:18:00",
          "2024-06-23T05:21:00",
          "2024-06-23T05:24:00",
          "2024-06-23T05:27:00",
          "2024-06-23T05:30:00",
          "2024-06-23T05:33:00",
          "2024-06-23T05:36:00",
          "2024-06-23T05:39:00",
          "2024-06-23T05:42:00",
          "2024-06-23T05:45:00",
          "2024-06-23T05:48:00",
          "2024-06-23T05:51:00",
          "2024-06-23T05:54:00",
          "2024-06-23T05:57:00",
          "2024-06-23T06:00:00",
          "2024-06-23T06:03:00",
          "2024-06-23T06:06:00",
          "2024-06-23T06:09:00",
          "2024-06-23T06:12:00",
          "2024-06-23T06:15:00",
          "2024-06-23T06:18:00",
          "2024-06-23T06:21:00",
          "2024-06-23T06:24:00",
          "2024-06-23T06:27:00",
          "2024-06-23T06:30:00",
          "2024-06-23T06:33:00",
          "2024-06-23T06:36:00",
          "2024-06-23T06:39:00",
          "2024-06-23T06:42:00",
          "2024-06-23T06:45:00",
          "2024-06-23T06:48:00",
          "2024-06-23T06:51:00",
          "2024-06-23T06:54:00",
          "2024-06-23T06:57:00",
          "2024-06-23T07:00:00",
          "2024-06-23T07:03:00",
          "2024-06-23T07:06:00",
          "2024-06-23T07:09:00",
          "2024-06-23T07:12:00",
          "2024-06-23T07:15:00",
          "2024-06-23T07:18:00",
          "2024-06-23T07:21:00",
          "2024-06-23T07:24:00",
          "2024-06-23T07:27:00",
          "2024-06-23T07:30:00",
          "2024-06-23T07:33:00",
          "2024-06-23T07:36:00",
          "2024-06-23T07:39:00",
          "2024-06-23T07:42:00",
          "2024-06-23T07:45:00"
         ],
         "xaxis": "x",
         "y": [
          1776.203125,
          1762.210449,
          1762.830566,
          1758.603516,
          1764.305908,
          1800.765503,
          1780.11145,
          1783.973999,
          1779.342896,
          1767.091309,
          1785.483521,
          1782.075684,
          1789.092407,
          1802.288208,
          1819.079712,
          1764.229126,
          1780.969482,
          1795.591553,
          1777.523315,
          1779.096558,
          1802.50415,
          1775.125488,
          1780.734009,
          1796.635254,
          1760.405884,
          1773.079224,
          1777.640137,
          1778.379028,
          1764.579712,
          1760.221558,
          1760.988525,
          1768.915405,
          1783.414185,
          1742.678833,
          1735.918579,
          1754.888062,
          1724.926392,
          1726.203857,
          1741.106201,
          1723.791626,
          1760.096924,
          1778.1604,
          1761.834229,
          1765.294312,
          1797.282959,
          1803.99353,
          1812.269409,
          1792.184692,
          1787.763184,
          1805.60083,
          1809.269043,
          1795.103149,
          1814.827026,
          1820.184937,
          1814.370605,
          1791.078857,
          1797.478638,
          1818.952026,
          1790.829712,
          1779.280029,
          1798.301025,
          1794.5896,
          1766.768433,
          1793.041626,
          1794.275391,
          1785.864746,
          1767.280518,
          1742.411865,
          1745.721313,
          1755.21582,
          1758.070435,
          1761.592896,
          1733.55249,
          1748.490601,
          1755.893799,
          1740.160645,
          1734.730347,
          1752.122559,
          1722.23938,
          1711.986938,
          1720.778442,
          1699.918945,
          1691.699951,
          1707.653442,
          1696.976685,
          1673.887451,
          1659.972046,
          1665.759033,
          1678.620117,
          1673.246582,
          1638.036865,
          1665.009399,
          1644.993286,
          1614.156128,
          1620.637329,
          1620.747192,
          1588.975342,
          1602.884033,
          1606.760986,
          1600.939087,
          1580.408447,
          1558.789185,
          1552.897095,
          1567.696655,
          1535.208984,
          1520.277222,
          1535.592407,
          1533.432251,
          1482.527466,
          1496.679565,
          1514.114624,
          1483.53125,
          1466.47937,
          1491.385986,
          1489.644409,
          1474.0177,
          1455.556885,
          1442.238403,
          1432.210083,
          1452.774536,
          1437.624634,
          1417.106567,
          1452.123047,
          1434.258789,
          1417.375488,
          1431.695801,
          1425.275635,
          1379.117798,
          1376.229858,
          1391.87915,
          1383.408203,
          1378.084229,
          1347.845337,
          1341.858398,
          1339.478271,
          1344.218628,
          1364.779297,
          1368.894653,
          1335.082153,
          1356.459106,
          1338.667358,
          1333.362427,
          1353.858032,
          1347.906372,
          1323.477051,
          1350.764893,
          1346.786865,
          1323.704102,
          1346.31897,
          1340.120117,
          1334.361572,
          1306.708374,
          1301.133301,
          1331.465942,
          1323.751099,
          1295.155029,
          1325.153076,
          1324.081421,
          1311.872925,
          1290.23938,
          1297.702759,
          1322.301758,
          1314.733643,
          1290.769653,
          1320.923096,
          1309.610596,
          1288.711304,
          1307.129639,
          1309.312134,
          1304.599487,
          1272.946411,
          1268.349365,
          1288.245605,
          1309.878662,
          1292.311157,
          1293.666138,
          1312.918579,
          1295.062744,
          1305.846436,
          1323.11499,
          1305.89978,
          1299.360596,
          1308.452026,
          1276.562378,
          1297.500732,
          1315.170532,
          1322.958496,
          1311.525513,
          1286.759521,
          1269.001221,
          1273.553589,
          1295.061279,
          1283.527588,
          1300.43457,
          1278.567749,
          1308.942749,
          1313.663696,
          1290.441284,
          1322.372559,
          1320.130371,
          1291.761353,
          1291.49585,
          1317.213989,
          1299.513428,
          1295.304688,
          1320.374878,
          1327.28418,
          1326.979004,
          1310.845459,
          1271.339722,
          1286.991333,
          1319.04834,
          1293.6604,
          1287.020142,
          1269.897461,
          1314.419067,
          1283.950562,
          1274.700928,
          1288.648804,
          1295.337891,
          1278.320679,
          1261.692017,
          1288.203003,
          1266.882324,
          1261.797241,
          1245.652222,
          1244.666382,
          1251.046509,
          1249.217651,
          1243.596558,
          1247.55957,
          1245.822266,
          1240.338379,
          1236.209839,
          1245.598633,
          1255.093262,
          1255.301392,
          1267.372925,
          1264.693237,
          1258.977783,
          1263.028931,
          1277.058472,
          1299.22168,
          1299.322266,
          1314.467041,
          1306.606934,
          1328.348999,
          1325.62915,
          1327.892334,
          1323.013794,
          1331.258667,
          1323.651855,
          1343.041626,
          1354.28125,
          1357.070435,
          1339.581787,
          1352.922974,
          1340.591553
         ],
         "yaxis": "y",
         "type": "scatter"
        },
        {
         "hovertemplate": "variable=predicted_consumption<br>time=%{x}<br>value=%{y}<extra></extra>",
         "legendgroup": "predicted_consumption",
         "line": {
          "color": "#EF553B",
          "dash": "solid"
         },
         "marker": {
          "symbol": "circle"
         },
         "mode": "lines",
         "name": "predicted_consumption",
         "orientation": "v",
         "showlegend": true,
         "x": [
          "2024-06-22T18:54:00",
          "2024-06-22T18:57:00",
          "2024-06-22T19:00:00",
          "2024-06-22T19:03:00",
          "2024-06-22T19:06:00",
          "2024-06-22T19:09:00",
          "2024-06-22T19:12:00",
          "2024-06-22T19:15:00",
          "2024-06-22T19:18:00",
          "2024-06-22T19:21:00",
          "2024-06-22T19:24:00",
          "2024-06-22T19:27:00",
          "2024-06-22T19:30:00",
          "2024-06-22T19:33:00",
          "2024-06-22T19:36:00",
          "2024-06-22T19:39:00",
          "2024-06-22T19:42:00",
          "2024-06-22T19:45:00",
          "2024-06-22T19:48:00",
          "2024-06-22T19:51:00",
          "2024-06-22T19:54:00",
          "2024-06-22T19:57:00",
          "2024-06-22T20:00:00",
          "2024-06-22T20:03:00",
          "2024-06-22T20:06:00",
          "2024-06-22T20:09:00",
          "2024-06-22T20:12:00",
          "2024-06-22T20:15:00",
          "2024-06-22T20:18:00",
          "2024-06-22T20:21:00",
          "2024-06-22T20:24:00",
          "2024-06-22T20:27:00",
          "2024-06-22T20:30:00",
          "2024-06-22T20:33:00",
          "2024-06-22T20:36:00",
          "2024-06-22T20:39:00",
          "2024-06-22T20:42:00",
          "2024-06-22T20:45:00",
          "2024-06-22T20:48:00",
          "2024-06-22T20:51:00",
          "2024-06-22T20:54:00",
          "2024-06-22T20:57:00",
          "2024-06-22T21:00:00",
          "2024-06-22T21:03:00",
          "2024-06-22T21:06:00",
          "2024-06-22T21:09:00",
          "2024-06-22T21:12:00",
          "2024-06-22T21:15:00",
          "2024-06-22T21:18:00",
          "2024-06-22T21:21:00",
          "2024-06-22T21:24:00",
          "2024-06-22T21:27:00",
          "2024-06-22T21:30:00",
          "2024-06-22T21:33:00",
          "2024-06-22T21:36:00",
          "2024-06-22T21:39:00",
          "2024-06-22T21:42:00",
          "2024-06-22T21:45:00",
          "2024-06-22T21:48:00",
          "2024-06-22T21:51:00",
          "2024-06-22T21:54:00",
          "2024-06-22T21:57:00",
          "2024-06-22T22:00:00",
          "2024-06-22T22:03:00",
          "2024-06-22T22:06:00",
          "2024-06-22T22:09:00",
          "2024-06-22T22:12:00",
          "2024-06-22T22:15:00",
          "2024-06-22T22:18:00",
          "2024-06-22T22:21:00",
          "2024-06-22T22:24:00",
          "2024-06-22T22:27:00",
          "2024-06-22T22:30:00",
          "2024-06-22T22:33:00",
          "2024-06-22T22:36:00",
          "2024-06-22T22:39:00",
          "2024-06-22T22:42:00",
          "2024-06-22T22:45:00",
          "2024-06-22T22:48:00",
          "2024-06-22T22:51:00",
          "2024-06-22T22:54:00",
          "2024-06-22T22:57:00",
          "2024-06-22T23:00:00",
          "2024-06-22T23:03:00",
          "2024-06-22T23:06:00",
          "2024-06-22T23:09:00",
          "2024-06-22T23:12:00",
          "2024-06-22T23:15:00",
          "2024-06-22T23:18:00",
          "2024-06-22T23:21:00",
          "2024-06-22T23:24:00",
          "2024-06-22T23:27:00",
          "2024-06-22T23:30:00",
          "2024-06-22T23:33:00",
          "2024-06-22T23:36:00",
          "2024-06-22T23:39:00",
          "2024-06-22T23:42:00",
          "2024-06-22T23:45:00",
          "2024-06-22T23:48:00",
          "2024-06-22T23:51:00",
          "2024-06-22T23:54:00",
          "2024-06-22T23:57:00",
          "2024-06-23T00:00:00",
          "2024-06-23T00:03:00",
          "2024-06-23T00:06:00",
          "2024-06-23T00:09:00",
          "2024-06-23T00:12:00",
          "2024-06-23T00:15:00",
          "2024-06-23T00:18:00",
          "2024-06-23T00:21:00",
          "2024-06-23T00:24:00",
          "2024-06-23T00:27:00",
          "2024-06-23T00:30:00",
          "2024-06-23T00:33:00",
          "2024-06-23T00:36:00",
          "2024-06-23T00:39:00",
          "2024-06-23T00:42:00",
          "2024-06-23T00:45:00",
          "2024-06-23T00:48:00",
          "2024-06-23T00:51:00",
          "2024-06-23T00:54:00",
          "2024-06-23T00:57:00",
          "2024-06-23T01:00:00",
          "2024-06-23T01:03:00",
          "2024-06-23T01:06:00",
          "2024-06-23T01:09:00",
          "2024-06-23T01:12:00",
          "2024-06-23T01:15:00",
          "2024-06-23T01:18:00",
          "2024-06-23T01:21:00",
          "2024-06-23T01:24:00",
          "2024-06-23T01:27:00",
          "2024-06-23T01:30:00",
          "2024-06-23T01:33:00",
          "2024-06-23T01:36:00",
          "2024-06-23T01:39:00",
          "2024-06-23T01:42:00",
          "2024-06-23T01:45:00",
          "2024-06-23T01:48:00",
          "2024-06-23T01:51:00",
          "2024-06-23T01:54:00",
          "2024-06-23T01:57:00",
          "2024-06-23T02:00:00",
          "2024-06-23T02:03:00",
          "2024-06-23T02:06:00",
          "2024-06-23T02:09:00",
          "2024-06-23T02:12:00",
          "2024-06-23T02:15:00",
          "2024-06-23T02:18:00",
          "2024-06-23T02:21:00",
          "2024-06-23T02:24:00",
          "2024-06-23T02:27:00",
          "2024-06-23T02:30:00",
          "2024-06-23T02:33:00",
          "2024-06-23T02:36:00",
          "2024-06-23T02:39:00",
          "2024-06-23T02:42:00",
          "2024-06-23T02:45:00",
          "2024-06-23T02:48:00",
          "2024-06-23T02:51:00",
          "2024-06-23T02:54:00",
          "2024-06-23T02:57:00",
          "2024-06-23T03:00:00",
          "2024-06-23T03:03:00",
          "2024-06-23T03:06:00",
          "2024-06-23T03:09:00",
          "2024-06-23T03:12:00",
          "2024-06-23T03:15:00",
          "2024-06-23T03:18:00",
          "2024-06-23T03:21:00",
          "2024-06-23T03:24:00",
          "2024-06-23T03:27:00",
          "2024-06-23T03:30:00",
          "2024-06-23T03:33:00",
          "2024-06-23T03:36:00",
          "2024-06-23T03:39:00",
          "2024-06-23T03:42:00",
          "2024-06-23T03:45:00",
          "2024-06-23T03:48:00",
          "2024-06-23T03:51:00",
          "2024-06-23T03:54:00",
          "2024-06-23T03:57:00",
          "2024-06-23T04:00:00",
          "2024-06-23T04:03:00",
          "2024-06-23T04:06:00",
          "2024-06-23T04:09:00",
          "2024-06-23T04:12:00",
          "2024-06-23T04:15:00",
          "2024-06-23T04:18:00",
          "2024-06-23T04:21:00",
          "2024-06-23T04:24:00",
          "2024-06-23T04:27:00",
          "2024-06-23T04:30:00",
          "2024-06-23T04:33:00",
          "2024-06-23T04:36:00",
          "2024-06-23T04:39:00",
          "2024-06-23T04:42:00",
          "2024-06-23T04:45:00",
          "2024-06-23T04:48:00",
          "2024-06-23T04:51:00",
          "2024-06-23T04:54:00",
          "2024-06-23T04:57:00",
          "2024-06-23T05:00:00",
          "2024-06-23T05:03:00",
          "2024-06-23T05:06:00",
          "2024-06-23T05:09:00",
          "2024-06-23T05:12:00",
          "2024-06-23T05:15:00",
          "2024-06-23T05:18:00",
          "2024-06-23T05:21:00",
          "2024-06-23T05:24:00",
          "2024-06-23T05:27:00",
          "2024-06-23T05:30:00",
          "2024-06-23T05:33:00",
          "2024-06-23T05:36:00",
          "2024-06-23T05:39:00",
          "2024-06-23T05:42:00",
          "2024-06-23T05:45:00",
          "2024-06-23T05:48:00",
          "2024-06-23T05:51:00",
          "2024-06-23T05:54:00",
          "2024-06-23T05:57:00",
          "2024-06-23T06:00:00",
          "2024-06-23T06:03:00",
          "2024-06-23T06:06:00",
          "2024-06-23T06:09:00",
          "2024-06-23T06:12:00",
          "2024-06-23T06:15:00",
          "2024-06-23T06:18:00",
          "2024-06-23T06:21:00",
          "2024-06-23T06:24:00",
          "2024-06-23T06:27:00",
          "2024-06-23T06:30:00",
          "2024-06-23T06:33:00",
          "2024-06-23T06:36:00",
          "2024-06-23T06:39:00",
          "2024-06-23T06:42:00",
          "2024-06-23T06:45:00",
          "2024-06-23T06:48:00",
          "2024-06-23T06:51:00",
          "2024-06-23T06:54:00",
          "2024-06-23T06:57:00",
          "2024-06-23T07:00:00",
          "2024-06-23T07:03:00",
          "2024-06-23T07:06:00",
          "2024-06-23T07:09:00",
          "2024-06-23T07:12:00",
          "2024-06-23T07:15:00",
          "2024-06-23T07:18:00",
          "2024-06-23T07:21:00",
          "2024-06-23T07:24:00",
          "2024-06-23T07:27:00",
          "2024-06-23T07:30:00",
          "2024-06-23T07:33:00",
          "2024-06-23T07:36:00",
          "2024-06-23T07:39:00",
          "2024-06-23T07:42:00",
          "2024-06-23T07:45:00"
         ],
         "xaxis": "x",
         "y": [
          1868.0,
          1868.0,
          1868.0,
          1868.0,
          1848.0,
          1848.0,
          1848.0,
          1848.0,
          1848.0,
          1848.0,
          1848.0,
          1848.0,
          1848.0,
          1848.0,
          1848.0,
          1848.0,
          1848.0,
          1848.0,
          1848.0,
          1848.0,
          1848.0,
          1848.0,
          1848.0,
          1848.0,
          1808.0,
          1808.0,
          1808.0,
          1808.0,
          1808.0,
          1808.0,
          1808.0,
          1808.0,
          1808.0,
          1808.0,
          1808.0,
          1808.0,
          1808.0,
          1808.0,
          1808.0,
          1808.0,
          1808.0,
          1808.0,
          1808.0,
          1808.0,
          1908.0,
          1908.0,
          1908.0,
          1908.0,
          1908.0,
          1908.0,
          1908.0,
          1908.0,
          1908.0,
          1908.0,
          1908.0,
          1908.0,
          1908.0,
          1908.0,
          1908.0,
          1908.0,
          1908.0,
          1908.0,
          1908.0,
          1908.0,
          1853.0,
          1853.0,
          1853.0,
          1853.0,
          1853.0,
          1853.0,
          1853.0,
          1853.0,
          1853.0,
          1853.0,
          1853.0,
          1853.0,
          1853.0,
          1853.0,
          1853.0,
          1853.0,
          1853.0,
          1853.0,
          1853.0,
          1853.0,
          1723.0,
          1723.0,
          1723.0,
          1723.0,
          1723.0,
          1723.0,
          1723.0,
          1723.0,
          1723.0,
          1723.0,
          1723.0,
          1723.0,
          1723.0,
          1723.0,
          1723.0,
          1723.0,
          1723.0,
          1723.0,
          1723.0,
          1723.0,
          1383.0,
          1383.0,
          1383.0,
          1383.0,
          1383.0,
          1383.0,
          1383.0,
          1383.0,
          1383.0,
          1383.0,
          1383.0,
          1383.0,
          1383.0,
          1383.0,
          1383.0,
          1383.0,
          1383.0,
          1383.0,
          1383.0,
          1383.0,
          1243.0,
          1243.0,
          1243.0,
          1243.0,
          1243.0,
          1243.0,
          1243.0,
          1243.0,
          1243.0,
          1243.0,
          1243.0,
          1243.0,
          1243.0,
          1243.0,
          1243.0,
          1243.0,
          1243.0,
          1243.0,
          1243.0,
          1243.0,
          1173.0,
          1173.0,
          1173.0,
          1173.0,
          1173.0,
          1173.0,
          1173.0,
          1173.0,
          1173.0,
          1173.0,
          1173.0,
          1173.0,
          1173.0,
          1173.0,
          1173.0,
          1173.0,
          1173.0,
          1173.0,
          1173.0,
          1173.0,
          1163.0,
          1163.0,
          1163.0,
          1163.0,
          1163.0,
          1163.0,
          1163.0,
          1163.0,
          1163.0,
          1163.0,
          1163.0,
          1163.0,
          1163.0,
          1163.0,
          1163.0,
          1163.0,
          1163.0,
          1163.0,
          1163.0,
          1163.0,
          1153.0,
          1153.0,
          1153.0,
          1153.0,
          1153.0,
          1153.0,
          1153.0,
          1153.0,
          1153.0,
          1153.0,
          1153.0,
          1153.0,
          1153.0,
          1153.0,
          1153.0,
          1153.0,
          1153.0,
          1153.0,
          1153.0,
          1153.0,
          1138.0,
          1138.0,
          1138.0,
          1138.0,
          1138.0,
          1138.0,
          1138.0,
          1138.0,
          1138.0,
          1138.0,
          1138.0,
          1138.0,
          1138.0,
          1138.0,
          1138.0,
          1138.0,
          1138.0,
          1138.0,
          1138.0,
          1138.0,
          1148.0,
          1148.0,
          1148.0,
          1148.0,
          1148.0,
          1148.0,
          1148.0,
          1148.0,
          1148.0,
          1148.0,
          1148.0,
          1148.0,
          1148.0,
          1148.0,
          1148.0,
          1148.0,
          1148.0,
          1148.0,
          1148.0,
          1148.0,
          1188.0,
          1188.0,
          1188.0,
          1188.0,
          1188.0,
          1188.0,
          1188.0,
          1188.0,
          1188.0,
          1188.0,
          1188.0,
          1188.0,
          1188.0,
          1188.0
         ],
         "yaxis": "y",
         "type": "scatter"
        },
        {
         "hovertemplate": "variable=predicted_consumption_new<br>time=%{x}<br>value=%{y}<extra></extra>",
         "legendgroup": "predicted_consumption_new",
         "line": {
          "color": "#00cc96",
          "dash": "solid"
         },
         "marker": {
          "symbol": "circle"
         },
         "mode": "lines",
         "name": "predicted_consumption_new",
         "orientation": "v",
         "showlegend": true,
         "x": [
          "2024-06-22T18:54:00",
          "2024-06-22T18:57:00",
          "2024-06-22T19:00:00",
          "2024-06-22T19:03:00",
          "2024-06-22T19:06:00",
          "2024-06-22T19:09:00",
          "2024-06-22T19:12:00",
          "2024-06-22T19:15:00",
          "2024-06-22T19:18:00",
          "2024-06-22T19:21:00",
          "2024-06-22T19:24:00",
          "2024-06-22T19:27:00",
          "2024-06-22T19:30:00",
          "2024-06-22T19:33:00",
          "2024-06-22T19:36:00",
          "2024-06-22T19:39:00",
          "2024-06-22T19:42:00",
          "2024-06-22T19:45:00",
          "2024-06-22T19:48:00",
          "2024-06-22T19:51:00",
          "2024-06-22T19:54:00",
          "2024-06-22T19:57:00",
          "2024-06-22T20:00:00",
          "2024-06-22T20:03:00",
          "2024-06-22T20:06:00",
          "2024-06-22T20:09:00",
          "2024-06-22T20:12:00",
          "2024-06-22T20:15:00",
          "2024-06-22T20:18:00",
          "2024-06-22T20:21:00",
          "2024-06-22T20:24:00",
          "2024-06-22T20:27:00",
          "2024-06-22T20:30:00",
          "2024-06-22T20:33:00",
          "2024-06-22T20:36:00",
          "2024-06-22T20:39:00",
          "2024-06-22T20:42:00",
          "2024-06-22T20:45:00",
          "2024-06-22T20:48:00",
          "2024-06-22T20:51:00",
          "2024-06-22T20:54:00",
          "2024-06-22T20:57:00",
          "2024-06-22T21:00:00",
          "2024-06-22T21:03:00",
          "2024-06-22T21:06:00",
          "2024-06-22T21:09:00",
          "2024-06-22T21:12:00",
          "2024-06-22T21:15:00",
          "2024-06-22T21:18:00",
          "2024-06-22T21:21:00",
          "2024-06-22T21:24:00",
          "2024-06-22T21:27:00",
          "2024-06-22T21:30:00",
          "2024-06-22T21:33:00",
          "2024-06-22T21:36:00",
          "2024-06-22T21:39:00",
          "2024-06-22T21:42:00",
          "2024-06-22T21:45:00",
          "2024-06-22T21:48:00",
          "2024-06-22T21:51:00",
          "2024-06-22T21:54:00",
          "2024-06-22T21:57:00",
          "2024-06-22T22:00:00",
          "2024-06-22T22:03:00",
          "2024-06-22T22:06:00",
          "2024-06-22T22:09:00",
          "2024-06-22T22:12:00",
          "2024-06-22T22:15:00",
          "2024-06-22T22:18:00",
          "2024-06-22T22:21:00",
          "2024-06-22T22:24:00",
          "2024-06-22T22:27:00",
          "2024-06-22T22:30:00",
          "2024-06-22T22:33:00",
          "2024-06-22T22:36:00",
          "2024-06-22T22:39:00",
          "2024-06-22T22:42:00",
          "2024-06-22T22:45:00",
          "2024-06-22T22:48:00",
          "2024-06-22T22:51:00",
          "2024-06-22T22:54:00",
          "2024-06-22T22:57:00",
          "2024-06-22T23:00:00",
          "2024-06-22T23:03:00",
          "2024-06-22T23:06:00",
          "2024-06-22T23:09:00",
          "2024-06-22T23:12:00",
          "2024-06-22T23:15:00",
          "2024-06-22T23:18:00",
          "2024-06-22T23:21:00",
          "2024-06-22T23:24:00",
          "2024-06-22T23:27:00",
          "2024-06-22T23:30:00",
          "2024-06-22T23:33:00",
          "2024-06-22T23:36:00",
          "2024-06-22T23:39:00",
          "2024-06-22T23:42:00",
          "2024-06-22T23:45:00",
          "2024-06-22T23:48:00",
          "2024-06-22T23:51:00",
          "2024-06-22T23:54:00",
          "2024-06-22T23:57:00",
          "2024-06-23T00:00:00",
          "2024-06-23T00:03:00",
          "2024-06-23T00:06:00",
          "2024-06-23T00:09:00",
          "2024-06-23T00:12:00",
          "2024-06-23T00:15:00",
          "2024-06-23T00:18:00",
          "2024-06-23T00:21:00",
          "2024-06-23T00:24:00",
          "2024-06-23T00:27:00",
          "2024-06-23T00:30:00",
          "2024-06-23T00:33:00",
          "2024-06-23T00:36:00",
          "2024-06-23T00:39:00",
          "2024-06-23T00:42:00",
          "2024-06-23T00:45:00",
          "2024-06-23T00:48:00",
          "2024-06-23T00:51:00",
          "2024-06-23T00:54:00",
          "2024-06-23T00:57:00",
          "2024-06-23T01:00:00",
          "2024-06-23T01:03:00",
          "2024-06-23T01:06:00",
          "2024-06-23T01:09:00",
          "2024-06-23T01:12:00",
          "2024-06-23T01:15:00",
          "2024-06-23T01:18:00",
          "2024-06-23T01:21:00",
          "2024-06-23T01:24:00",
          "2024-06-23T01:27:00",
          "2024-06-23T01:30:00",
          "2024-06-23T01:33:00",
          "2024-06-23T01:36:00",
          "2024-06-23T01:39:00",
          "2024-06-23T01:42:00",
          "2024-06-23T01:45:00",
          "2024-06-23T01:48:00",
          "2024-06-23T01:51:00",
          "2024-06-23T01:54:00",
          "2024-06-23T01:57:00",
          "2024-06-23T02:00:00",
          "2024-06-23T02:03:00",
          "2024-06-23T02:06:00",
          "2024-06-23T02:09:00",
          "2024-06-23T02:12:00",
          "2024-06-23T02:15:00",
          "2024-06-23T02:18:00",
          "2024-06-23T02:21:00",
          "2024-06-23T02:24:00",
          "2024-06-23T02:27:00",
          "2024-06-23T02:30:00",
          "2024-06-23T02:33:00",
          "2024-06-23T02:36:00",
          "2024-06-23T02:39:00",
          "2024-06-23T02:42:00",
          "2024-06-23T02:45:00",
          "2024-06-23T02:48:00",
          "2024-06-23T02:51:00",
          "2024-06-23T02:54:00",
          "2024-06-23T02:57:00",
          "2024-06-23T03:00:00",
          "2024-06-23T03:03:00",
          "2024-06-23T03:06:00",
          "2024-06-23T03:09:00",
          "2024-06-23T03:12:00",
          "2024-06-23T03:15:00",
          "2024-06-23T03:18:00",
          "2024-06-23T03:21:00",
          "2024-06-23T03:24:00",
          "2024-06-23T03:27:00",
          "2024-06-23T03:30:00",
          "2024-06-23T03:33:00",
          "2024-06-23T03:36:00",
          "2024-06-23T03:39:00",
          "2024-06-23T03:42:00",
          "2024-06-23T03:45:00",
          "2024-06-23T03:48:00",
          "2024-06-23T03:51:00",
          "2024-06-23T03:54:00",
          "2024-06-23T03:57:00",
          "2024-06-23T04:00:00",
          "2024-06-23T04:03:00",
          "2024-06-23T04:06:00",
          "2024-06-23T04:09:00",
          "2024-06-23T04:12:00",
          "2024-06-23T04:15:00",
          "2024-06-23T04:18:00",
          "2024-06-23T04:21:00",
          "2024-06-23T04:24:00",
          "2024-06-23T04:27:00",
          "2024-06-23T04:30:00",
          "2024-06-23T04:33:00",
          "2024-06-23T04:36:00",
          "2024-06-23T04:39:00",
          "2024-06-23T04:42:00",
          "2024-06-23T04:45:00",
          "2024-06-23T04:48:00",
          "2024-06-23T04:51:00",
          "2024-06-23T04:54:00",
          "2024-06-23T04:57:00",
          "2024-06-23T05:00:00",
          "2024-06-23T05:03:00",
          "2024-06-23T05:06:00",
          "2024-06-23T05:09:00",
          "2024-06-23T05:12:00",
          "2024-06-23T05:15:00",
          "2024-06-23T05:18:00",
          "2024-06-23T05:21:00",
          "2024-06-23T05:24:00",
          "2024-06-23T05:27:00",
          "2024-06-23T05:30:00",
          "2024-06-23T05:33:00",
          "2024-06-23T05:36:00",
          "2024-06-23T05:39:00",
          "2024-06-23T05:42:00",
          "2024-06-23T05:45:00",
          "2024-06-23T05:48:00",
          "2024-06-23T05:51:00",
          "2024-06-23T05:54:00",
          "2024-06-23T05:57:00",
          "2024-06-23T06:00:00",
          "2024-06-23T06:03:00",
          "2024-06-23T06:06:00",
          "2024-06-23T06:09:00",
          "2024-06-23T06:12:00",
          "2024-06-23T06:15:00",
          "2024-06-23T06:18:00",
          "2024-06-23T06:21:00",
          "2024-06-23T06:24:00",
          "2024-06-23T06:27:00",
          "2024-06-23T06:30:00",
          "2024-06-23T06:33:00",
          "2024-06-23T06:36:00",
          "2024-06-23T06:39:00",
          "2024-06-23T06:42:00",
          "2024-06-23T06:45:00",
          "2024-06-23T06:48:00",
          "2024-06-23T06:51:00",
          "2024-06-23T06:54:00",
          "2024-06-23T06:57:00",
          "2024-06-23T07:00:00",
          "2024-06-23T07:03:00",
          "2024-06-23T07:06:00",
          "2024-06-23T07:09:00",
          "2024-06-23T07:12:00",
          "2024-06-23T07:15:00",
          "2024-06-23T07:18:00",
          "2024-06-23T07:21:00",
          "2024-06-23T07:24:00",
          "2024-06-23T07:27:00",
          "2024-06-23T07:30:00",
          "2024-06-23T07:33:00",
          "2024-06-23T07:36:00",
          "2024-06-23T07:39:00",
          "2024-06-23T07:42:00",
          "2024-06-23T07:45:00"
         ],
         "xaxis": "x",
         "y": [
          1776.203125,
          1762.210449,
          1762.830566,
          1758.603516,
          1764.305908,
          1800.765503,
          1780.11145,
          1783.973999,
          1779.342896,
          1780.91650390625,
          1780.91650390625,
          1780.91650390625,
          1780.91650390625,
          1780.91650390625,
          1780.91650390625,
          1780.91650390625,
          1780.91650390625,
          1780.91650390625,
          1780.91650390625,
          1780.91650390625,
          1780.91650390625,
          1780.91650390625,
          1782.2857666015625,
          1784.7867431640625,
          1784.7867431640625,
          1784.7867431640625,
          1784.7867431640625,
          1784.7867431640625,
          1784.7867431640625,
          1784.7867431640625,
          1784.7867431640625,
          1784.7867431640625,
          1784.7867431640625,
          1784.7867431640625,
          1784.7867431640625,
          1784.7867431640625,
          1784.7867431640625,
          1784.7867431640625,
          1784.7867431640625,
          1784.7867431640625,
          1784.7867431640625,
          1784.7867431640625,
          1783.1422119140625,
          1783.1422119140625,
          1783.1422119140625,
          1783.1422119140625,
          1783.1422119140625,
          1783.1422119140625,
          1783.1422119140625,
          1783.1422119140625,
          1783.1422119140625,
          1783.1422119140625,
          1783.1422119140625,
          1783.1422119140625,
          1783.1422119140625,
          1783.1422119140625,
          1783.1422119140625,
          1783.1422119140625,
          1783.1422119140625,
          1783.1422119140625,
          1783.1422119140625,
          1783.1422119140625,
          1779.066162109375,
          1777.2947998046875,
          1773.6806640625,
          1771.6864013671875,
          1767.9124755859375,
          1763.808349609375,
          1760.2589111328125,
          1754.6934814453125,
          1751.8800048828125,
          1751.749755859375,
          1751.749755859375,
          1751.749755859375,
          1751.749755859375,
          1751.749755859375,
          1751.749755859375,
          1751.749755859375,
          1751.749755859375,
          1751.749755859375,
          1751.749755859375,
          1751.749755859375,
          1749.406005859375,
          1744.0797119140625,
          1739.91650390625,
          1736.110595703125,
          1729.595947265625,
          1723.764892578125,
          1717.4873046875,
          1712.067138671875,
          1705.787841796875,
          1701.016357421875,
          1694.8780517578125,
          1689.397705078125,
          1683.9664306640625,
          1678.0838623046875,
          1673.87451171875,
          1666.38134765625,
          1657.327392578125,
          1650.57421875,
          1644.7867431640625,
          1638.2738037109375,
          1630.43310546875,
          1625.6895751953125,
          1620.4114990234375,
          1614.533447265625,
          1608.84619140625,
          1603.2681884765625,
          1596.634765625,
          1588.692626953125,
          1583.8560791015625,
          1576.9652099609375,
          1568.8016357421875,
          1561.6893310546875,
          1556.01416015625,
          1549.44287109375,
          1542.2906494140625,
          1536.9036865234375,
          1530.6632080078125,
          1523.635498046875,
          1517.4278564453125,
          1512.5841064453125,
          1506.1844482421875,
          1499.0089111328125,
          1494.3424072265625,
          1486.7152099609375,
          1480.6297607421875,
          1475.689208984375,
          1468.8233642578125,
          1465.080322265625,
          1461.81494140625,
          1458.0064697265625,
          1453.17724609375,
          1449.4232177734375,
          1445.6319580078125,
          1442.7034912109375,
          1438.3424072265625,
          1433.3988037109375,
          1429.39501953125,
          1426.100341796875,
          1420.174560546875,
          1417.603271484375,
          1411.6102294921875,
          1408.07470703125,
          1403.2197265625,
          1398.648193359375,
          1395.650634765625,
          1390.33642578125,
          1386.49609375,
          1382.7967529296875,
          1377.3956298828125,
          1373.3712158203125,
          1367.9942626953125,
          1364.1087646484375,
          1358.9688720703125,
          1355.34130859375,
          1350.389892578125,
          1346.0611572265625,
          1340.5916748046875,
          1336.8436279296875,
          1331.6827392578125,
          1328.484130859375,
          1325.2198486328125,
          1325.2198486328125,
          1325.2198486328125,
          1325.2198486328125,
          1325.2198486328125,
          1325.2198486328125,
          1325.2198486328125,
          1325.2198486328125,
          1325.2198486328125,
          1325.2198486328125,
          1325.2198486328125,
          1325.2198486328125,
          1325.2198486328125,
          1325.2198486328125,
          1325.2198486328125,
          1325.2198486328125,
          1325.2198486328125,
          1325.2198486328125,
          1325.2198486328125,
          1325.2198486328125,
          1325.2742919921875,
          1325.2742919921875,
          1325.2742919921875,
          1325.2742919921875,
          1325.2742919921875,
          1325.2742919921875,
          1325.2742919921875,
          1325.2742919921875,
          1325.2742919921875,
          1325.2742919921875,
          1325.2742919921875,
          1325.2742919921875,
          1325.2742919921875,
          1325.2742919921875,
          1325.2742919921875,
          1325.2742919921875,
          1325.2742919921875,
          1325.2742919921875,
          1325.2742919921875,
          1325.2742919921875,
          1325.6590576171875,
          1325.6590576171875,
          1325.6590576171875,
          1325.6590576171875,
          1325.6590576171875,
          1325.6590576171875,
          1325.6590576171875,
          1325.6590576171875,
          1325.6590576171875,
          1325.6590576171875,
          1325.6590576171875,
          1325.6590576171875,
          1325.6590576171875,
          1325.6590576171875,
          1325.6590576171875,
          1325.6590576171875,
          1325.6590576171875,
          1325.6590576171875,
          1325.6590576171875,
          1325.6590576171875,
          1327.8692626953125,
          1327.8692626953125,
          1327.8692626953125,
          1327.8692626953125,
          1327.8692626953125,
          1327.8692626953125,
          1327.8692626953125,
          1327.8692626953125,
          1327.8692626953125,
          1327.8692626953125,
          1327.8692626953125,
          1327.8692626953125,
          1327.8692626953125,
          1327.8692626953125,
          1327.8692626953125,
          1327.8692626953125,
          1327.8692626953125,
          1327.8692626953125,
          1327.8692626953125,
          1327.8692626953125,
          1331.9661865234375,
          1336.3348388671875,
          1339.7059326171875,
          1344.6248779296875,
          1348.133544921875,
          1353.5125732421875,
          1357.716796875,
          1363.003173828125,
          1367.0592041015625,
          1372.640380859375,
          1376.687744140625,
          1381.5318603515625,
          1384.9530029296875,
          1389.917724609375,
          1393.5684814453125,
          1397.4088134765625
         ],
         "yaxis": "y",
         "type": "scatter"
        }
       ],
       "layout": {
        "template": {
         "data": {
          "histogram2dcontour": [
           {
            "type": "histogram2dcontour",
            "colorbar": {
             "outlinewidth": 0,
             "ticks": ""
            },
            "colorscale": [
             [
              0.0,
              "#0d0887"
             ],
             [
              0.1111111111111111,
              "#46039f"
             ],
             [
              0.2222222222222222,
              "#7201a8"
             ],
             [
              0.3333333333333333,
              "#9c179e"
             ],
             [
              0.4444444444444444,
              "#bd3786"
             ],
             [
              0.5555555555555556,
              "#d8576b"
             ],
             [
              0.6666666666666666,
              "#ed7953"
             ],
             [
              0.7777777777777778,
              "#fb9f3a"
             ],
             [
              0.8888888888888888,
              "#fdca26"
             ],
             [
              1.0,
              "#f0f921"
             ]
            ]
           }
          ],
          "choropleth": [
           {
            "type": "choropleth",
            "colorbar": {
             "outlinewidth": 0,
             "ticks": ""
            }
           }
          ],
          "histogram2d": [
           {
            "type": "histogram2d",
            "colorbar": {
             "outlinewidth": 0,
             "ticks": ""
            },
            "colorscale": [
             [
              0.0,
              "#0d0887"
             ],
             [
              0.1111111111111111,
              "#46039f"
             ],
             [
              0.2222222222222222,
              "#7201a8"
             ],
             [
              0.3333333333333333,
              "#9c179e"
             ],
             [
              0.4444444444444444,
              "#bd3786"
             ],
             [
              0.5555555555555556,
              "#d8576b"
             ],
             [
              0.6666666666666666,
              "#ed7953"
             ],
             [
              0.7777777777777778,
              "#fb9f3a"
             ],
             [
              0.8888888888888888,
              "#fdca26"
             ],
             [
              1.0,
              "#f0f921"
             ]
            ]
           }
          ],
          "heatmap": [
           {
            "type": "heatmap",
            "colorbar": {
             "outlinewidth": 0,
             "ticks": ""
            },
            "colorscale": [
             [
              0.0,
              "#0d0887"
             ],
             [
              0.1111111111111111,
              "#46039f"
             ],
             [
              0.2222222222222222,
              "#7201a8"
             ],
             [
              0.3333333333333333,
              "#9c179e"
             ],
             [
              0.4444444444444444,
              "#bd3786"
             ],
             [
              0.5555555555555556,
              "#d8576b"
             ],
             [
              0.6666666666666666,
              "#ed7953"
             ],
             [
              0.7777777777777778,
              "#fb9f3a"
             ],
             [
              0.8888888888888888,
              "#fdca26"
             ],
             [
              1.0,
              "#f0f921"
             ]
            ]
           }
          ],
          "heatmapgl": [
           {
            "type": "heatmapgl",
            "colorbar": {
             "outlinewidth": 0,
             "ticks": ""
            },
            "colorscale": [
             [
              0.0,
              "#0d0887"
             ],
             [
              0.1111111111111111,
              "#46039f"
             ],
             [
              0.2222222222222222,
              "#7201a8"
             ],
             [
              0.3333333333333333,
              "#9c179e"
             ],
             [
              0.4444444444444444,
              "#bd3786"
             ],
             [
              0.5555555555555556,
              "#d8576b"
             ],
             [
              0.6666666666666666,
              "#ed7953"
             ],
             [
              0.7777777777777778,
              "#fb9f3a"
             ],
             [
              0.8888888888888888,
              "#fdca26"
             ],
             [
              1.0,
              "#f0f921"
             ]
            ]
           }
          ],
          "contourcarpet": [
           {
            "type": "contourcarpet",
            "colorbar": {
             "outlinewidth": 0,
             "ticks": ""
            }
           }
          ],
          "contour": [
           {
            "type": "contour",
            "colorbar": {
             "outlinewidth": 0,
             "ticks": ""
            },
            "colorscale": [
             [
              0.0,
              "#0d0887"
             ],
             [
              0.1111111111111111,
              "#46039f"
             ],
             [
              0.2222222222222222,
              "#7201a8"
             ],
             [
              0.3333333333333333,
              "#9c179e"
             ],
             [
              0.4444444444444444,
              "#bd3786"
             ],
             [
              0.5555555555555556,
              "#d8576b"
             ],
             [
              0.6666666666666666,
              "#ed7953"
             ],
             [
              0.7777777777777778,
              "#fb9f3a"
             ],
             [
              0.8888888888888888,
              "#fdca26"
             ],
             [
              1.0,
              "#f0f921"
             ]
            ]
           }
          ],
          "surface": [
           {
            "type": "surface",
            "colorbar": {
             "outlinewidth": 0,
             "ticks": ""
            },
            "colorscale": [
             [
              0.0,
              "#0d0887"
             ],
             [
              0.1111111111111111,
              "#46039f"
             ],
             [
              0.2222222222222222,
              "#7201a8"
             ],
             [
              0.3333333333333333,
              "#9c179e"
             ],
             [
              0.4444444444444444,
              "#bd3786"
             ],
             [
              0.5555555555555556,
              "#d8576b"
             ],
             [
              0.6666666666666666,
              "#ed7953"
             ],
             [
              0.7777777777777778,
              "#fb9f3a"
             ],
             [
              0.8888888888888888,
              "#fdca26"
             ],
             [
              1.0,
              "#f0f921"
             ]
            ]
           }
          ],
          "mesh3d": [
           {
            "type": "mesh3d",
            "colorbar": {
             "outlinewidth": 0,
             "ticks": ""
            }
           }
          ],
          "scatter": [
           {
            "marker": {
             "line": {
              "color": "#283442"
             }
            },
            "type": "scatter"
           }
          ],
          "parcoords": [
           {
            "type": "parcoords",
            "line": {
             "colorbar": {
              "outlinewidth": 0,
              "ticks": ""
             }
            }
           }
          ],
          "scatterpolargl": [
           {
            "type": "scatterpolargl",
            "marker": {
             "colorbar": {
              "outlinewidth": 0,
              "ticks": ""
             }
            }
           }
          ],
          "bar": [
           {
            "error_x": {
             "color": "#f2f5fa"
            },
            "error_y": {
             "color": "#f2f5fa"
            },
            "marker": {
             "line": {
              "color": "rgb(17,17,17)",
              "width": 0.5
             },
             "pattern": {
              "fillmode": "overlay",
              "size": 10,
              "solidity": 0.2
             }
            },
            "type": "bar"
           }
          ],
          "scattergeo": [
           {
            "type": "scattergeo",
            "marker": {
             "colorbar": {
              "outlinewidth": 0,
              "ticks": ""
             }
            }
           }
          ],
          "scatterpolar": [
           {
            "type": "scatterpolar",
            "marker": {
             "colorbar": {
              "outlinewidth": 0,
              "ticks": ""
             }
            }
           }
          ],
          "histogram": [
           {
            "marker": {
             "pattern": {
              "fillmode": "overlay",
              "size": 10,
              "solidity": 0.2
             }
            },
            "type": "histogram"
           }
          ],
          "scattergl": [
           {
            "marker": {
             "line": {
              "color": "#283442"
             }
            },
            "type": "scattergl"
           }
          ],
          "scatter3d": [
           {
            "type": "scatter3d",
            "line": {
             "colorbar": {
              "outlinewidth": 0,
              "ticks": ""
             }
            },
            "marker": {
             "colorbar": {
              "outlinewidth": 0,
              "ticks": ""
             }
            }
           }
          ],
          "scattermapbox": [
           {
            "type": "scattermapbox",
            "marker": {
             "colorbar": {
              "outlinewidth": 0,
              "ticks": ""
             }
            }
           }
          ],
          "scatterternary": [
           {
            "type": "scatterternary",
            "marker": {
             "colorbar": {
              "outlinewidth": 0,
              "ticks": ""
             }
            }
           }
          ],
          "scattercarpet": [
           {
            "type": "scattercarpet",
            "marker": {
             "colorbar": {
              "outlinewidth": 0,
              "ticks": ""
             }
            }
           }
          ],
          "carpet": [
           {
            "aaxis": {
             "endlinecolor": "#A2B1C6",
             "gridcolor": "#506784",
             "linecolor": "#506784",
             "minorgridcolor": "#506784",
             "startlinecolor": "#A2B1C6"
            },
            "baxis": {
             "endlinecolor": "#A2B1C6",
             "gridcolor": "#506784",
             "linecolor": "#506784",
             "minorgridcolor": "#506784",
             "startlinecolor": "#A2B1C6"
            },
            "type": "carpet"
           }
          ],
          "table": [
           {
            "cells": {
             "fill": {
              "color": "#506784"
             },
             "line": {
              "color": "rgb(17,17,17)"
             }
            },
            "header": {
             "fill": {
              "color": "#2a3f5f"
             },
             "line": {
              "color": "rgb(17,17,17)"
             }
            },
            "type": "table"
           }
          ],
          "barpolar": [
           {
            "marker": {
             "line": {
              "color": "rgb(17,17,17)",
              "width": 0.5
             },
             "pattern": {
              "fillmode": "overlay",
              "size": 10,
              "solidity": 0.2
             }
            },
            "type": "barpolar"
           }
          ],
          "pie": [
           {
            "automargin": true,
            "type": "pie"
           }
          ]
         },
         "layout": {
          "autotypenumbers": "strict",
          "colorway": [
           "#636efa",
           "#EF553B",
           "#00cc96",
           "#ab63fa",
           "#FFA15A",
           "#19d3f3",
           "#FF6692",
           "#B6E880",
           "#FF97FF",
           "#FECB52"
          ],
          "font": {
           "color": "#f2f5fa"
          },
          "hovermode": "closest",
          "hoverlabel": {
           "align": "left"
          },
          "paper_bgcolor": "rgb(17,17,17)",
          "plot_bgcolor": "rgb(17,17,17)",
          "polar": {
           "bgcolor": "rgb(17,17,17)",
           "angularaxis": {
            "gridcolor": "#506784",
            "linecolor": "#506784",
            "ticks": ""
           },
           "radialaxis": {
            "gridcolor": "#506784",
            "linecolor": "#506784",
            "ticks": ""
           }
          },
          "ternary": {
           "bgcolor": "rgb(17,17,17)",
           "aaxis": {
            "gridcolor": "#506784",
            "linecolor": "#506784",
            "ticks": ""
           },
           "baxis": {
            "gridcolor": "#506784",
            "linecolor": "#506784",
            "ticks": ""
           },
           "caxis": {
            "gridcolor": "#506784",
            "linecolor": "#506784",
            "ticks": ""
           }
          },
          "coloraxis": {
           "colorbar": {
            "outlinewidth": 0,
            "ticks": ""
           }
          },
          "colorscale": {
           "sequential": [
            [
             0.0,
             "#0d0887"
            ],
            [
             0.1111111111111111,
             "#46039f"
            ],
            [
             0.2222222222222222,
             "#7201a8"
            ],
            [
             0.3333333333333333,
             "#9c179e"
            ],
            [
             0.4444444444444444,
             "#bd3786"
            ],
            [
             0.5555555555555556,
             "#d8576b"
            ],
            [
             0.6666666666666666,
             "#ed7953"
            ],
            [
             0.7777777777777778,
             "#fb9f3a"
            ],
            [
             0.8888888888888888,
             "#fdca26"
            ],
            [
             1.0,
             "#f0f921"
            ]
           ],
           "sequentialminus": [
            [
             0.0,
             "#0d0887"
            ],
            [
             0.1111111111111111,
             "#46039f"
            ],
            [
             0.2222222222222222,
             "#7201a8"
            ],
            [
             0.3333333333333333,
             "#9c179e"
            ],
            [
             0.4444444444444444,
             "#bd3786"
            ],
            [
             0.5555555555555556,
             "#d8576b"
            ],
            [
             0.6666666666666666,
             "#ed7953"
            ],
            [
             0.7777777777777778,
             "#fb9f3a"
            ],
            [
             0.8888888888888888,
             "#fdca26"
            ],
            [
             1.0,
             "#f0f921"
            ]
           ],
           "diverging": [
            [
             0,
             "#8e0152"
            ],
            [
             0.1,
             "#c51b7d"
            ],
            [
             0.2,
             "#de77ae"
            ],
            [
             0.3,
             "#f1b6da"
            ],
            [
             0.4,
             "#fde0ef"
            ],
            [
             0.5,
             "#f7f7f7"
            ],
            [
             0.6,
             "#e6f5d0"
            ],
            [
             0.7,
             "#b8e186"
            ],
            [
             0.8,
             "#7fbc41"
            ],
            [
             0.9,
             "#4d9221"
            ],
            [
             1,
             "#276419"
            ]
           ]
          },
          "xaxis": {
           "gridcolor": "#283442",
           "linecolor": "#506784",
           "ticks": "",
           "title": {
            "standoff": 15
           },
           "zerolinecolor": "#283442",
           "automargin": true,
           "zerolinewidth": 2
          },
          "yaxis": {
           "gridcolor": "#283442",
           "linecolor": "#506784",
           "ticks": "",
           "title": {
            "standoff": 15
           },
           "zerolinecolor": "#283442",
           "automargin": true,
           "zerolinewidth": 2
          },
          "scene": {
           "xaxis": {
            "backgroundcolor": "rgb(17,17,17)",
            "gridcolor": "#506784",
            "linecolor": "#506784",
            "showbackground": true,
            "ticks": "",
            "zerolinecolor": "#C8D4E3",
            "gridwidth": 2
           },
           "yaxis": {
            "backgroundcolor": "rgb(17,17,17)",
            "gridcolor": "#506784",
            "linecolor": "#506784",
            "showbackground": true,
            "ticks": "",
            "zerolinecolor": "#C8D4E3",
            "gridwidth": 2
           },
           "zaxis": {
            "backgroundcolor": "rgb(17,17,17)",
            "gridcolor": "#506784",
            "linecolor": "#506784",
            "showbackground": true,
            "ticks": "",
            "zerolinecolor": "#C8D4E3",
            "gridwidth": 2
           }
          },
          "shapedefaults": {
           "line": {
            "color": "#f2f5fa"
           }
          },
          "annotationdefaults": {
           "arrowcolor": "#f2f5fa",
           "arrowhead": 0,
           "arrowwidth": 1
          },
          "geo": {
           "bgcolor": "rgb(17,17,17)",
           "landcolor": "rgb(17,17,17)",
           "subunitcolor": "#506784",
           "showland": true,
           "showlakes": true,
           "lakecolor": "rgb(17,17,17)"
          },
          "title": {
           "x": 0.05
          },
          "updatemenudefaults": {
           "bgcolor": "#506784",
           "borderwidth": 0
          },
          "sliderdefaults": {
           "bgcolor": "#C8D4E3",
           "borderwidth": 1,
           "bordercolor": "rgb(17,17,17)",
           "tickwidth": 0
          },
          "mapbox": {
           "style": "dark"
          }
         }
        },
        "xaxis": {
         "anchor": "y",
         "domain": [
          0.0,
          1.0
         ],
         "title": {
          "text": "Timestamp"
         },
         "rangeslider": {
          "visible": true
         }
        },
        "yaxis": {
         "anchor": "x",
         "domain": [
          0.0,
          1.0
         ],
         "title": {
          "text": "Values"
         }
        },
        "legend": {
         "title": {
          "text": "Legend"
         },
         "tracegroupgap": 0
        },
        "title": {
         "text": "Interactive Time Series Plot"
        }
       },
       "config": {
        "plotlyServerURL": "https://plot.ly"
       }
      },
      "text/html": [
       "<div>                            <div id=\"770a59a8-8af9-4a1f-b560-45de56882062\" class=\"plotly-graph-div\" style=\"height:525px; width:100%;\"></div>            <script type=\"text/javascript\">                require([\"plotly\"], function(Plotly) {                    window.PLOTLYENV=window.PLOTLYENV || {};                                    if (document.getElementById(\"770a59a8-8af9-4a1f-b560-45de56882062\")) {                    Plotly.newPlot(                        \"770a59a8-8af9-4a1f-b560-45de56882062\",                        [{\"hovertemplate\":\"variable=real_consumption\\u003cbr\\u003etime=%{x}\\u003cbr\\u003evalue=%{y}\\u003cextra\\u003e\\u003c\\u002fextra\\u003e\",\"legendgroup\":\"real_consumption\",\"line\":{\"color\":\"#636efa\",\"dash\":\"solid\"},\"marker\":{\"symbol\":\"circle\"},\"mode\":\"lines\",\"name\":\"real_consumption\",\"orientation\":\"v\",\"showlegend\":true,\"x\":[\"2024-06-22T18:54:00\",\"2024-06-22T18:57:00\",\"2024-06-22T19:00:00\",\"2024-06-22T19:03:00\",\"2024-06-22T19:06:00\",\"2024-06-22T19:09:00\",\"2024-06-22T19:12:00\",\"2024-06-22T19:15:00\",\"2024-06-22T19:18:00\",\"2024-06-22T19:21:00\",\"2024-06-22T19:24:00\",\"2024-06-22T19:27:00\",\"2024-06-22T19:30:00\",\"2024-06-22T19:33:00\",\"2024-06-22T19:36:00\",\"2024-06-22T19:39:00\",\"2024-06-22T19:42:00\",\"2024-06-22T19:45:00\",\"2024-06-22T19:48:00\",\"2024-06-22T19:51:00\",\"2024-06-22T19:54:00\",\"2024-06-22T19:57:00\",\"2024-06-22T20:00:00\",\"2024-06-22T20:03:00\",\"2024-06-22T20:06:00\",\"2024-06-22T20:09:00\",\"2024-06-22T20:12:00\",\"2024-06-22T20:15:00\",\"2024-06-22T20:18:00\",\"2024-06-22T20:21:00\",\"2024-06-22T20:24:00\",\"2024-06-22T20:27:00\",\"2024-06-22T20:30:00\",\"2024-06-22T20:33:00\",\"2024-06-22T20:36:00\",\"2024-06-22T20:39:00\",\"2024-06-22T20:42:00\",\"2024-06-22T20:45:00\",\"2024-06-22T20:48:00\",\"2024-06-22T20:51:00\",\"2024-06-22T20:54:00\",\"2024-06-22T20:57:00\",\"2024-06-22T21:00:00\",\"2024-06-22T21:03:00\",\"2024-06-22T21:06:00\",\"2024-06-22T21:09:00\",\"2024-06-22T21:12:00\",\"2024-06-22T21:15:00\",\"2024-06-22T21:18:00\",\"2024-06-22T21:21:00\",\"2024-06-22T21:24:00\",\"2024-06-22T21:27:00\",\"2024-06-22T21:30:00\",\"2024-06-22T21:33:00\",\"2024-06-22T21:36:00\",\"2024-06-22T21:39:00\",\"2024-06-22T21:42:00\",\"2024-06-22T21:45:00\",\"2024-06-22T21:48:00\",\"2024-06-22T21:51:00\",\"2024-06-22T21:54:00\",\"2024-06-22T21:57:00\",\"2024-06-22T22:00:00\",\"2024-06-22T22:03:00\",\"2024-06-22T22:06:00\",\"2024-06-22T22:09:00\",\"2024-06-22T22:12:00\",\"2024-06-22T22:15:00\",\"2024-06-22T22:18:00\",\"2024-06-22T22:21:00\",\"2024-06-22T22:24:00\",\"2024-06-22T22:27:00\",\"2024-06-22T22:30:00\",\"2024-06-22T22:33:00\",\"2024-06-22T22:36:00\",\"2024-06-22T22:39:00\",\"2024-06-22T22:42:00\",\"2024-06-22T22:45:00\",\"2024-06-22T22:48:00\",\"2024-06-22T22:51:00\",\"2024-06-22T22:54:00\",\"2024-06-22T22:57:00\",\"2024-06-22T23:00:00\",\"2024-06-22T23:03:00\",\"2024-06-22T23:06:00\",\"2024-06-22T23:09:00\",\"2024-06-22T23:12:00\",\"2024-06-22T23:15:00\",\"2024-06-22T23:18:00\",\"2024-06-22T23:21:00\",\"2024-06-22T23:24:00\",\"2024-06-22T23:27:00\",\"2024-06-22T23:30:00\",\"2024-06-22T23:33:00\",\"2024-06-22T23:36:00\",\"2024-06-22T23:39:00\",\"2024-06-22T23:42:00\",\"2024-06-22T23:45:00\",\"2024-06-22T23:48:00\",\"2024-06-22T23:51:00\",\"2024-06-22T23:54:00\",\"2024-06-22T23:57:00\",\"2024-06-23T00:00:00\",\"2024-06-23T00:03:00\",\"2024-06-23T00:06:00\",\"2024-06-23T00:09:00\",\"2024-06-23T00:12:00\",\"2024-06-23T00:15:00\",\"2024-06-23T00:18:00\",\"2024-06-23T00:21:00\",\"2024-06-23T00:24:00\",\"2024-06-23T00:27:00\",\"2024-06-23T00:30:00\",\"2024-06-23T00:33:00\",\"2024-06-23T00:36:00\",\"2024-06-23T00:39:00\",\"2024-06-23T00:42:00\",\"2024-06-23T00:45:00\",\"2024-06-23T00:48:00\",\"2024-06-23T00:51:00\",\"2024-06-23T00:54:00\",\"2024-06-23T00:57:00\",\"2024-06-23T01:00:00\",\"2024-06-23T01:03:00\",\"2024-06-23T01:06:00\",\"2024-06-23T01:09:00\",\"2024-06-23T01:12:00\",\"2024-06-23T01:15:00\",\"2024-06-23T01:18:00\",\"2024-06-23T01:21:00\",\"2024-06-23T01:24:00\",\"2024-06-23T01:27:00\",\"2024-06-23T01:30:00\",\"2024-06-23T01:33:00\",\"2024-06-23T01:36:00\",\"2024-06-23T01:39:00\",\"2024-06-23T01:42:00\",\"2024-06-23T01:45:00\",\"2024-06-23T01:48:00\",\"2024-06-23T01:51:00\",\"2024-06-23T01:54:00\",\"2024-06-23T01:57:00\",\"2024-06-23T02:00:00\",\"2024-06-23T02:03:00\",\"2024-06-23T02:06:00\",\"2024-06-23T02:09:00\",\"2024-06-23T02:12:00\",\"2024-06-23T02:15:00\",\"2024-06-23T02:18:00\",\"2024-06-23T02:21:00\",\"2024-06-23T02:24:00\",\"2024-06-23T02:27:00\",\"2024-06-23T02:30:00\",\"2024-06-23T02:33:00\",\"2024-06-23T02:36:00\",\"2024-06-23T02:39:00\",\"2024-06-23T02:42:00\",\"2024-06-23T02:45:00\",\"2024-06-23T02:48:00\",\"2024-06-23T02:51:00\",\"2024-06-23T02:54:00\",\"2024-06-23T02:57:00\",\"2024-06-23T03:00:00\",\"2024-06-23T03:03:00\",\"2024-06-23T03:06:00\",\"2024-06-23T03:09:00\",\"2024-06-23T03:12:00\",\"2024-06-23T03:15:00\",\"2024-06-23T03:18:00\",\"2024-06-23T03:21:00\",\"2024-06-23T03:24:00\",\"2024-06-23T03:27:00\",\"2024-06-23T03:30:00\",\"2024-06-23T03:33:00\",\"2024-06-23T03:36:00\",\"2024-06-23T03:39:00\",\"2024-06-23T03:42:00\",\"2024-06-23T03:45:00\",\"2024-06-23T03:48:00\",\"2024-06-23T03:51:00\",\"2024-06-23T03:54:00\",\"2024-06-23T03:57:00\",\"2024-06-23T04:00:00\",\"2024-06-23T04:03:00\",\"2024-06-23T04:06:00\",\"2024-06-23T04:09:00\",\"2024-06-23T04:12:00\",\"2024-06-23T04:15:00\",\"2024-06-23T04:18:00\",\"2024-06-23T04:21:00\",\"2024-06-23T04:24:00\",\"2024-06-23T04:27:00\",\"2024-06-23T04:30:00\",\"2024-06-23T04:33:00\",\"2024-06-23T04:36:00\",\"2024-06-23T04:39:00\",\"2024-06-23T04:42:00\",\"2024-06-23T04:45:00\",\"2024-06-23T04:48:00\",\"2024-06-23T04:51:00\",\"2024-06-23T04:54:00\",\"2024-06-23T04:57:00\",\"2024-06-23T05:00:00\",\"2024-06-23T05:03:00\",\"2024-06-23T05:06:00\",\"2024-06-23T05:09:00\",\"2024-06-23T05:12:00\",\"2024-06-23T05:15:00\",\"2024-06-23T05:18:00\",\"2024-06-23T05:21:00\",\"2024-06-23T05:24:00\",\"2024-06-23T05:27:00\",\"2024-06-23T05:30:00\",\"2024-06-23T05:33:00\",\"2024-06-23T05:36:00\",\"2024-06-23T05:39:00\",\"2024-06-23T05:42:00\",\"2024-06-23T05:45:00\",\"2024-06-23T05:48:00\",\"2024-06-23T05:51:00\",\"2024-06-23T05:54:00\",\"2024-06-23T05:57:00\",\"2024-06-23T06:00:00\",\"2024-06-23T06:03:00\",\"2024-06-23T06:06:00\",\"2024-06-23T06:09:00\",\"2024-06-23T06:12:00\",\"2024-06-23T06:15:00\",\"2024-06-23T06:18:00\",\"2024-06-23T06:21:00\",\"2024-06-23T06:24:00\",\"2024-06-23T06:27:00\",\"2024-06-23T06:30:00\",\"2024-06-23T06:33:00\",\"2024-06-23T06:36:00\",\"2024-06-23T06:39:00\",\"2024-06-23T06:42:00\",\"2024-06-23T06:45:00\",\"2024-06-23T06:48:00\",\"2024-06-23T06:51:00\",\"2024-06-23T06:54:00\",\"2024-06-23T06:57:00\",\"2024-06-23T07:00:00\",\"2024-06-23T07:03:00\",\"2024-06-23T07:06:00\",\"2024-06-23T07:09:00\",\"2024-06-23T07:12:00\",\"2024-06-23T07:15:00\",\"2024-06-23T07:18:00\",\"2024-06-23T07:21:00\",\"2024-06-23T07:24:00\",\"2024-06-23T07:27:00\",\"2024-06-23T07:30:00\",\"2024-06-23T07:33:00\",\"2024-06-23T07:36:00\",\"2024-06-23T07:39:00\",\"2024-06-23T07:42:00\",\"2024-06-23T07:45:00\"],\"xaxis\":\"x\",\"y\":[1776.203125,1762.210449,1762.830566,1758.603516,1764.305908,1800.765503,1780.11145,1783.973999,1779.342896,1767.091309,1785.483521,1782.075684,1789.092407,1802.288208,1819.079712,1764.229126,1780.969482,1795.591553,1777.523315,1779.096558,1802.50415,1775.125488,1780.734009,1796.635254,1760.405884,1773.079224,1777.640137,1778.379028,1764.579712,1760.221558,1760.988525,1768.915405,1783.414185,1742.678833,1735.918579,1754.888062,1724.926392,1726.203857,1741.106201,1723.791626,1760.096924,1778.1604,1761.834229,1765.294312,1797.282959,1803.99353,1812.269409,1792.184692,1787.763184,1805.60083,1809.269043,1795.103149,1814.827026,1820.184937,1814.370605,1791.078857,1797.478638,1818.952026,1790.829712,1779.280029,1798.301025,1794.5896,1766.768433,1793.041626,1794.275391,1785.864746,1767.280518,1742.411865,1745.721313,1755.21582,1758.070435,1761.592896,1733.55249,1748.490601,1755.893799,1740.160645,1734.730347,1752.122559,1722.23938,1711.986938,1720.778442,1699.918945,1691.699951,1707.653442,1696.976685,1673.887451,1659.972046,1665.759033,1678.620117,1673.246582,1638.036865,1665.009399,1644.993286,1614.156128,1620.637329,1620.747192,1588.975342,1602.884033,1606.760986,1600.939087,1580.408447,1558.789185,1552.897095,1567.696655,1535.208984,1520.277222,1535.592407,1533.432251,1482.527466,1496.679565,1514.114624,1483.53125,1466.47937,1491.385986,1489.644409,1474.0177,1455.556885,1442.238403,1432.210083,1452.774536,1437.624634,1417.106567,1452.123047,1434.258789,1417.375488,1431.695801,1425.275635,1379.117798,1376.229858,1391.87915,1383.408203,1378.084229,1347.845337,1341.858398,1339.478271,1344.218628,1364.779297,1368.894653,1335.082153,1356.459106,1338.667358,1333.362427,1353.858032,1347.906372,1323.477051,1350.764893,1346.786865,1323.704102,1346.31897,1340.120117,1334.361572,1306.708374,1301.133301,1331.465942,1323.751099,1295.155029,1325.153076,1324.081421,1311.872925,1290.23938,1297.702759,1322.301758,1314.733643,1290.769653,1320.923096,1309.610596,1288.711304,1307.129639,1309.312134,1304.599487,1272.946411,1268.349365,1288.245605,1309.878662,1292.311157,1293.666138,1312.918579,1295.062744,1305.846436,1323.11499,1305.89978,1299.360596,1308.452026,1276.562378,1297.500732,1315.170532,1322.958496,1311.525513,1286.759521,1269.001221,1273.553589,1295.061279,1283.527588,1300.43457,1278.567749,1308.942749,1313.663696,1290.441284,1322.372559,1320.130371,1291.761353,1291.49585,1317.213989,1299.513428,1295.304688,1320.374878,1327.28418,1326.979004,1310.845459,1271.339722,1286.991333,1319.04834,1293.6604,1287.020142,1269.897461,1314.419067,1283.950562,1274.700928,1288.648804,1295.337891,1278.320679,1261.692017,1288.203003,1266.882324,1261.797241,1245.652222,1244.666382,1251.046509,1249.217651,1243.596558,1247.55957,1245.822266,1240.338379,1236.209839,1245.598633,1255.093262,1255.301392,1267.372925,1264.693237,1258.977783,1263.028931,1277.058472,1299.22168,1299.322266,1314.467041,1306.606934,1328.348999,1325.62915,1327.892334,1323.013794,1331.258667,1323.651855,1343.041626,1354.28125,1357.070435,1339.581787,1352.922974,1340.591553],\"yaxis\":\"y\",\"type\":\"scatter\"},{\"hovertemplate\":\"variable=predicted_consumption\\u003cbr\\u003etime=%{x}\\u003cbr\\u003evalue=%{y}\\u003cextra\\u003e\\u003c\\u002fextra\\u003e\",\"legendgroup\":\"predicted_consumption\",\"line\":{\"color\":\"#EF553B\",\"dash\":\"solid\"},\"marker\":{\"symbol\":\"circle\"},\"mode\":\"lines\",\"name\":\"predicted_consumption\",\"orientation\":\"v\",\"showlegend\":true,\"x\":[\"2024-06-22T18:54:00\",\"2024-06-22T18:57:00\",\"2024-06-22T19:00:00\",\"2024-06-22T19:03:00\",\"2024-06-22T19:06:00\",\"2024-06-22T19:09:00\",\"2024-06-22T19:12:00\",\"2024-06-22T19:15:00\",\"2024-06-22T19:18:00\",\"2024-06-22T19:21:00\",\"2024-06-22T19:24:00\",\"2024-06-22T19:27:00\",\"2024-06-22T19:30:00\",\"2024-06-22T19:33:00\",\"2024-06-22T19:36:00\",\"2024-06-22T19:39:00\",\"2024-06-22T19:42:00\",\"2024-06-22T19:45:00\",\"2024-06-22T19:48:00\",\"2024-06-22T19:51:00\",\"2024-06-22T19:54:00\",\"2024-06-22T19:57:00\",\"2024-06-22T20:00:00\",\"2024-06-22T20:03:00\",\"2024-06-22T20:06:00\",\"2024-06-22T20:09:00\",\"2024-06-22T20:12:00\",\"2024-06-22T20:15:00\",\"2024-06-22T20:18:00\",\"2024-06-22T20:21:00\",\"2024-06-22T20:24:00\",\"2024-06-22T20:27:00\",\"2024-06-22T20:30:00\",\"2024-06-22T20:33:00\",\"2024-06-22T20:36:00\",\"2024-06-22T20:39:00\",\"2024-06-22T20:42:00\",\"2024-06-22T20:45:00\",\"2024-06-22T20:48:00\",\"2024-06-22T20:51:00\",\"2024-06-22T20:54:00\",\"2024-06-22T20:57:00\",\"2024-06-22T21:00:00\",\"2024-06-22T21:03:00\",\"2024-06-22T21:06:00\",\"2024-06-22T21:09:00\",\"2024-06-22T21:12:00\",\"2024-06-22T21:15:00\",\"2024-06-22T21:18:00\",\"2024-06-22T21:21:00\",\"2024-06-22T21:24:00\",\"2024-06-22T21:27:00\",\"2024-06-22T21:30:00\",\"2024-06-22T21:33:00\",\"2024-06-22T21:36:00\",\"2024-06-22T21:39:00\",\"2024-06-22T21:42:00\",\"2024-06-22T21:45:00\",\"2024-06-22T21:48:00\",\"2024-06-22T21:51:00\",\"2024-06-22T21:54:00\",\"2024-06-22T21:57:00\",\"2024-06-22T22:00:00\",\"2024-06-22T22:03:00\",\"2024-06-22T22:06:00\",\"2024-06-22T22:09:00\",\"2024-06-22T22:12:00\",\"2024-06-22T22:15:00\",\"2024-06-22T22:18:00\",\"2024-06-22T22:21:00\",\"2024-06-22T22:24:00\",\"2024-06-22T22:27:00\",\"2024-06-22T22:30:00\",\"2024-06-22T22:33:00\",\"2024-06-22T22:36:00\",\"2024-06-22T22:39:00\",\"2024-06-22T22:42:00\",\"2024-06-22T22:45:00\",\"2024-06-22T22:48:00\",\"2024-06-22T22:51:00\",\"2024-06-22T22:54:00\",\"2024-06-22T22:57:00\",\"2024-06-22T23:00:00\",\"2024-06-22T23:03:00\",\"2024-06-22T23:06:00\",\"2024-06-22T23:09:00\",\"2024-06-22T23:12:00\",\"2024-06-22T23:15:00\",\"2024-06-22T23:18:00\",\"2024-06-22T23:21:00\",\"2024-06-22T23:24:00\",\"2024-06-22T23:27:00\",\"2024-06-22T23:30:00\",\"2024-06-22T23:33:00\",\"2024-06-22T23:36:00\",\"2024-06-22T23:39:00\",\"2024-06-22T23:42:00\",\"2024-06-22T23:45:00\",\"2024-06-22T23:48:00\",\"2024-06-22T23:51:00\",\"2024-06-22T23:54:00\",\"2024-06-22T23:57:00\",\"2024-06-23T00:00:00\",\"2024-06-23T00:03:00\",\"2024-06-23T00:06:00\",\"2024-06-23T00:09:00\",\"2024-06-23T00:12:00\",\"2024-06-23T00:15:00\",\"2024-06-23T00:18:00\",\"2024-06-23T00:21:00\",\"2024-06-23T00:24:00\",\"2024-06-23T00:27:00\",\"2024-06-23T00:30:00\",\"2024-06-23T00:33:00\",\"2024-06-23T00:36:00\",\"2024-06-23T00:39:00\",\"2024-06-23T00:42:00\",\"2024-06-23T00:45:00\",\"2024-06-23T00:48:00\",\"2024-06-23T00:51:00\",\"2024-06-23T00:54:00\",\"2024-06-23T00:57:00\",\"2024-06-23T01:00:00\",\"2024-06-23T01:03:00\",\"2024-06-23T01:06:00\",\"2024-06-23T01:09:00\",\"2024-06-23T01:12:00\",\"2024-06-23T01:15:00\",\"2024-06-23T01:18:00\",\"2024-06-23T01:21:00\",\"2024-06-23T01:24:00\",\"2024-06-23T01:27:00\",\"2024-06-23T01:30:00\",\"2024-06-23T01:33:00\",\"2024-06-23T01:36:00\",\"2024-06-23T01:39:00\",\"2024-06-23T01:42:00\",\"2024-06-23T01:45:00\",\"2024-06-23T01:48:00\",\"2024-06-23T01:51:00\",\"2024-06-23T01:54:00\",\"2024-06-23T01:57:00\",\"2024-06-23T02:00:00\",\"2024-06-23T02:03:00\",\"2024-06-23T02:06:00\",\"2024-06-23T02:09:00\",\"2024-06-23T02:12:00\",\"2024-06-23T02:15:00\",\"2024-06-23T02:18:00\",\"2024-06-23T02:21:00\",\"2024-06-23T02:24:00\",\"2024-06-23T02:27:00\",\"2024-06-23T02:30:00\",\"2024-06-23T02:33:00\",\"2024-06-23T02:36:00\",\"2024-06-23T02:39:00\",\"2024-06-23T02:42:00\",\"2024-06-23T02:45:00\",\"2024-06-23T02:48:00\",\"2024-06-23T02:51:00\",\"2024-06-23T02:54:00\",\"2024-06-23T02:57:00\",\"2024-06-23T03:00:00\",\"2024-06-23T03:03:00\",\"2024-06-23T03:06:00\",\"2024-06-23T03:09:00\",\"2024-06-23T03:12:00\",\"2024-06-23T03:15:00\",\"2024-06-23T03:18:00\",\"2024-06-23T03:21:00\",\"2024-06-23T03:24:00\",\"2024-06-23T03:27:00\",\"2024-06-23T03:30:00\",\"2024-06-23T03:33:00\",\"2024-06-23T03:36:00\",\"2024-06-23T03:39:00\",\"2024-06-23T03:42:00\",\"2024-06-23T03:45:00\",\"2024-06-23T03:48:00\",\"2024-06-23T03:51:00\",\"2024-06-23T03:54:00\",\"2024-06-23T03:57:00\",\"2024-06-23T04:00:00\",\"2024-06-23T04:03:00\",\"2024-06-23T04:06:00\",\"2024-06-23T04:09:00\",\"2024-06-23T04:12:00\",\"2024-06-23T04:15:00\",\"2024-06-23T04:18:00\",\"2024-06-23T04:21:00\",\"2024-06-23T04:24:00\",\"2024-06-23T04:27:00\",\"2024-06-23T04:30:00\",\"2024-06-23T04:33:00\",\"2024-06-23T04:36:00\",\"2024-06-23T04:39:00\",\"2024-06-23T04:42:00\",\"2024-06-23T04:45:00\",\"2024-06-23T04:48:00\",\"2024-06-23T04:51:00\",\"2024-06-23T04:54:00\",\"2024-06-23T04:57:00\",\"2024-06-23T05:00:00\",\"2024-06-23T05:03:00\",\"2024-06-23T05:06:00\",\"2024-06-23T05:09:00\",\"2024-06-23T05:12:00\",\"2024-06-23T05:15:00\",\"2024-06-23T05:18:00\",\"2024-06-23T05:21:00\",\"2024-06-23T05:24:00\",\"2024-06-23T05:27:00\",\"2024-06-23T05:30:00\",\"2024-06-23T05:33:00\",\"2024-06-23T05:36:00\",\"2024-06-23T05:39:00\",\"2024-06-23T05:42:00\",\"2024-06-23T05:45:00\",\"2024-06-23T05:48:00\",\"2024-06-23T05:51:00\",\"2024-06-23T05:54:00\",\"2024-06-23T05:57:00\",\"2024-06-23T06:00:00\",\"2024-06-23T06:03:00\",\"2024-06-23T06:06:00\",\"2024-06-23T06:09:00\",\"2024-06-23T06:12:00\",\"2024-06-23T06:15:00\",\"2024-06-23T06:18:00\",\"2024-06-23T06:21:00\",\"2024-06-23T06:24:00\",\"2024-06-23T06:27:00\",\"2024-06-23T06:30:00\",\"2024-06-23T06:33:00\",\"2024-06-23T06:36:00\",\"2024-06-23T06:39:00\",\"2024-06-23T06:42:00\",\"2024-06-23T06:45:00\",\"2024-06-23T06:48:00\",\"2024-06-23T06:51:00\",\"2024-06-23T06:54:00\",\"2024-06-23T06:57:00\",\"2024-06-23T07:00:00\",\"2024-06-23T07:03:00\",\"2024-06-23T07:06:00\",\"2024-06-23T07:09:00\",\"2024-06-23T07:12:00\",\"2024-06-23T07:15:00\",\"2024-06-23T07:18:00\",\"2024-06-23T07:21:00\",\"2024-06-23T07:24:00\",\"2024-06-23T07:27:00\",\"2024-06-23T07:30:00\",\"2024-06-23T07:33:00\",\"2024-06-23T07:36:00\",\"2024-06-23T07:39:00\",\"2024-06-23T07:42:00\",\"2024-06-23T07:45:00\"],\"xaxis\":\"x\",\"y\":[1868.0,1868.0,1868.0,1868.0,1848.0,1848.0,1848.0,1848.0,1848.0,1848.0,1848.0,1848.0,1848.0,1848.0,1848.0,1848.0,1848.0,1848.0,1848.0,1848.0,1848.0,1848.0,1848.0,1848.0,1808.0,1808.0,1808.0,1808.0,1808.0,1808.0,1808.0,1808.0,1808.0,1808.0,1808.0,1808.0,1808.0,1808.0,1808.0,1808.0,1808.0,1808.0,1808.0,1808.0,1908.0,1908.0,1908.0,1908.0,1908.0,1908.0,1908.0,1908.0,1908.0,1908.0,1908.0,1908.0,1908.0,1908.0,1908.0,1908.0,1908.0,1908.0,1908.0,1908.0,1853.0,1853.0,1853.0,1853.0,1853.0,1853.0,1853.0,1853.0,1853.0,1853.0,1853.0,1853.0,1853.0,1853.0,1853.0,1853.0,1853.0,1853.0,1853.0,1853.0,1723.0,1723.0,1723.0,1723.0,1723.0,1723.0,1723.0,1723.0,1723.0,1723.0,1723.0,1723.0,1723.0,1723.0,1723.0,1723.0,1723.0,1723.0,1723.0,1723.0,1383.0,1383.0,1383.0,1383.0,1383.0,1383.0,1383.0,1383.0,1383.0,1383.0,1383.0,1383.0,1383.0,1383.0,1383.0,1383.0,1383.0,1383.0,1383.0,1383.0,1243.0,1243.0,1243.0,1243.0,1243.0,1243.0,1243.0,1243.0,1243.0,1243.0,1243.0,1243.0,1243.0,1243.0,1243.0,1243.0,1243.0,1243.0,1243.0,1243.0,1173.0,1173.0,1173.0,1173.0,1173.0,1173.0,1173.0,1173.0,1173.0,1173.0,1173.0,1173.0,1173.0,1173.0,1173.0,1173.0,1173.0,1173.0,1173.0,1173.0,1163.0,1163.0,1163.0,1163.0,1163.0,1163.0,1163.0,1163.0,1163.0,1163.0,1163.0,1163.0,1163.0,1163.0,1163.0,1163.0,1163.0,1163.0,1163.0,1163.0,1153.0,1153.0,1153.0,1153.0,1153.0,1153.0,1153.0,1153.0,1153.0,1153.0,1153.0,1153.0,1153.0,1153.0,1153.0,1153.0,1153.0,1153.0,1153.0,1153.0,1138.0,1138.0,1138.0,1138.0,1138.0,1138.0,1138.0,1138.0,1138.0,1138.0,1138.0,1138.0,1138.0,1138.0,1138.0,1138.0,1138.0,1138.0,1138.0,1138.0,1148.0,1148.0,1148.0,1148.0,1148.0,1148.0,1148.0,1148.0,1148.0,1148.0,1148.0,1148.0,1148.0,1148.0,1148.0,1148.0,1148.0,1148.0,1148.0,1148.0,1188.0,1188.0,1188.0,1188.0,1188.0,1188.0,1188.0,1188.0,1188.0,1188.0,1188.0,1188.0,1188.0,1188.0],\"yaxis\":\"y\",\"type\":\"scatter\"},{\"hovertemplate\":\"variable=predicted_consumption_new\\u003cbr\\u003etime=%{x}\\u003cbr\\u003evalue=%{y}\\u003cextra\\u003e\\u003c\\u002fextra\\u003e\",\"legendgroup\":\"predicted_consumption_new\",\"line\":{\"color\":\"#00cc96\",\"dash\":\"solid\"},\"marker\":{\"symbol\":\"circle\"},\"mode\":\"lines\",\"name\":\"predicted_consumption_new\",\"orientation\":\"v\",\"showlegend\":true,\"x\":[\"2024-06-22T18:54:00\",\"2024-06-22T18:57:00\",\"2024-06-22T19:00:00\",\"2024-06-22T19:03:00\",\"2024-06-22T19:06:00\",\"2024-06-22T19:09:00\",\"2024-06-22T19:12:00\",\"2024-06-22T19:15:00\",\"2024-06-22T19:18:00\",\"2024-06-22T19:21:00\",\"2024-06-22T19:24:00\",\"2024-06-22T19:27:00\",\"2024-06-22T19:30:00\",\"2024-06-22T19:33:00\",\"2024-06-22T19:36:00\",\"2024-06-22T19:39:00\",\"2024-06-22T19:42:00\",\"2024-06-22T19:45:00\",\"2024-06-22T19:48:00\",\"2024-06-22T19:51:00\",\"2024-06-22T19:54:00\",\"2024-06-22T19:57:00\",\"2024-06-22T20:00:00\",\"2024-06-22T20:03:00\",\"2024-06-22T20:06:00\",\"2024-06-22T20:09:00\",\"2024-06-22T20:12:00\",\"2024-06-22T20:15:00\",\"2024-06-22T20:18:00\",\"2024-06-22T20:21:00\",\"2024-06-22T20:24:00\",\"2024-06-22T20:27:00\",\"2024-06-22T20:30:00\",\"2024-06-22T20:33:00\",\"2024-06-22T20:36:00\",\"2024-06-22T20:39:00\",\"2024-06-22T20:42:00\",\"2024-06-22T20:45:00\",\"2024-06-22T20:48:00\",\"2024-06-22T20:51:00\",\"2024-06-22T20:54:00\",\"2024-06-22T20:57:00\",\"2024-06-22T21:00:00\",\"2024-06-22T21:03:00\",\"2024-06-22T21:06:00\",\"2024-06-22T21:09:00\",\"2024-06-22T21:12:00\",\"2024-06-22T21:15:00\",\"2024-06-22T21:18:00\",\"2024-06-22T21:21:00\",\"2024-06-22T21:24:00\",\"2024-06-22T21:27:00\",\"2024-06-22T21:30:00\",\"2024-06-22T21:33:00\",\"2024-06-22T21:36:00\",\"2024-06-22T21:39:00\",\"2024-06-22T21:42:00\",\"2024-06-22T21:45:00\",\"2024-06-22T21:48:00\",\"2024-06-22T21:51:00\",\"2024-06-22T21:54:00\",\"2024-06-22T21:57:00\",\"2024-06-22T22:00:00\",\"2024-06-22T22:03:00\",\"2024-06-22T22:06:00\",\"2024-06-22T22:09:00\",\"2024-06-22T22:12:00\",\"2024-06-22T22:15:00\",\"2024-06-22T22:18:00\",\"2024-06-22T22:21:00\",\"2024-06-22T22:24:00\",\"2024-06-22T22:27:00\",\"2024-06-22T22:30:00\",\"2024-06-22T22:33:00\",\"2024-06-22T22:36:00\",\"2024-06-22T22:39:00\",\"2024-06-22T22:42:00\",\"2024-06-22T22:45:00\",\"2024-06-22T22:48:00\",\"2024-06-22T22:51:00\",\"2024-06-22T22:54:00\",\"2024-06-22T22:57:00\",\"2024-06-22T23:00:00\",\"2024-06-22T23:03:00\",\"2024-06-22T23:06:00\",\"2024-06-22T23:09:00\",\"2024-06-22T23:12:00\",\"2024-06-22T23:15:00\",\"2024-06-22T23:18:00\",\"2024-06-22T23:21:00\",\"2024-06-22T23:24:00\",\"2024-06-22T23:27:00\",\"2024-06-22T23:30:00\",\"2024-06-22T23:33:00\",\"2024-06-22T23:36:00\",\"2024-06-22T23:39:00\",\"2024-06-22T23:42:00\",\"2024-06-22T23:45:00\",\"2024-06-22T23:48:00\",\"2024-06-22T23:51:00\",\"2024-06-22T23:54:00\",\"2024-06-22T23:57:00\",\"2024-06-23T00:00:00\",\"2024-06-23T00:03:00\",\"2024-06-23T00:06:00\",\"2024-06-23T00:09:00\",\"2024-06-23T00:12:00\",\"2024-06-23T00:15:00\",\"2024-06-23T00:18:00\",\"2024-06-23T00:21:00\",\"2024-06-23T00:24:00\",\"2024-06-23T00:27:00\",\"2024-06-23T00:30:00\",\"2024-06-23T00:33:00\",\"2024-06-23T00:36:00\",\"2024-06-23T00:39:00\",\"2024-06-23T00:42:00\",\"2024-06-23T00:45:00\",\"2024-06-23T00:48:00\",\"2024-06-23T00:51:00\",\"2024-06-23T00:54:00\",\"2024-06-23T00:57:00\",\"2024-06-23T01:00:00\",\"2024-06-23T01:03:00\",\"2024-06-23T01:06:00\",\"2024-06-23T01:09:00\",\"2024-06-23T01:12:00\",\"2024-06-23T01:15:00\",\"2024-06-23T01:18:00\",\"2024-06-23T01:21:00\",\"2024-06-23T01:24:00\",\"2024-06-23T01:27:00\",\"2024-06-23T01:30:00\",\"2024-06-23T01:33:00\",\"2024-06-23T01:36:00\",\"2024-06-23T01:39:00\",\"2024-06-23T01:42:00\",\"2024-06-23T01:45:00\",\"2024-06-23T01:48:00\",\"2024-06-23T01:51:00\",\"2024-06-23T01:54:00\",\"2024-06-23T01:57:00\",\"2024-06-23T02:00:00\",\"2024-06-23T02:03:00\",\"2024-06-23T02:06:00\",\"2024-06-23T02:09:00\",\"2024-06-23T02:12:00\",\"2024-06-23T02:15:00\",\"2024-06-23T02:18:00\",\"2024-06-23T02:21:00\",\"2024-06-23T02:24:00\",\"2024-06-23T02:27:00\",\"2024-06-23T02:30:00\",\"2024-06-23T02:33:00\",\"2024-06-23T02:36:00\",\"2024-06-23T02:39:00\",\"2024-06-23T02:42:00\",\"2024-06-23T02:45:00\",\"2024-06-23T02:48:00\",\"2024-06-23T02:51:00\",\"2024-06-23T02:54:00\",\"2024-06-23T02:57:00\",\"2024-06-23T03:00:00\",\"2024-06-23T03:03:00\",\"2024-06-23T03:06:00\",\"2024-06-23T03:09:00\",\"2024-06-23T03:12:00\",\"2024-06-23T03:15:00\",\"2024-06-23T03:18:00\",\"2024-06-23T03:21:00\",\"2024-06-23T03:24:00\",\"2024-06-23T03:27:00\",\"2024-06-23T03:30:00\",\"2024-06-23T03:33:00\",\"2024-06-23T03:36:00\",\"2024-06-23T03:39:00\",\"2024-06-23T03:42:00\",\"2024-06-23T03:45:00\",\"2024-06-23T03:48:00\",\"2024-06-23T03:51:00\",\"2024-06-23T03:54:00\",\"2024-06-23T03:57:00\",\"2024-06-23T04:00:00\",\"2024-06-23T04:03:00\",\"2024-06-23T04:06:00\",\"2024-06-23T04:09:00\",\"2024-06-23T04:12:00\",\"2024-06-23T04:15:00\",\"2024-06-23T04:18:00\",\"2024-06-23T04:21:00\",\"2024-06-23T04:24:00\",\"2024-06-23T04:27:00\",\"2024-06-23T04:30:00\",\"2024-06-23T04:33:00\",\"2024-06-23T04:36:00\",\"2024-06-23T04:39:00\",\"2024-06-23T04:42:00\",\"2024-06-23T04:45:00\",\"2024-06-23T04:48:00\",\"2024-06-23T04:51:00\",\"2024-06-23T04:54:00\",\"2024-06-23T04:57:00\",\"2024-06-23T05:00:00\",\"2024-06-23T05:03:00\",\"2024-06-23T05:06:00\",\"2024-06-23T05:09:00\",\"2024-06-23T05:12:00\",\"2024-06-23T05:15:00\",\"2024-06-23T05:18:00\",\"2024-06-23T05:21:00\",\"2024-06-23T05:24:00\",\"2024-06-23T05:27:00\",\"2024-06-23T05:30:00\",\"2024-06-23T05:33:00\",\"2024-06-23T05:36:00\",\"2024-06-23T05:39:00\",\"2024-06-23T05:42:00\",\"2024-06-23T05:45:00\",\"2024-06-23T05:48:00\",\"2024-06-23T05:51:00\",\"2024-06-23T05:54:00\",\"2024-06-23T05:57:00\",\"2024-06-23T06:00:00\",\"2024-06-23T06:03:00\",\"2024-06-23T06:06:00\",\"2024-06-23T06:09:00\",\"2024-06-23T06:12:00\",\"2024-06-23T06:15:00\",\"2024-06-23T06:18:00\",\"2024-06-23T06:21:00\",\"2024-06-23T06:24:00\",\"2024-06-23T06:27:00\",\"2024-06-23T06:30:00\",\"2024-06-23T06:33:00\",\"2024-06-23T06:36:00\",\"2024-06-23T06:39:00\",\"2024-06-23T06:42:00\",\"2024-06-23T06:45:00\",\"2024-06-23T06:48:00\",\"2024-06-23T06:51:00\",\"2024-06-23T06:54:00\",\"2024-06-23T06:57:00\",\"2024-06-23T07:00:00\",\"2024-06-23T07:03:00\",\"2024-06-23T07:06:00\",\"2024-06-23T07:09:00\",\"2024-06-23T07:12:00\",\"2024-06-23T07:15:00\",\"2024-06-23T07:18:00\",\"2024-06-23T07:21:00\",\"2024-06-23T07:24:00\",\"2024-06-23T07:27:00\",\"2024-06-23T07:30:00\",\"2024-06-23T07:33:00\",\"2024-06-23T07:36:00\",\"2024-06-23T07:39:00\",\"2024-06-23T07:42:00\",\"2024-06-23T07:45:00\"],\"xaxis\":\"x\",\"y\":[1776.203125,1762.210449,1762.830566,1758.603516,1764.305908,1800.765503,1780.11145,1783.973999,1779.342896,1780.91650390625,1780.91650390625,1780.91650390625,1780.91650390625,1780.91650390625,1780.91650390625,1780.91650390625,1780.91650390625,1780.91650390625,1780.91650390625,1780.91650390625,1780.91650390625,1780.91650390625,1782.2857666015625,1784.7867431640625,1784.7867431640625,1784.7867431640625,1784.7867431640625,1784.7867431640625,1784.7867431640625,1784.7867431640625,1784.7867431640625,1784.7867431640625,1784.7867431640625,1784.7867431640625,1784.7867431640625,1784.7867431640625,1784.7867431640625,1784.7867431640625,1784.7867431640625,1784.7867431640625,1784.7867431640625,1784.7867431640625,1783.1422119140625,1783.1422119140625,1783.1422119140625,1783.1422119140625,1783.1422119140625,1783.1422119140625,1783.1422119140625,1783.1422119140625,1783.1422119140625,1783.1422119140625,1783.1422119140625,1783.1422119140625,1783.1422119140625,1783.1422119140625,1783.1422119140625,1783.1422119140625,1783.1422119140625,1783.1422119140625,1783.1422119140625,1783.1422119140625,1779.066162109375,1777.2947998046875,1773.6806640625,1771.6864013671875,1767.9124755859375,1763.808349609375,1760.2589111328125,1754.6934814453125,1751.8800048828125,1751.749755859375,1751.749755859375,1751.749755859375,1751.749755859375,1751.749755859375,1751.749755859375,1751.749755859375,1751.749755859375,1751.749755859375,1751.749755859375,1751.749755859375,1749.406005859375,1744.0797119140625,1739.91650390625,1736.110595703125,1729.595947265625,1723.764892578125,1717.4873046875,1712.067138671875,1705.787841796875,1701.016357421875,1694.8780517578125,1689.397705078125,1683.9664306640625,1678.0838623046875,1673.87451171875,1666.38134765625,1657.327392578125,1650.57421875,1644.7867431640625,1638.2738037109375,1630.43310546875,1625.6895751953125,1620.4114990234375,1614.533447265625,1608.84619140625,1603.2681884765625,1596.634765625,1588.692626953125,1583.8560791015625,1576.9652099609375,1568.8016357421875,1561.6893310546875,1556.01416015625,1549.44287109375,1542.2906494140625,1536.9036865234375,1530.6632080078125,1523.635498046875,1517.4278564453125,1512.5841064453125,1506.1844482421875,1499.0089111328125,1494.3424072265625,1486.7152099609375,1480.6297607421875,1475.689208984375,1468.8233642578125,1465.080322265625,1461.81494140625,1458.0064697265625,1453.17724609375,1449.4232177734375,1445.6319580078125,1442.7034912109375,1438.3424072265625,1433.3988037109375,1429.39501953125,1426.100341796875,1420.174560546875,1417.603271484375,1411.6102294921875,1408.07470703125,1403.2197265625,1398.648193359375,1395.650634765625,1390.33642578125,1386.49609375,1382.7967529296875,1377.3956298828125,1373.3712158203125,1367.9942626953125,1364.1087646484375,1358.9688720703125,1355.34130859375,1350.389892578125,1346.0611572265625,1340.5916748046875,1336.8436279296875,1331.6827392578125,1328.484130859375,1325.2198486328125,1325.2198486328125,1325.2198486328125,1325.2198486328125,1325.2198486328125,1325.2198486328125,1325.2198486328125,1325.2198486328125,1325.2198486328125,1325.2198486328125,1325.2198486328125,1325.2198486328125,1325.2198486328125,1325.2198486328125,1325.2198486328125,1325.2198486328125,1325.2198486328125,1325.2198486328125,1325.2198486328125,1325.2198486328125,1325.2742919921875,1325.2742919921875,1325.2742919921875,1325.2742919921875,1325.2742919921875,1325.2742919921875,1325.2742919921875,1325.2742919921875,1325.2742919921875,1325.2742919921875,1325.2742919921875,1325.2742919921875,1325.2742919921875,1325.2742919921875,1325.2742919921875,1325.2742919921875,1325.2742919921875,1325.2742919921875,1325.2742919921875,1325.2742919921875,1325.6590576171875,1325.6590576171875,1325.6590576171875,1325.6590576171875,1325.6590576171875,1325.6590576171875,1325.6590576171875,1325.6590576171875,1325.6590576171875,1325.6590576171875,1325.6590576171875,1325.6590576171875,1325.6590576171875,1325.6590576171875,1325.6590576171875,1325.6590576171875,1325.6590576171875,1325.6590576171875,1325.6590576171875,1325.6590576171875,1327.8692626953125,1327.8692626953125,1327.8692626953125,1327.8692626953125,1327.8692626953125,1327.8692626953125,1327.8692626953125,1327.8692626953125,1327.8692626953125,1327.8692626953125,1327.8692626953125,1327.8692626953125,1327.8692626953125,1327.8692626953125,1327.8692626953125,1327.8692626953125,1327.8692626953125,1327.8692626953125,1327.8692626953125,1327.8692626953125,1331.9661865234375,1336.3348388671875,1339.7059326171875,1344.6248779296875,1348.133544921875,1353.5125732421875,1357.716796875,1363.003173828125,1367.0592041015625,1372.640380859375,1376.687744140625,1381.5318603515625,1384.9530029296875,1389.917724609375,1393.5684814453125,1397.4088134765625],\"yaxis\":\"y\",\"type\":\"scatter\"}],                        {\"template\":{\"data\":{\"histogram2dcontour\":[{\"type\":\"histogram2dcontour\",\"colorbar\":{\"outlinewidth\":0,\"ticks\":\"\"},\"colorscale\":[[0.0,\"#0d0887\"],[0.1111111111111111,\"#46039f\"],[0.2222222222222222,\"#7201a8\"],[0.3333333333333333,\"#9c179e\"],[0.4444444444444444,\"#bd3786\"],[0.5555555555555556,\"#d8576b\"],[0.6666666666666666,\"#ed7953\"],[0.7777777777777778,\"#fb9f3a\"],[0.8888888888888888,\"#fdca26\"],[1.0,\"#f0f921\"]]}],\"choropleth\":[{\"type\":\"choropleth\",\"colorbar\":{\"outlinewidth\":0,\"ticks\":\"\"}}],\"histogram2d\":[{\"type\":\"histogram2d\",\"colorbar\":{\"outlinewidth\":0,\"ticks\":\"\"},\"colorscale\":[[0.0,\"#0d0887\"],[0.1111111111111111,\"#46039f\"],[0.2222222222222222,\"#7201a8\"],[0.3333333333333333,\"#9c179e\"],[0.4444444444444444,\"#bd3786\"],[0.5555555555555556,\"#d8576b\"],[0.6666666666666666,\"#ed7953\"],[0.7777777777777778,\"#fb9f3a\"],[0.8888888888888888,\"#fdca26\"],[1.0,\"#f0f921\"]]}],\"heatmap\":[{\"type\":\"heatmap\",\"colorbar\":{\"outlinewidth\":0,\"ticks\":\"\"},\"colorscale\":[[0.0,\"#0d0887\"],[0.1111111111111111,\"#46039f\"],[0.2222222222222222,\"#7201a8\"],[0.3333333333333333,\"#9c179e\"],[0.4444444444444444,\"#bd3786\"],[0.5555555555555556,\"#d8576b\"],[0.6666666666666666,\"#ed7953\"],[0.7777777777777778,\"#fb9f3a\"],[0.8888888888888888,\"#fdca26\"],[1.0,\"#f0f921\"]]}],\"heatmapgl\":[{\"type\":\"heatmapgl\",\"colorbar\":{\"outlinewidth\":0,\"ticks\":\"\"},\"colorscale\":[[0.0,\"#0d0887\"],[0.1111111111111111,\"#46039f\"],[0.2222222222222222,\"#7201a8\"],[0.3333333333333333,\"#9c179e\"],[0.4444444444444444,\"#bd3786\"],[0.5555555555555556,\"#d8576b\"],[0.6666666666666666,\"#ed7953\"],[0.7777777777777778,\"#fb9f3a\"],[0.8888888888888888,\"#fdca26\"],[1.0,\"#f0f921\"]]}],\"contourcarpet\":[{\"type\":\"contourcarpet\",\"colorbar\":{\"outlinewidth\":0,\"ticks\":\"\"}}],\"contour\":[{\"type\":\"contour\",\"colorbar\":{\"outlinewidth\":0,\"ticks\":\"\"},\"colorscale\":[[0.0,\"#0d0887\"],[0.1111111111111111,\"#46039f\"],[0.2222222222222222,\"#7201a8\"],[0.3333333333333333,\"#9c179e\"],[0.4444444444444444,\"#bd3786\"],[0.5555555555555556,\"#d8576b\"],[0.6666666666666666,\"#ed7953\"],[0.7777777777777778,\"#fb9f3a\"],[0.8888888888888888,\"#fdca26\"],[1.0,\"#f0f921\"]]}],\"surface\":[{\"type\":\"surface\",\"colorbar\":{\"outlinewidth\":0,\"ticks\":\"\"},\"colorscale\":[[0.0,\"#0d0887\"],[0.1111111111111111,\"#46039f\"],[0.2222222222222222,\"#7201a8\"],[0.3333333333333333,\"#9c179e\"],[0.4444444444444444,\"#bd3786\"],[0.5555555555555556,\"#d8576b\"],[0.6666666666666666,\"#ed7953\"],[0.7777777777777778,\"#fb9f3a\"],[0.8888888888888888,\"#fdca26\"],[1.0,\"#f0f921\"]]}],\"mesh3d\":[{\"type\":\"mesh3d\",\"colorbar\":{\"outlinewidth\":0,\"ticks\":\"\"}}],\"scatter\":[{\"marker\":{\"line\":{\"color\":\"#283442\"}},\"type\":\"scatter\"}],\"parcoords\":[{\"type\":\"parcoords\",\"line\":{\"colorbar\":{\"outlinewidth\":0,\"ticks\":\"\"}}}],\"scatterpolargl\":[{\"type\":\"scatterpolargl\",\"marker\":{\"colorbar\":{\"outlinewidth\":0,\"ticks\":\"\"}}}],\"bar\":[{\"error_x\":{\"color\":\"#f2f5fa\"},\"error_y\":{\"color\":\"#f2f5fa\"},\"marker\":{\"line\":{\"color\":\"rgb(17,17,17)\",\"width\":0.5},\"pattern\":{\"fillmode\":\"overlay\",\"size\":10,\"solidity\":0.2}},\"type\":\"bar\"}],\"scattergeo\":[{\"type\":\"scattergeo\",\"marker\":{\"colorbar\":{\"outlinewidth\":0,\"ticks\":\"\"}}}],\"scatterpolar\":[{\"type\":\"scatterpolar\",\"marker\":{\"colorbar\":{\"outlinewidth\":0,\"ticks\":\"\"}}}],\"histogram\":[{\"marker\":{\"pattern\":{\"fillmode\":\"overlay\",\"size\":10,\"solidity\":0.2}},\"type\":\"histogram\"}],\"scattergl\":[{\"marker\":{\"line\":{\"color\":\"#283442\"}},\"type\":\"scattergl\"}],\"scatter3d\":[{\"type\":\"scatter3d\",\"line\":{\"colorbar\":{\"outlinewidth\":0,\"ticks\":\"\"}},\"marker\":{\"colorbar\":{\"outlinewidth\":0,\"ticks\":\"\"}}}],\"scattermapbox\":[{\"type\":\"scattermapbox\",\"marker\":{\"colorbar\":{\"outlinewidth\":0,\"ticks\":\"\"}}}],\"scatterternary\":[{\"type\":\"scatterternary\",\"marker\":{\"colorbar\":{\"outlinewidth\":0,\"ticks\":\"\"}}}],\"scattercarpet\":[{\"type\":\"scattercarpet\",\"marker\":{\"colorbar\":{\"outlinewidth\":0,\"ticks\":\"\"}}}],\"carpet\":[{\"aaxis\":{\"endlinecolor\":\"#A2B1C6\",\"gridcolor\":\"#506784\",\"linecolor\":\"#506784\",\"minorgridcolor\":\"#506784\",\"startlinecolor\":\"#A2B1C6\"},\"baxis\":{\"endlinecolor\":\"#A2B1C6\",\"gridcolor\":\"#506784\",\"linecolor\":\"#506784\",\"minorgridcolor\":\"#506784\",\"startlinecolor\":\"#A2B1C6\"},\"type\":\"carpet\"}],\"table\":[{\"cells\":{\"fill\":{\"color\":\"#506784\"},\"line\":{\"color\":\"rgb(17,17,17)\"}},\"header\":{\"fill\":{\"color\":\"#2a3f5f\"},\"line\":{\"color\":\"rgb(17,17,17)\"}},\"type\":\"table\"}],\"barpolar\":[{\"marker\":{\"line\":{\"color\":\"rgb(17,17,17)\",\"width\":0.5},\"pattern\":{\"fillmode\":\"overlay\",\"size\":10,\"solidity\":0.2}},\"type\":\"barpolar\"}],\"pie\":[{\"automargin\":true,\"type\":\"pie\"}]},\"layout\":{\"autotypenumbers\":\"strict\",\"colorway\":[\"#636efa\",\"#EF553B\",\"#00cc96\",\"#ab63fa\",\"#FFA15A\",\"#19d3f3\",\"#FF6692\",\"#B6E880\",\"#FF97FF\",\"#FECB52\"],\"font\":{\"color\":\"#f2f5fa\"},\"hovermode\":\"closest\",\"hoverlabel\":{\"align\":\"left\"},\"paper_bgcolor\":\"rgb(17,17,17)\",\"plot_bgcolor\":\"rgb(17,17,17)\",\"polar\":{\"bgcolor\":\"rgb(17,17,17)\",\"angularaxis\":{\"gridcolor\":\"#506784\",\"linecolor\":\"#506784\",\"ticks\":\"\"},\"radialaxis\":{\"gridcolor\":\"#506784\",\"linecolor\":\"#506784\",\"ticks\":\"\"}},\"ternary\":{\"bgcolor\":\"rgb(17,17,17)\",\"aaxis\":{\"gridcolor\":\"#506784\",\"linecolor\":\"#506784\",\"ticks\":\"\"},\"baxis\":{\"gridcolor\":\"#506784\",\"linecolor\":\"#506784\",\"ticks\":\"\"},\"caxis\":{\"gridcolor\":\"#506784\",\"linecolor\":\"#506784\",\"ticks\":\"\"}},\"coloraxis\":{\"colorbar\":{\"outlinewidth\":0,\"ticks\":\"\"}},\"colorscale\":{\"sequential\":[[0.0,\"#0d0887\"],[0.1111111111111111,\"#46039f\"],[0.2222222222222222,\"#7201a8\"],[0.3333333333333333,\"#9c179e\"],[0.4444444444444444,\"#bd3786\"],[0.5555555555555556,\"#d8576b\"],[0.6666666666666666,\"#ed7953\"],[0.7777777777777778,\"#fb9f3a\"],[0.8888888888888888,\"#fdca26\"],[1.0,\"#f0f921\"]],\"sequentialminus\":[[0.0,\"#0d0887\"],[0.1111111111111111,\"#46039f\"],[0.2222222222222222,\"#7201a8\"],[0.3333333333333333,\"#9c179e\"],[0.4444444444444444,\"#bd3786\"],[0.5555555555555556,\"#d8576b\"],[0.6666666666666666,\"#ed7953\"],[0.7777777777777778,\"#fb9f3a\"],[0.8888888888888888,\"#fdca26\"],[1.0,\"#f0f921\"]],\"diverging\":[[0,\"#8e0152\"],[0.1,\"#c51b7d\"],[0.2,\"#de77ae\"],[0.3,\"#f1b6da\"],[0.4,\"#fde0ef\"],[0.5,\"#f7f7f7\"],[0.6,\"#e6f5d0\"],[0.7,\"#b8e186\"],[0.8,\"#7fbc41\"],[0.9,\"#4d9221\"],[1,\"#276419\"]]},\"xaxis\":{\"gridcolor\":\"#283442\",\"linecolor\":\"#506784\",\"ticks\":\"\",\"title\":{\"standoff\":15},\"zerolinecolor\":\"#283442\",\"automargin\":true,\"zerolinewidth\":2},\"yaxis\":{\"gridcolor\":\"#283442\",\"linecolor\":\"#506784\",\"ticks\":\"\",\"title\":{\"standoff\":15},\"zerolinecolor\":\"#283442\",\"automargin\":true,\"zerolinewidth\":2},\"scene\":{\"xaxis\":{\"backgroundcolor\":\"rgb(17,17,17)\",\"gridcolor\":\"#506784\",\"linecolor\":\"#506784\",\"showbackground\":true,\"ticks\":\"\",\"zerolinecolor\":\"#C8D4E3\",\"gridwidth\":2},\"yaxis\":{\"backgroundcolor\":\"rgb(17,17,17)\",\"gridcolor\":\"#506784\",\"linecolor\":\"#506784\",\"showbackground\":true,\"ticks\":\"\",\"zerolinecolor\":\"#C8D4E3\",\"gridwidth\":2},\"zaxis\":{\"backgroundcolor\":\"rgb(17,17,17)\",\"gridcolor\":\"#506784\",\"linecolor\":\"#506784\",\"showbackground\":true,\"ticks\":\"\",\"zerolinecolor\":\"#C8D4E3\",\"gridwidth\":2}},\"shapedefaults\":{\"line\":{\"color\":\"#f2f5fa\"}},\"annotationdefaults\":{\"arrowcolor\":\"#f2f5fa\",\"arrowhead\":0,\"arrowwidth\":1},\"geo\":{\"bgcolor\":\"rgb(17,17,17)\",\"landcolor\":\"rgb(17,17,17)\",\"subunitcolor\":\"#506784\",\"showland\":true,\"showlakes\":true,\"lakecolor\":\"rgb(17,17,17)\"},\"title\":{\"x\":0.05},\"updatemenudefaults\":{\"bgcolor\":\"#506784\",\"borderwidth\":0},\"sliderdefaults\":{\"bgcolor\":\"#C8D4E3\",\"borderwidth\":1,\"bordercolor\":\"rgb(17,17,17)\",\"tickwidth\":0},\"mapbox\":{\"style\":\"dark\"}}},\"xaxis\":{\"anchor\":\"y\",\"domain\":[0.0,1.0],\"title\":{\"text\":\"Timestamp\"},\"rangeslider\":{\"visible\":true}},\"yaxis\":{\"anchor\":\"x\",\"domain\":[0.0,1.0],\"title\":{\"text\":\"Values\"}},\"legend\":{\"title\":{\"text\":\"Legend\"},\"tracegroupgap\":0},\"title\":{\"text\":\"Interactive Time Series Plot\"}},                        {\"responsive\": true}                    ).then(function(){\n",
       "                            \n",
       "var gd = document.getElementById('770a59a8-8af9-4a1f-b560-45de56882062');\n",
       "var x = new MutationObserver(function (mutations, observer) {{\n",
       "        var display = window.getComputedStyle(gd).display;\n",
       "        if (!display || display === 'none') {{\n",
       "            console.log([gd, 'removed!']);\n",
       "            Plotly.purge(gd);\n",
       "            observer.disconnect();\n",
       "        }}\n",
       "}});\n",
       "\n",
       "// Listen for the removal of the full notebook cells\n",
       "var notebookContainer = gd.closest('#notebook-container');\n",
       "if (notebookContainer) {{\n",
       "    x.observe(notebookContainer, {childList: true});\n",
       "}}\n",
       "\n",
       "// Listen for the clearing of the current output cell\n",
       "var outputEl = gd.closest('.output');\n",
       "if (outputEl) {{\n",
       "    x.observe(outputEl, {childList: true});\n",
       "}}\n",
       "\n",
       "                        })                };                });            </script>        </div>"
      ]
     },
     "metadata": {},
     "output_type": "display_data"
    }
   ],
   "execution_count": 78
  },
  {
   "metadata": {
    "ExecuteTime": {
     "end_time": "2024-12-13T11:38:27.647138Z",
     "start_time": "2024-12-13T11:38:27.641036Z"
    }
   },
   "cell_type": "code",
   "source": [
    "data_metrics(data=reuslts_df, real=\"real_consumption\", predicted=\"predicted_consumption_new\")\n",
    "\n",
    "data_metrics(data=reuslts_df, real=\"real_consumption\", predicted=\"predicted_consumption\")"
   ],
   "id": "9c783be5217dfee",
   "outputs": [
    {
     "name": "stdout",
     "output_type": "stream",
     "text": [
      "MAE: 40.1773\n",
      "MSE: 2442.0872\n",
      "RMSE: 49.4175\n",
      "R²: 0.9460\n",
      "MAE: 113.7736\n",
      "MSE: 14454.6618\n",
      "RMSE: 120.2275\n",
      "R²: 0.6806\n"
     ]
    }
   ],
   "execution_count": 79
  },
  {
   "cell_type": "code",
   "outputs": [],
   "source": [],
   "metadata": {
    "collapsed": false
   },
   "id": "ebdb53202783033e",
   "execution_count": null
  }
 ],
 "metadata": {
  "kernelspec": {
   "display_name": "Python 3",
   "language": "python",
   "name": "python3"
  },
  "language_info": {
   "codemirror_mode": {
    "name": "ipython",
    "version": 2
   },
   "file_extension": ".py",
   "mimetype": "text/x-python",
   "name": "python",
   "nbconvert_exporter": "python",
   "pygments_lexer": "ipython2",
   "version": "2.7.6"
  }
 },
 "nbformat": 4,
 "nbformat_minor": 5
}

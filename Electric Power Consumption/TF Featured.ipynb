{
 "cells": [
  {
   "metadata": {
    "ExecuteTime": {
     "end_time": "2025-03-07T07:40:57.017654Z",
     "start_time": "2025-03-07T07:40:56.963379Z"
    }
   },
   "cell_type": "code",
   "source": [
    "import tensorflow as tf\n",
    "import os\n",
    "import pandas as pd\n",
    "import numpy as np\n",
    "from tensorflow.keras.models import Sequential\n",
    "from tensorflow.keras.layers import *\n",
    "from tensorflow.keras.callbacks import ModelCheckpoint\n",
    "from tensorflow.keras.losses import MeanSquaredError\n",
    "from tensorflow.keras.metrics import RootMeanSquaredError\n",
    "from tensorflow.keras.optimizers import Adam\n",
    "from tensorflow.keras.models import load_model\n",
    "import plotly.express as px\n",
    "from pathlib import Path\n",
    "import holidays\n",
    "\n",
    "from pathlib import Path\n",
    "from tensorflow.keras.callbacks import ModelCheckpoint\n",
    "from tensorflow.keras.losses import MeanSquaredError\n",
    "from tensorflow.keras.optimizers import Adam\n",
    "from tensorflow.keras.metrics import RootMeanSquaredError\n",
    "from tensorflow.keras.losses import Huber\n",
    "from sklearn.preprocessing import MinMaxScaler\n",
    "\n"
   ],
   "id": "a2fa202e3185003a",
   "outputs": [],
   "execution_count": 77
  },
  {
   "metadata": {
    "ExecuteTime": {
     "end_time": "2025-03-07T07:36:36.204533Z",
     "start_time": "2025-03-07T07:36:36.185249Z"
    }
   },
   "cell_type": "code",
   "source": [
    "def upload_data():\n",
    "    data_path = str(Path.cwd().parent) + \"\\\\Data\\\\EPC\\\\Power Consumption Data.csv\"\n",
    "\n",
    "    df = pd.read_csv(data_path)\n",
    "\n",
    "    df = df[df[\"real_consumption\"] > 0]\n",
    "    df = df[df['real_consumption'] <= df['real_consumption'].mean() + 4 * df['real_consumption'].std()]\n",
    "\n",
    "    df['time'] = pd.to_datetime(df['time'])\n",
    "    df = df.sort_values(by='time',ascending=True)\n",
    "\n",
    "    return df\n",
    "\n",
    "def data_metrics(data, real, predicted):\n",
    "\n",
    "    y_true = data[real]\n",
    "    y_pred = data[predicted]\n",
    "\n",
    "\n",
    "    def r2_score_tf(y_true, y_pred):\n",
    "        \"\"\"\n",
    "        Computes the R² (coefficient of determination) score in TensorFlow.\n",
    "        \n",
    "        Parameters:\n",
    "        y_true : Tensor\n",
    "            Ground truth values.\n",
    "        y_pred : Tensor\n",
    "            Predicted values.\n",
    "    \n",
    "        Returns:\n",
    "        Tensor\n",
    "            The R² score.\n",
    "        \"\"\"\n",
    "        \n",
    "        \n",
    "        y_true = tf.convert_to_tensor(y_true, dtype=tf.float32)\n",
    "        y_pred = tf.convert_to_tensor(y_pred, dtype=tf.float32)\n",
    "    \n",
    "        unexplained_error = tf.reduce_sum(tf.square(y_true - y_pred))  # SSE\n",
    "        total_error = tf.reduce_sum(tf.square(y_true - tf.reduce_mean(y_true)))  # SST\n",
    "    \n",
    "        r_squared = 1.0 - (unexplained_error / (total_error + tf.keras.backend.epsilon()))  # Prevent division by zero\n",
    "        return r_squared\n",
    "\n",
    "\n",
    "    # Calculate metrics\n",
    "    mae = tf.keras.losses.MeanAbsoluteError()(y_true, y_pred).numpy()\n",
    "    mse = tf.keras.losses.MeanSquaredError()(y_true, y_pred).numpy()\n",
    "    rmse = np.sqrt(mse)\n",
    "    r2 = r2_score_tf(y_true, y_pred)\n",
    "\n",
    "\n",
    "    # MAE (Mean Absolute Error):\n",
    "    # Lower values are better; good MAE depends on the scale of 'real_consumption'.\n",
    "    # As a rule of thumb, MAE should be significantly smaller than the mean of the target variable.\n",
    "    # Lower is better. Ideally, MAE should be much less than the average value of y_true.\n",
    "    print(f\"MAE: {mae:.4f}\")\n",
    "\n",
    "    # MSE (Mean Squared Error):\n",
    "    # Similar to MAE but penalizes large errors more heavily. A smaller MSE is better.\n",
    "    # Compare MSE to the variance of 'real_consumption' for context.\n",
    "    # Lower is better. MSE should ideally be close to zero relative to the variance of y_true.\n",
    "    print(f\"MSE: {mse:.4f}\")\n",
    "\n",
    "\n",
    "\n",
    "    # RMSE (Root Mean Squared Error):\n",
    "    # RMSE is the square root of MSE and is in the same units as 'real_consumption'.\n",
    "    # A good RMSE is often close to the standard deviation of 'real_consumption'.\n",
    "    # Lower is better. RMSE should be comparable to or less than the standard deviation of y_true.\"\n",
    "    print(f\"RMSE: {rmse:.4f}\")\n",
    "\n",
    "\n",
    "\n",
    "    # R² (Coefficient of Determination):\n",
    "    # R² measures how well the predictions explain the variability of the data.\n",
    "    # Values close to 1.0 are excellent, indicating the model explains most of the variance.\n",
    "    # Negative values indicate poor fit.\n",
    "    # Closer to 1.0 is better. Values > 0.7 are generally good; < 0.5 indicates underfitting.\n",
    "    print(f\"R²: {r2:.4f}\")\n",
    "\n",
    "def feature_engineering(data):\n",
    "\n",
    "    # Extracting basic time-based features\n",
    "    data['hour'] = data['time'].dt.hour  # Hour of the day\n",
    "    data['minute'] = data['time'].dt.minute  # Minute\n",
    "    data['day_of_week'] = data['time'].dt.dayofweek  # Day of the week (0=Monday, 6=Sunday)\n",
    "    data['is_weekend'] = data['day_of_week'].apply(lambda x: 1 if x >= 5 else 0)  # Weekend flag\n",
    "    data['day_of_month'] = data['time'].dt.day\n",
    "    data['week_of_year'] = data['time'].dt.isocalendar().week\n",
    "    data['month'] = data['time'].dt.month\n",
    "    data['quarter'] = data['time'].dt.quarter\n",
    "    data['year'] = data['time'].dt.year\n",
    "\n",
    "\n",
    "    # Generate lag features for temporal dependency modeling\n",
    "    for lag in range(1, 5):  # Create lag features for the past 4 time steps\n",
    "        data[f'lag_{lag}'] = data['real_consumption'].shift(lag)\n",
    "\n",
    "\n",
    "    # Generate exponential moving averages\n",
    "    for span in [3, 5]:  # Spans of size 3, 5, and 7\n",
    "        data[f'ema_{span}'] = data['real_consumption'].ewm(span=span, adjust=False).mean()\n",
    "\n",
    "    # Rolling average over a longer period (e.g., weekly and monthly moving averages)\n",
    "    data['weekly_avg'] = data['real_consumption'].rolling(window=7*24*20, min_periods=1).mean()  # Weekly moving avg\n",
    "    data['monthly_avg'] = data['real_consumption'].rolling(window=30*24*20, min_periods=1).mean()  # Monthly moving avg\n",
    "\n",
    "\n",
    "    # Percentage change in real consumption\n",
    "    data['pct_change'] = data['real_consumption'].pct_change()\n",
    "\n",
    "    data['hour_sin'] = np.sin(2 * np.pi * data['hour'] / 24)  # Cyclic hour feature (sine)\n",
    "    data['hour_cos'] = np.cos(2 * np.pi * data['hour'] / 24)  # Cyclic hour feature (cosine)\n",
    "\n",
    "    data['day_of_week_sin'] = np.sin(2 * np.pi * data['day_of_week'] / 7)\n",
    "    data['day_of_week_cos'] = np.cos(2 * np.pi * data['day_of_week'] / 7)\n",
    "\n",
    "    data['month_sin'] = np.sin(2 * np.pi * data['month'] / 12)\n",
    "    data['month_cos'] = np.cos(2 * np.pi * data['month'] / 12)\n",
    "\n",
    "    data['week_of_year_sin'] = np.sin(2 * np.pi * data['week_of_year'] / 52)\n",
    "    data['week_of_year_cos'] = np.cos(2 * np.pi * data['week_of_year'] / 52)\n",
    "\n",
    "\n",
    "\n",
    "\n",
    "    # Get Georgia holidays for all years in the dataset\n",
    "    georgia_holidays = holidays.Georgia(years=range(data[\"year\"].min(), data[\"year\"].max() + 1))\n",
    "\n",
    "    data[\"date\"] = data[\"time\"].dt.date\n",
    "\n",
    "    # Create holiday feature (1 if it's a holiday, 0 otherwise)\n",
    "    data['is_holiday'] = data[\"date\"].map(lambda x: 1 if x in georgia_holidays else 0)\n",
    "\n",
    "    # Add features for the day before and after a holiday\n",
    "    data['is_day_before_holiday'] = data[\"date\"].map(lambda x: 1 if (x - pd.Timedelta(days=1)) in georgia_holidays else 0)\n",
    "    data['is_day_after_holiday'] = data[\"date\"].map(lambda x: 1 if (x + pd.Timedelta(days=1)) in georgia_holidays else 0)\n",
    "\n",
    "\n",
    "\n",
    "    return  data\n",
    "\n"
   ],
   "id": "5a8ca2c473c7e3c3",
   "outputs": [],
   "execution_count": 69
  },
  {
   "metadata": {
    "ExecuteTime": {
     "end_time": "2025-03-07T07:36:42.608319Z",
     "start_time": "2025-03-07T07:36:36.699202Z"
    }
   },
   "cell_type": "code",
   "source": [
    "df = upload_data()\n",
    "\n",
    "data_metrics(data=df, real=\"real_consumption\", predicted=\"predicted_consumption\")\n",
    "\n",
    "df = feature_engineering(df)\n"
   ],
   "id": "221244da3a5ee410",
   "outputs": [
    {
     "name": "stdout",
     "output_type": "stream",
     "text": [
      "MAE: 56.7256\n",
      "MSE: 5824.3340\n",
      "RMSE: 76.3173\n",
      "R²: 0.9176\n"
     ]
    }
   ],
   "execution_count": 70
  },
  {
   "cell_type": "code",
   "outputs": [
    {
     "data": {
      "text/plain": "                                   time  real_consumption  \\\ntime                                                        \n2020-10-14 18:39:00 2020-10-14 18:39:00       1437.405518   \n2020-10-14 18:42:00 2020-10-14 18:42:00       1439.720825   \n2020-10-14 18:45:00 2020-10-14 18:45:00       1449.654541   \n2020-10-14 18:48:00 2020-10-14 18:48:00       1468.833984   \n2020-10-14 18:51:00 2020-10-14 18:51:00       1491.803955   \n...                                 ...               ...   \n2024-11-22 18:42:00 2024-11-22 18:42:00       1942.344971   \n2024-11-22 18:45:00 2024-11-22 18:45:00       1922.017700   \n2024-11-22 18:48:00 2024-11-22 18:48:00       1936.747803   \n2024-11-22 18:51:00 2024-11-22 18:51:00       1965.174316   \n2024-11-22 18:54:00 2024-11-22 18:54:00       1964.401733   \n\n                     predicted_consumption  hour  minute  day_of_week  \\\ntime                                                                    \n2020-10-14 18:39:00                 1530.0    18      39            2   \n2020-10-14 18:42:00                 1530.0    18      42            2   \n2020-10-14 18:45:00                 1530.0    18      45            2   \n2020-10-14 18:48:00                 1530.0    18      48            2   \n2020-10-14 18:51:00                 1530.0    18      51            2   \n...                                    ...   ...     ...          ...   \n2024-11-22 18:42:00                 1940.0    18      42            4   \n2024-11-22 18:45:00                 1940.0    18      45            4   \n2024-11-22 18:48:00                 1940.0    18      48            4   \n2024-11-22 18:51:00                 1940.0    18      51            4   \n2024-11-22 18:54:00                 1940.0    18      54            4   \n\n                     is_weekend  day_of_month  week_of_year  month  ...  \\\ntime                                                                ...   \n2020-10-14 18:39:00           0            14            42     10  ...   \n2020-10-14 18:42:00           0            14            42     10  ...   \n2020-10-14 18:45:00           0            14            42     10  ...   \n2020-10-14 18:48:00           0            14            42     10  ...   \n2020-10-14 18:51:00           0            14            42     10  ...   \n...                         ...           ...           ...    ...  ...   \n2024-11-22 18:42:00           0            22            47     11  ...   \n2024-11-22 18:45:00           0            22            47     11  ...   \n2024-11-22 18:48:00           0            22            47     11  ...   \n2024-11-22 18:51:00           0            22            47     11  ...   \n2024-11-22 18:54:00           0            22            47     11  ...   \n\n                     day_of_week_sin  day_of_week_cos  month_sin  month_cos  \\\ntime                                                                          \n2020-10-14 18:39:00         0.974928        -0.222521  -0.866025   0.500000   \n2020-10-14 18:42:00         0.974928        -0.222521  -0.866025   0.500000   \n2020-10-14 18:45:00         0.974928        -0.222521  -0.866025   0.500000   \n2020-10-14 18:48:00         0.974928        -0.222521  -0.866025   0.500000   \n2020-10-14 18:51:00         0.974928        -0.222521  -0.866025   0.500000   \n...                              ...              ...        ...        ...   \n2024-11-22 18:42:00        -0.433884        -0.900969  -0.500000   0.866025   \n2024-11-22 18:45:00        -0.433884        -0.900969  -0.500000   0.866025   \n2024-11-22 18:48:00        -0.433884        -0.900969  -0.500000   0.866025   \n2024-11-22 18:51:00        -0.433884        -0.900969  -0.500000   0.866025   \n2024-11-22 18:54:00        -0.433884        -0.900969  -0.500000   0.866025   \n\n                     week_of_year_sin  week_of_year_cos        date  \\\ntime                                                                  \n2020-10-14 18:39:00         -0.935016          0.354605  2020-10-14   \n2020-10-14 18:42:00         -0.935016          0.354605  2020-10-14   \n2020-10-14 18:45:00         -0.935016          0.354605  2020-10-14   \n2020-10-14 18:48:00         -0.935016          0.354605  2020-10-14   \n2020-10-14 18:51:00         -0.935016          0.354605  2020-10-14   \n...                               ...               ...         ...   \n2024-11-22 18:42:00         -0.568065          0.822984  2024-11-22   \n2024-11-22 18:45:00         -0.568065          0.822984  2024-11-22   \n2024-11-22 18:48:00         -0.568065          0.822984  2024-11-22   \n2024-11-22 18:51:00         -0.568065          0.822984  2024-11-22   \n2024-11-22 18:54:00         -0.568065          0.822984  2024-11-22   \n\n                     is_holiday  is_day_before_holiday  is_day_after_holiday  \ntime                                                                          \n2020-10-14 18:39:00           1                      0                     0  \n2020-10-14 18:42:00           1                      0                     0  \n2020-10-14 18:45:00           1                      0                     0  \n2020-10-14 18:48:00           1                      0                     0  \n2020-10-14 18:51:00           1                      0                     0  \n...                         ...                    ...                   ...  \n2024-11-22 18:42:00           0                      0                     1  \n2024-11-22 18:45:00           0                      0                     1  \n2024-11-22 18:48:00           0                      0                     1  \n2024-11-22 18:51:00           0                      0                     1  \n2024-11-22 18:54:00           0                      0                     1  \n\n[708341 rows x 33 columns]",
      "text/html": "<div>\n<style scoped>\n    .dataframe tbody tr th:only-of-type {\n        vertical-align: middle;\n    }\n\n    .dataframe tbody tr th {\n        vertical-align: top;\n    }\n\n    .dataframe thead th {\n        text-align: right;\n    }\n</style>\n<table border=\"1\" class=\"dataframe\">\n  <thead>\n    <tr style=\"text-align: right;\">\n      <th></th>\n      <th>time</th>\n      <th>real_consumption</th>\n      <th>predicted_consumption</th>\n      <th>hour</th>\n      <th>minute</th>\n      <th>day_of_week</th>\n      <th>is_weekend</th>\n      <th>day_of_month</th>\n      <th>week_of_year</th>\n      <th>month</th>\n      <th>...</th>\n      <th>day_of_week_sin</th>\n      <th>day_of_week_cos</th>\n      <th>month_sin</th>\n      <th>month_cos</th>\n      <th>week_of_year_sin</th>\n      <th>week_of_year_cos</th>\n      <th>date</th>\n      <th>is_holiday</th>\n      <th>is_day_before_holiday</th>\n      <th>is_day_after_holiday</th>\n    </tr>\n    <tr>\n      <th>time</th>\n      <th></th>\n      <th></th>\n      <th></th>\n      <th></th>\n      <th></th>\n      <th></th>\n      <th></th>\n      <th></th>\n      <th></th>\n      <th></th>\n      <th></th>\n      <th></th>\n      <th></th>\n      <th></th>\n      <th></th>\n      <th></th>\n      <th></th>\n      <th></th>\n      <th></th>\n      <th></th>\n      <th></th>\n    </tr>\n  </thead>\n  <tbody>\n    <tr>\n      <th>2020-10-14 18:39:00</th>\n      <td>2020-10-14 18:39:00</td>\n      <td>1437.405518</td>\n      <td>1530.0</td>\n      <td>18</td>\n      <td>39</td>\n      <td>2</td>\n      <td>0</td>\n      <td>14</td>\n      <td>42</td>\n      <td>10</td>\n      <td>...</td>\n      <td>0.974928</td>\n      <td>-0.222521</td>\n      <td>-0.866025</td>\n      <td>0.500000</td>\n      <td>-0.935016</td>\n      <td>0.354605</td>\n      <td>2020-10-14</td>\n      <td>1</td>\n      <td>0</td>\n      <td>0</td>\n    </tr>\n    <tr>\n      <th>2020-10-14 18:42:00</th>\n      <td>2020-10-14 18:42:00</td>\n      <td>1439.720825</td>\n      <td>1530.0</td>\n      <td>18</td>\n      <td>42</td>\n      <td>2</td>\n      <td>0</td>\n      <td>14</td>\n      <td>42</td>\n      <td>10</td>\n      <td>...</td>\n      <td>0.974928</td>\n      <td>-0.222521</td>\n      <td>-0.866025</td>\n      <td>0.500000</td>\n      <td>-0.935016</td>\n      <td>0.354605</td>\n      <td>2020-10-14</td>\n      <td>1</td>\n      <td>0</td>\n      <td>0</td>\n    </tr>\n    <tr>\n      <th>2020-10-14 18:45:00</th>\n      <td>2020-10-14 18:45:00</td>\n      <td>1449.654541</td>\n      <td>1530.0</td>\n      <td>18</td>\n      <td>45</td>\n      <td>2</td>\n      <td>0</td>\n      <td>14</td>\n      <td>42</td>\n      <td>10</td>\n      <td>...</td>\n      <td>0.974928</td>\n      <td>-0.222521</td>\n      <td>-0.866025</td>\n      <td>0.500000</td>\n      <td>-0.935016</td>\n      <td>0.354605</td>\n      <td>2020-10-14</td>\n      <td>1</td>\n      <td>0</td>\n      <td>0</td>\n    </tr>\n    <tr>\n      <th>2020-10-14 18:48:00</th>\n      <td>2020-10-14 18:48:00</td>\n      <td>1468.833984</td>\n      <td>1530.0</td>\n      <td>18</td>\n      <td>48</td>\n      <td>2</td>\n      <td>0</td>\n      <td>14</td>\n      <td>42</td>\n      <td>10</td>\n      <td>...</td>\n      <td>0.974928</td>\n      <td>-0.222521</td>\n      <td>-0.866025</td>\n      <td>0.500000</td>\n      <td>-0.935016</td>\n      <td>0.354605</td>\n      <td>2020-10-14</td>\n      <td>1</td>\n      <td>0</td>\n      <td>0</td>\n    </tr>\n    <tr>\n      <th>2020-10-14 18:51:00</th>\n      <td>2020-10-14 18:51:00</td>\n      <td>1491.803955</td>\n      <td>1530.0</td>\n      <td>18</td>\n      <td>51</td>\n      <td>2</td>\n      <td>0</td>\n      <td>14</td>\n      <td>42</td>\n      <td>10</td>\n      <td>...</td>\n      <td>0.974928</td>\n      <td>-0.222521</td>\n      <td>-0.866025</td>\n      <td>0.500000</td>\n      <td>-0.935016</td>\n      <td>0.354605</td>\n      <td>2020-10-14</td>\n      <td>1</td>\n      <td>0</td>\n      <td>0</td>\n    </tr>\n    <tr>\n      <th>...</th>\n      <td>...</td>\n      <td>...</td>\n      <td>...</td>\n      <td>...</td>\n      <td>...</td>\n      <td>...</td>\n      <td>...</td>\n      <td>...</td>\n      <td>...</td>\n      <td>...</td>\n      <td>...</td>\n      <td>...</td>\n      <td>...</td>\n      <td>...</td>\n      <td>...</td>\n      <td>...</td>\n      <td>...</td>\n      <td>...</td>\n      <td>...</td>\n      <td>...</td>\n      <td>...</td>\n    </tr>\n    <tr>\n      <th>2024-11-22 18:42:00</th>\n      <td>2024-11-22 18:42:00</td>\n      <td>1942.344971</td>\n      <td>1940.0</td>\n      <td>18</td>\n      <td>42</td>\n      <td>4</td>\n      <td>0</td>\n      <td>22</td>\n      <td>47</td>\n      <td>11</td>\n      <td>...</td>\n      <td>-0.433884</td>\n      <td>-0.900969</td>\n      <td>-0.500000</td>\n      <td>0.866025</td>\n      <td>-0.568065</td>\n      <td>0.822984</td>\n      <td>2024-11-22</td>\n      <td>0</td>\n      <td>0</td>\n      <td>1</td>\n    </tr>\n    <tr>\n      <th>2024-11-22 18:45:00</th>\n      <td>2024-11-22 18:45:00</td>\n      <td>1922.017700</td>\n      <td>1940.0</td>\n      <td>18</td>\n      <td>45</td>\n      <td>4</td>\n      <td>0</td>\n      <td>22</td>\n      <td>47</td>\n      <td>11</td>\n      <td>...</td>\n      <td>-0.433884</td>\n      <td>-0.900969</td>\n      <td>-0.500000</td>\n      <td>0.866025</td>\n      <td>-0.568065</td>\n      <td>0.822984</td>\n      <td>2024-11-22</td>\n      <td>0</td>\n      <td>0</td>\n      <td>1</td>\n    </tr>\n    <tr>\n      <th>2024-11-22 18:48:00</th>\n      <td>2024-11-22 18:48:00</td>\n      <td>1936.747803</td>\n      <td>1940.0</td>\n      <td>18</td>\n      <td>48</td>\n      <td>4</td>\n      <td>0</td>\n      <td>22</td>\n      <td>47</td>\n      <td>11</td>\n      <td>...</td>\n      <td>-0.433884</td>\n      <td>-0.900969</td>\n      <td>-0.500000</td>\n      <td>0.866025</td>\n      <td>-0.568065</td>\n      <td>0.822984</td>\n      <td>2024-11-22</td>\n      <td>0</td>\n      <td>0</td>\n      <td>1</td>\n    </tr>\n    <tr>\n      <th>2024-11-22 18:51:00</th>\n      <td>2024-11-22 18:51:00</td>\n      <td>1965.174316</td>\n      <td>1940.0</td>\n      <td>18</td>\n      <td>51</td>\n      <td>4</td>\n      <td>0</td>\n      <td>22</td>\n      <td>47</td>\n      <td>11</td>\n      <td>...</td>\n      <td>-0.433884</td>\n      <td>-0.900969</td>\n      <td>-0.500000</td>\n      <td>0.866025</td>\n      <td>-0.568065</td>\n      <td>0.822984</td>\n      <td>2024-11-22</td>\n      <td>0</td>\n      <td>0</td>\n      <td>1</td>\n    </tr>\n    <tr>\n      <th>2024-11-22 18:54:00</th>\n      <td>2024-11-22 18:54:00</td>\n      <td>1964.401733</td>\n      <td>1940.0</td>\n      <td>18</td>\n      <td>54</td>\n      <td>4</td>\n      <td>0</td>\n      <td>22</td>\n      <td>47</td>\n      <td>11</td>\n      <td>...</td>\n      <td>-0.433884</td>\n      <td>-0.900969</td>\n      <td>-0.500000</td>\n      <td>0.866025</td>\n      <td>-0.568065</td>\n      <td>0.822984</td>\n      <td>2024-11-22</td>\n      <td>0</td>\n      <td>0</td>\n      <td>1</td>\n    </tr>\n  </tbody>\n</table>\n<p>708341 rows × 33 columns</p>\n</div>"
     },
     "execution_count": 91,
     "metadata": {},
     "output_type": "execute_result"
    }
   ],
   "source": [
    "df"
   ],
   "metadata": {
    "collapsed": false,
    "ExecuteTime": {
     "end_time": "2025-03-07T07:45:34.643582Z",
     "start_time": "2025-03-07T07:45:34.428720Z"
    }
   },
   "id": "c9a75d18307b88df",
   "execution_count": 91
  },
  {
   "metadata": {
    "ExecuteTime": {
     "end_time": "2025-03-07T07:48:15.054718Z",
     "start_time": "2025-03-07T07:48:14.801126Z"
    }
   },
   "cell_type": "code",
   "source": [
    "df.index = pd.to_datetime(df['time'], format='%d.%m.%Y %H:%M:%S')\n",
    "# temp = df[['real_consumption',\"hour\",\"weekly_avg\",\"monthly_avg\",\"hour_sin\",\n",
    "# \"hour_cos\",\"lag_1\",\"ema_3\",\"month_sin\",\"month_cos\",\"week_of_year_sin\",\"week_of_year_cos\"]]\n",
    "\n",
    "temp = df[['real_consumption',\"hour\",\"weekly_avg\",\"monthly_avg\",\"ema_3\",\"month\",\"week_of_year\",\"day_of_month\",\"is_weekend\",\"day_of_week\"]]\n",
    "\n",
    "scaler = MinMaxScaler()\n",
    "temp = pd.DataFrame(scaler.fit_transform(temp), columns=temp.columns)"
   ],
   "id": "fbea4b7ff427582a",
   "outputs": [],
   "execution_count": 94
  },
  {
   "metadata": {
    "ExecuteTime": {
     "end_time": "2025-03-07T07:48:18.046354Z",
     "start_time": "2025-03-07T07:48:18.039468Z"
    }
   },
   "cell_type": "code",
   "source": [
    "# [[[1], [2], [3], [4], [5]]] [6]\n",
    "# [[[2], [3], [4], [5], [6]]] [7]\n",
    "# [[[3], [4], [5], [6], [7]]] [8]\n",
    "\n",
    "def df_to_X_y(df, window_size=5):\n",
    "    df_as_np = df.to_numpy().astype(\"float32\")  # Convert to float32\n",
    "    X, y = [], []\n",
    "\n",
    "    for i in range(len(df_as_np)-window_size):\n",
    "        row = df_as_np[i:i+window_size]  # Past `window_size` rows as input\n",
    "        X.append(row)\n",
    "        label = df_as_np[i+window_size, 0]  # Target: `real_consumption`\n",
    "        y.append(label)\n",
    "\n",
    "    return np.array(X, dtype=\"float32\"), np.array(y, dtype=\"float32\")  # Convert to float32\n",
    "\n"
   ],
   "id": "e523bfbe2a7649f1",
   "outputs": [],
   "execution_count": 95
  },
  {
   "metadata": {
    "ExecuteTime": {
     "end_time": "2025-03-07T07:48:33.615901Z",
     "start_time": "2025-03-07T07:48:32.122296Z"
    }
   },
   "cell_type": "code",
   "source": [
    "WINDOW_SIZE = 3*20\n",
    "X1, y1 = df_to_X_y(temp, WINDOW_SIZE)\n",
    "X1.shape, y1.shape"
   ],
   "id": "96046be896c8da13",
   "outputs": [
    {
     "data": {
      "text/plain": "((708221, 120, 10), (708221,))"
     },
     "execution_count": 96,
     "metadata": {},
     "output_type": "execute_result"
    }
   ],
   "execution_count": 96
  },
  {
   "metadata": {
    "ExecuteTime": {
     "end_time": "2025-03-07T07:48:35.295288Z",
     "start_time": "2025-03-07T07:48:35.274244Z"
    }
   },
   "cell_type": "code",
   "source": [
    "X_train1, y_train1 = X1[:600000], y1[:600000]\n",
    "X_val1, y_val1 = X1[600000:650000], y1[600000:650000]\n",
    "X_test1, y_test1 = X1[650000:], y1[650000:]\n",
    "X_train1.shape, y_train1.shape, X_val1.shape, y_val1.shape, X_test1.shape, y_test1.shape"
   ],
   "id": "95cc7235efb0f37d",
   "outputs": [
    {
     "data": {
      "text/plain": "((600000, 120, 10),\n (600000,),\n (50000, 120, 10),\n (50000,),\n (58221, 120, 10),\n (58221,))"
     },
     "execution_count": 97,
     "metadata": {},
     "output_type": "execute_result"
    }
   ],
   "execution_count": 97
  },
  {
   "cell_type": "code",
   "outputs": [
    {
     "name": "stdout",
     "output_type": "stream",
     "text": [
      "Epoch 1/50\n",
      "\u001B[1m 180/2344\u001B[0m \u001B[32m━\u001B[0m\u001B[37m━━━━━━━━━━━━━━━━━━━\u001B[0m \u001B[1m6:48\u001B[0m 189ms/step - loss: 0.0304 - root_mean_squared_error: 0.2452"
     ]
    },
    {
     "ename": "KeyboardInterrupt",
     "evalue": "",
     "output_type": "error",
     "traceback": [
      "\u001B[1;31m---------------------------------------------------------------------------\u001B[0m",
      "\u001B[1;31mKeyboardInterrupt\u001B[0m                         Traceback (most recent call last)",
      "Cell \u001B[1;32mIn[98], line 32\u001B[0m\n\u001B[0;32m     28\u001B[0m cp1 \u001B[38;5;241m=\u001B[39m ModelCheckpoint(filepath\u001B[38;5;241m=\u001B[39mcheckpoint_path, save_best_only\u001B[38;5;241m=\u001B[39m\u001B[38;5;28;01mTrue\u001B[39;00m, monitor\u001B[38;5;241m=\u001B[39m\u001B[38;5;124m\"\u001B[39m\u001B[38;5;124mval_loss\u001B[39m\u001B[38;5;124m\"\u001B[39m, verbose\u001B[38;5;241m=\u001B[39m\u001B[38;5;241m1\u001B[39m)\n\u001B[0;32m     30\u001B[0m early_stopping \u001B[38;5;241m=\u001B[39m EarlyStopping(monitor\u001B[38;5;241m=\u001B[39m\u001B[38;5;124m\"\u001B[39m\u001B[38;5;124mval_loss\u001B[39m\u001B[38;5;124m\"\u001B[39m, patience\u001B[38;5;241m=\u001B[39m\u001B[38;5;241m5\u001B[39m, restore_best_weights\u001B[38;5;241m=\u001B[39m\u001B[38;5;28;01mTrue\u001B[39;00m, verbose\u001B[38;5;241m=\u001B[39m\u001B[38;5;241m1\u001B[39m)\n\u001B[1;32m---> 32\u001B[0m history \u001B[38;5;241m=\u001B[39m model\u001B[38;5;241m.\u001B[39mfit(\n\u001B[0;32m     33\u001B[0m     train_dataset,\n\u001B[0;32m     34\u001B[0m     validation_data\u001B[38;5;241m=\u001B[39mtest_dataset,\n\u001B[0;32m     35\u001B[0m     epochs\u001B[38;5;241m=\u001B[39mEPOCHS,\n\u001B[0;32m     36\u001B[0m     callbacks\u001B[38;5;241m=\u001B[39m[cp1, early_stopping]\n\u001B[0;32m     37\u001B[0m )\n",
      "File \u001B[1;32m~\\AppData\\Local\\anaconda3\\envs\\MLProjects\\Lib\\site-packages\\keras\\src\\utils\\traceback_utils.py:117\u001B[0m, in \u001B[0;36mfilter_traceback.<locals>.error_handler\u001B[1;34m(*args, **kwargs)\u001B[0m\n\u001B[0;32m    115\u001B[0m filtered_tb \u001B[38;5;241m=\u001B[39m \u001B[38;5;28;01mNone\u001B[39;00m\n\u001B[0;32m    116\u001B[0m \u001B[38;5;28;01mtry\u001B[39;00m:\n\u001B[1;32m--> 117\u001B[0m     \u001B[38;5;28;01mreturn\u001B[39;00m fn(\u001B[38;5;241m*\u001B[39margs, \u001B[38;5;241m*\u001B[39m\u001B[38;5;241m*\u001B[39mkwargs)\n\u001B[0;32m    118\u001B[0m \u001B[38;5;28;01mexcept\u001B[39;00m \u001B[38;5;167;01mException\u001B[39;00m \u001B[38;5;28;01mas\u001B[39;00m e:\n\u001B[0;32m    119\u001B[0m     filtered_tb \u001B[38;5;241m=\u001B[39m _process_traceback_frames(e\u001B[38;5;241m.\u001B[39m__traceback__)\n",
      "File \u001B[1;32m~\\AppData\\Local\\anaconda3\\envs\\MLProjects\\Lib\\site-packages\\keras\\src\\backend\\tensorflow\\trainer.py:371\u001B[0m, in \u001B[0;36mTensorFlowTrainer.fit\u001B[1;34m(self, x, y, batch_size, epochs, verbose, callbacks, validation_split, validation_data, shuffle, class_weight, sample_weight, initial_epoch, steps_per_epoch, validation_steps, validation_batch_size, validation_freq)\u001B[0m\n\u001B[0;32m    369\u001B[0m \u001B[38;5;28;01mfor\u001B[39;00m step, iterator \u001B[38;5;129;01min\u001B[39;00m epoch_iterator:\n\u001B[0;32m    370\u001B[0m     callbacks\u001B[38;5;241m.\u001B[39mon_train_batch_begin(step)\n\u001B[1;32m--> 371\u001B[0m     logs \u001B[38;5;241m=\u001B[39m \u001B[38;5;28mself\u001B[39m\u001B[38;5;241m.\u001B[39mtrain_function(iterator)\n\u001B[0;32m    372\u001B[0m     callbacks\u001B[38;5;241m.\u001B[39mon_train_batch_end(step, logs)\n\u001B[0;32m    373\u001B[0m     \u001B[38;5;28;01mif\u001B[39;00m \u001B[38;5;28mself\u001B[39m\u001B[38;5;241m.\u001B[39mstop_training:\n",
      "File \u001B[1;32m~\\AppData\\Local\\anaconda3\\envs\\MLProjects\\Lib\\site-packages\\keras\\src\\backend\\tensorflow\\trainer.py:219\u001B[0m, in \u001B[0;36mTensorFlowTrainer._make_function.<locals>.function\u001B[1;34m(iterator)\u001B[0m\n\u001B[0;32m    215\u001B[0m \u001B[38;5;28;01mdef\u001B[39;00m \u001B[38;5;21mfunction\u001B[39m(iterator):\n\u001B[0;32m    216\u001B[0m     \u001B[38;5;28;01mif\u001B[39;00m \u001B[38;5;28misinstance\u001B[39m(\n\u001B[0;32m    217\u001B[0m         iterator, (tf\u001B[38;5;241m.\u001B[39mdata\u001B[38;5;241m.\u001B[39mIterator, tf\u001B[38;5;241m.\u001B[39mdistribute\u001B[38;5;241m.\u001B[39mDistributedIterator)\n\u001B[0;32m    218\u001B[0m     ):\n\u001B[1;32m--> 219\u001B[0m         opt_outputs \u001B[38;5;241m=\u001B[39m multi_step_on_iterator(iterator)\n\u001B[0;32m    220\u001B[0m         \u001B[38;5;28;01mif\u001B[39;00m \u001B[38;5;129;01mnot\u001B[39;00m opt_outputs\u001B[38;5;241m.\u001B[39mhas_value():\n\u001B[0;32m    221\u001B[0m             \u001B[38;5;28;01mraise\u001B[39;00m \u001B[38;5;167;01mStopIteration\u001B[39;00m\n",
      "File \u001B[1;32m~\\AppData\\Local\\anaconda3\\envs\\MLProjects\\Lib\\site-packages\\tensorflow\\python\\util\\traceback_utils.py:150\u001B[0m, in \u001B[0;36mfilter_traceback.<locals>.error_handler\u001B[1;34m(*args, **kwargs)\u001B[0m\n\u001B[0;32m    148\u001B[0m filtered_tb \u001B[38;5;241m=\u001B[39m \u001B[38;5;28;01mNone\u001B[39;00m\n\u001B[0;32m    149\u001B[0m \u001B[38;5;28;01mtry\u001B[39;00m:\n\u001B[1;32m--> 150\u001B[0m   \u001B[38;5;28;01mreturn\u001B[39;00m fn(\u001B[38;5;241m*\u001B[39margs, \u001B[38;5;241m*\u001B[39m\u001B[38;5;241m*\u001B[39mkwargs)\n\u001B[0;32m    151\u001B[0m \u001B[38;5;28;01mexcept\u001B[39;00m \u001B[38;5;167;01mException\u001B[39;00m \u001B[38;5;28;01mas\u001B[39;00m e:\n\u001B[0;32m    152\u001B[0m   filtered_tb \u001B[38;5;241m=\u001B[39m _process_traceback_frames(e\u001B[38;5;241m.\u001B[39m__traceback__)\n",
      "File \u001B[1;32m~\\AppData\\Local\\anaconda3\\envs\\MLProjects\\Lib\\site-packages\\tensorflow\\python\\eager\\polymorphic_function\\polymorphic_function.py:833\u001B[0m, in \u001B[0;36mFunction.__call__\u001B[1;34m(self, *args, **kwds)\u001B[0m\n\u001B[0;32m    830\u001B[0m compiler \u001B[38;5;241m=\u001B[39m \u001B[38;5;124m\"\u001B[39m\u001B[38;5;124mxla\u001B[39m\u001B[38;5;124m\"\u001B[39m \u001B[38;5;28;01mif\u001B[39;00m \u001B[38;5;28mself\u001B[39m\u001B[38;5;241m.\u001B[39m_jit_compile \u001B[38;5;28;01melse\u001B[39;00m \u001B[38;5;124m\"\u001B[39m\u001B[38;5;124mnonXla\u001B[39m\u001B[38;5;124m\"\u001B[39m\n\u001B[0;32m    832\u001B[0m \u001B[38;5;28;01mwith\u001B[39;00m OptionalXlaContext(\u001B[38;5;28mself\u001B[39m\u001B[38;5;241m.\u001B[39m_jit_compile):\n\u001B[1;32m--> 833\u001B[0m   result \u001B[38;5;241m=\u001B[39m \u001B[38;5;28mself\u001B[39m\u001B[38;5;241m.\u001B[39m_call(\u001B[38;5;241m*\u001B[39margs, \u001B[38;5;241m*\u001B[39m\u001B[38;5;241m*\u001B[39mkwds)\n\u001B[0;32m    835\u001B[0m new_tracing_count \u001B[38;5;241m=\u001B[39m \u001B[38;5;28mself\u001B[39m\u001B[38;5;241m.\u001B[39mexperimental_get_tracing_count()\n\u001B[0;32m    836\u001B[0m without_tracing \u001B[38;5;241m=\u001B[39m (tracing_count \u001B[38;5;241m==\u001B[39m new_tracing_count)\n",
      "File \u001B[1;32m~\\AppData\\Local\\anaconda3\\envs\\MLProjects\\Lib\\site-packages\\tensorflow\\python\\eager\\polymorphic_function\\polymorphic_function.py:878\u001B[0m, in \u001B[0;36mFunction._call\u001B[1;34m(self, *args, **kwds)\u001B[0m\n\u001B[0;32m    875\u001B[0m \u001B[38;5;28mself\u001B[39m\u001B[38;5;241m.\u001B[39m_lock\u001B[38;5;241m.\u001B[39mrelease()\n\u001B[0;32m    876\u001B[0m \u001B[38;5;66;03m# In this case we have not created variables on the first call. So we can\u001B[39;00m\n\u001B[0;32m    877\u001B[0m \u001B[38;5;66;03m# run the first trace but we should fail if variables are created.\u001B[39;00m\n\u001B[1;32m--> 878\u001B[0m results \u001B[38;5;241m=\u001B[39m tracing_compilation\u001B[38;5;241m.\u001B[39mcall_function(\n\u001B[0;32m    879\u001B[0m     args, kwds, \u001B[38;5;28mself\u001B[39m\u001B[38;5;241m.\u001B[39m_variable_creation_config\n\u001B[0;32m    880\u001B[0m )\n\u001B[0;32m    881\u001B[0m \u001B[38;5;28;01mif\u001B[39;00m \u001B[38;5;28mself\u001B[39m\u001B[38;5;241m.\u001B[39m_created_variables:\n\u001B[0;32m    882\u001B[0m   \u001B[38;5;28;01mraise\u001B[39;00m \u001B[38;5;167;01mValueError\u001B[39;00m(\u001B[38;5;124m\"\u001B[39m\u001B[38;5;124mCreating variables on a non-first call to a function\u001B[39m\u001B[38;5;124m\"\u001B[39m\n\u001B[0;32m    883\u001B[0m                    \u001B[38;5;124m\"\u001B[39m\u001B[38;5;124m decorated with tf.function.\u001B[39m\u001B[38;5;124m\"\u001B[39m)\n",
      "File \u001B[1;32m~\\AppData\\Local\\anaconda3\\envs\\MLProjects\\Lib\\site-packages\\tensorflow\\python\\eager\\polymorphic_function\\tracing_compilation.py:139\u001B[0m, in \u001B[0;36mcall_function\u001B[1;34m(args, kwargs, tracing_options)\u001B[0m\n\u001B[0;32m    137\u001B[0m bound_args \u001B[38;5;241m=\u001B[39m function\u001B[38;5;241m.\u001B[39mfunction_type\u001B[38;5;241m.\u001B[39mbind(\u001B[38;5;241m*\u001B[39margs, \u001B[38;5;241m*\u001B[39m\u001B[38;5;241m*\u001B[39mkwargs)\n\u001B[0;32m    138\u001B[0m flat_inputs \u001B[38;5;241m=\u001B[39m function\u001B[38;5;241m.\u001B[39mfunction_type\u001B[38;5;241m.\u001B[39munpack_inputs(bound_args)\n\u001B[1;32m--> 139\u001B[0m \u001B[38;5;28;01mreturn\u001B[39;00m function\u001B[38;5;241m.\u001B[39m_call_flat(  \u001B[38;5;66;03m# pylint: disable=protected-access\u001B[39;00m\n\u001B[0;32m    140\u001B[0m     flat_inputs, captured_inputs\u001B[38;5;241m=\u001B[39mfunction\u001B[38;5;241m.\u001B[39mcaptured_inputs\n\u001B[0;32m    141\u001B[0m )\n",
      "File \u001B[1;32m~\\AppData\\Local\\anaconda3\\envs\\MLProjects\\Lib\\site-packages\\tensorflow\\python\\eager\\polymorphic_function\\concrete_function.py:1322\u001B[0m, in \u001B[0;36mConcreteFunction._call_flat\u001B[1;34m(self, tensor_inputs, captured_inputs)\u001B[0m\n\u001B[0;32m   1318\u001B[0m possible_gradient_type \u001B[38;5;241m=\u001B[39m gradients_util\u001B[38;5;241m.\u001B[39mPossibleTapeGradientTypes(args)\n\u001B[0;32m   1319\u001B[0m \u001B[38;5;28;01mif\u001B[39;00m (possible_gradient_type \u001B[38;5;241m==\u001B[39m gradients_util\u001B[38;5;241m.\u001B[39mPOSSIBLE_GRADIENT_TYPES_NONE\n\u001B[0;32m   1320\u001B[0m     \u001B[38;5;129;01mand\u001B[39;00m executing_eagerly):\n\u001B[0;32m   1321\u001B[0m   \u001B[38;5;66;03m# No tape is watching; skip to running the function.\u001B[39;00m\n\u001B[1;32m-> 1322\u001B[0m   \u001B[38;5;28;01mreturn\u001B[39;00m \u001B[38;5;28mself\u001B[39m\u001B[38;5;241m.\u001B[39m_inference_function\u001B[38;5;241m.\u001B[39mcall_preflattened(args)\n\u001B[0;32m   1323\u001B[0m forward_backward \u001B[38;5;241m=\u001B[39m \u001B[38;5;28mself\u001B[39m\u001B[38;5;241m.\u001B[39m_select_forward_and_backward_functions(\n\u001B[0;32m   1324\u001B[0m     args,\n\u001B[0;32m   1325\u001B[0m     possible_gradient_type,\n\u001B[0;32m   1326\u001B[0m     executing_eagerly)\n\u001B[0;32m   1327\u001B[0m forward_function, args_with_tangents \u001B[38;5;241m=\u001B[39m forward_backward\u001B[38;5;241m.\u001B[39mforward()\n",
      "File \u001B[1;32m~\\AppData\\Local\\anaconda3\\envs\\MLProjects\\Lib\\site-packages\\tensorflow\\python\\eager\\polymorphic_function\\atomic_function.py:216\u001B[0m, in \u001B[0;36mAtomicFunction.call_preflattened\u001B[1;34m(self, args)\u001B[0m\n\u001B[0;32m    214\u001B[0m \u001B[38;5;28;01mdef\u001B[39;00m \u001B[38;5;21mcall_preflattened\u001B[39m(\u001B[38;5;28mself\u001B[39m, args: Sequence[core\u001B[38;5;241m.\u001B[39mTensor]) \u001B[38;5;241m-\u001B[39m\u001B[38;5;241m>\u001B[39m Any:\n\u001B[0;32m    215\u001B[0m \u001B[38;5;250m  \u001B[39m\u001B[38;5;124;03m\"\"\"Calls with flattened tensor inputs and returns the structured output.\"\"\"\u001B[39;00m\n\u001B[1;32m--> 216\u001B[0m   flat_outputs \u001B[38;5;241m=\u001B[39m \u001B[38;5;28mself\u001B[39m\u001B[38;5;241m.\u001B[39mcall_flat(\u001B[38;5;241m*\u001B[39margs)\n\u001B[0;32m    217\u001B[0m   \u001B[38;5;28;01mreturn\u001B[39;00m \u001B[38;5;28mself\u001B[39m\u001B[38;5;241m.\u001B[39mfunction_type\u001B[38;5;241m.\u001B[39mpack_output(flat_outputs)\n",
      "File \u001B[1;32m~\\AppData\\Local\\anaconda3\\envs\\MLProjects\\Lib\\site-packages\\tensorflow\\python\\eager\\polymorphic_function\\atomic_function.py:251\u001B[0m, in \u001B[0;36mAtomicFunction.call_flat\u001B[1;34m(self, *args)\u001B[0m\n\u001B[0;32m    249\u001B[0m \u001B[38;5;28;01mwith\u001B[39;00m record\u001B[38;5;241m.\u001B[39mstop_recording():\n\u001B[0;32m    250\u001B[0m   \u001B[38;5;28;01mif\u001B[39;00m \u001B[38;5;28mself\u001B[39m\u001B[38;5;241m.\u001B[39m_bound_context\u001B[38;5;241m.\u001B[39mexecuting_eagerly():\n\u001B[1;32m--> 251\u001B[0m     outputs \u001B[38;5;241m=\u001B[39m \u001B[38;5;28mself\u001B[39m\u001B[38;5;241m.\u001B[39m_bound_context\u001B[38;5;241m.\u001B[39mcall_function(\n\u001B[0;32m    252\u001B[0m         \u001B[38;5;28mself\u001B[39m\u001B[38;5;241m.\u001B[39mname,\n\u001B[0;32m    253\u001B[0m         \u001B[38;5;28mlist\u001B[39m(args),\n\u001B[0;32m    254\u001B[0m         \u001B[38;5;28mlen\u001B[39m(\u001B[38;5;28mself\u001B[39m\u001B[38;5;241m.\u001B[39mfunction_type\u001B[38;5;241m.\u001B[39mflat_outputs),\n\u001B[0;32m    255\u001B[0m     )\n\u001B[0;32m    256\u001B[0m   \u001B[38;5;28;01melse\u001B[39;00m:\n\u001B[0;32m    257\u001B[0m     outputs \u001B[38;5;241m=\u001B[39m make_call_op_in_graph(\n\u001B[0;32m    258\u001B[0m         \u001B[38;5;28mself\u001B[39m,\n\u001B[0;32m    259\u001B[0m         \u001B[38;5;28mlist\u001B[39m(args),\n\u001B[0;32m    260\u001B[0m         \u001B[38;5;28mself\u001B[39m\u001B[38;5;241m.\u001B[39m_bound_context\u001B[38;5;241m.\u001B[39mfunction_call_options\u001B[38;5;241m.\u001B[39mas_attrs(),\n\u001B[0;32m    261\u001B[0m     )\n",
      "File \u001B[1;32m~\\AppData\\Local\\anaconda3\\envs\\MLProjects\\Lib\\site-packages\\tensorflow\\python\\eager\\context.py:1683\u001B[0m, in \u001B[0;36mContext.call_function\u001B[1;34m(self, name, tensor_inputs, num_outputs)\u001B[0m\n\u001B[0;32m   1681\u001B[0m cancellation_context \u001B[38;5;241m=\u001B[39m cancellation\u001B[38;5;241m.\u001B[39mcontext()\n\u001B[0;32m   1682\u001B[0m \u001B[38;5;28;01mif\u001B[39;00m cancellation_context \u001B[38;5;129;01mis\u001B[39;00m \u001B[38;5;28;01mNone\u001B[39;00m:\n\u001B[1;32m-> 1683\u001B[0m   outputs \u001B[38;5;241m=\u001B[39m execute\u001B[38;5;241m.\u001B[39mexecute(\n\u001B[0;32m   1684\u001B[0m       name\u001B[38;5;241m.\u001B[39mdecode(\u001B[38;5;124m\"\u001B[39m\u001B[38;5;124mutf-8\u001B[39m\u001B[38;5;124m\"\u001B[39m),\n\u001B[0;32m   1685\u001B[0m       num_outputs\u001B[38;5;241m=\u001B[39mnum_outputs,\n\u001B[0;32m   1686\u001B[0m       inputs\u001B[38;5;241m=\u001B[39mtensor_inputs,\n\u001B[0;32m   1687\u001B[0m       attrs\u001B[38;5;241m=\u001B[39mattrs,\n\u001B[0;32m   1688\u001B[0m       ctx\u001B[38;5;241m=\u001B[39m\u001B[38;5;28mself\u001B[39m,\n\u001B[0;32m   1689\u001B[0m   )\n\u001B[0;32m   1690\u001B[0m \u001B[38;5;28;01melse\u001B[39;00m:\n\u001B[0;32m   1691\u001B[0m   outputs \u001B[38;5;241m=\u001B[39m execute\u001B[38;5;241m.\u001B[39mexecute_with_cancellation(\n\u001B[0;32m   1692\u001B[0m       name\u001B[38;5;241m.\u001B[39mdecode(\u001B[38;5;124m\"\u001B[39m\u001B[38;5;124mutf-8\u001B[39m\u001B[38;5;124m\"\u001B[39m),\n\u001B[0;32m   1693\u001B[0m       num_outputs\u001B[38;5;241m=\u001B[39mnum_outputs,\n\u001B[1;32m   (...)\u001B[0m\n\u001B[0;32m   1697\u001B[0m       cancellation_manager\u001B[38;5;241m=\u001B[39mcancellation_context,\n\u001B[0;32m   1698\u001B[0m   )\n",
      "File \u001B[1;32m~\\AppData\\Local\\anaconda3\\envs\\MLProjects\\Lib\\site-packages\\tensorflow\\python\\eager\\execute.py:53\u001B[0m, in \u001B[0;36mquick_execute\u001B[1;34m(op_name, num_outputs, inputs, attrs, ctx, name)\u001B[0m\n\u001B[0;32m     51\u001B[0m \u001B[38;5;28;01mtry\u001B[39;00m:\n\u001B[0;32m     52\u001B[0m   ctx\u001B[38;5;241m.\u001B[39mensure_initialized()\n\u001B[1;32m---> 53\u001B[0m   tensors \u001B[38;5;241m=\u001B[39m pywrap_tfe\u001B[38;5;241m.\u001B[39mTFE_Py_Execute(ctx\u001B[38;5;241m.\u001B[39m_handle, device_name, op_name,\n\u001B[0;32m     54\u001B[0m                                       inputs, attrs, num_outputs)\n\u001B[0;32m     55\u001B[0m \u001B[38;5;28;01mexcept\u001B[39;00m core\u001B[38;5;241m.\u001B[39m_NotOkStatusException \u001B[38;5;28;01mas\u001B[39;00m e:\n\u001B[0;32m     56\u001B[0m   \u001B[38;5;28;01mif\u001B[39;00m name \u001B[38;5;129;01mis\u001B[39;00m \u001B[38;5;129;01mnot\u001B[39;00m \u001B[38;5;28;01mNone\u001B[39;00m:\n",
      "\u001B[1;31mKeyboardInterrupt\u001B[0m: "
     ]
    }
   ],
   "source": [
    "model = Sequential([\n",
    "    InputLayer((X1.shape[1], X1.shape[2])),  # Updated input shape\n",
    "    LSTM(64, return_sequences=True),  # First LSTM layer\n",
    "    LSTM(32),  # Second LSTM layer\n",
    "    Dense(8, activation='relu'),\n",
    "    Dense(1, activation='linear')  # Predicting `real_consumption`\n",
    "])\n",
    "\n",
    "\n",
    "model.compile(\n",
    "    loss=Huber(delta=1.0),\n",
    "    optimizer=Adam(learning_rate=0.0001),\n",
    "    metrics=[RootMeanSquaredError()]\n",
    ")\n",
    "\n",
    "\n",
    "BATCH_SIZE = 256\n",
    "EPOCHS = 50\n",
    "\n",
    "train_dataset = tf.data.Dataset.from_tensor_slices((X_train1, y_train1)).batch(BATCH_SIZE).prefetch(tf.data.AUTOTUNE)\n",
    "test_dataset = tf.data.Dataset.from_tensor_slices((X_val1, y_val1)).batch(BATCH_SIZE).prefetch(tf.data.AUTOTUNE)\n",
    "\n",
    "# Train with ModelCheckpoint & EarlyStopping\n",
    "from tensorflow.keras.callbacks import ModelCheckpoint, EarlyStopping\n",
    "\n",
    "checkpoint_path = str(Path.cwd().parent / \"Data\" / \"best_model.keras\")\n",
    "\n",
    "cp1 = ModelCheckpoint(filepath=checkpoint_path, save_best_only=True, monitor=\"val_loss\", verbose=1)\n",
    "\n",
    "early_stopping = EarlyStopping(monitor=\"val_loss\", patience=5, restore_best_weights=True, verbose=1)\n",
    "\n",
    "history = model.fit(\n",
    "    train_dataset,\n",
    "    validation_data=test_dataset,\n",
    "    epochs=EPOCHS,\n",
    "    callbacks=[cp1, early_stopping]\n",
    ")\n"
   ],
   "metadata": {
    "collapsed": false,
    "ExecuteTime": {
     "end_time": "2025-03-07T07:49:15.297309Z",
     "start_time": "2025-03-07T07:48:36.901424Z"
    }
   },
   "id": "147409187b9e1505",
   "execution_count": 98
  },
  {
   "metadata": {},
   "cell_type": "code",
   "source": [
    "from tensorflow.keras.models import load_model\n",
    "model1 = load_model(checkpoint_path)\n",
    "\n",
    "train_predictions = model1.predict(X_train1).flatten()\n",
    "train_results = pd.DataFrame(data={'Train Predictions':train_predictions, 'Actuals':y_train1})\n",
    "\n",
    "val_predictions = model1.predict(X_val1).flatten()\n",
    "val_results = pd.DataFrame(data={'Val Predictions':val_predictions, 'Actuals':y_val1})\n",
    "\n",
    "test_predictions = model1.predict(X_test1).flatten()\n",
    "test_results = pd.DataFrame(data={'Test Predictions':test_predictions, 'Actuals':y_test1})\n"
   ],
   "id": "9989dcc18dad1ae9",
   "outputs": [],
   "execution_count": null
  },
  {
   "metadata": {},
   "cell_type": "code",
   "source": [
    "test_results[\"index\"] = temp[650005:].index\n",
    "test_results"
   ],
   "id": "7c592e82e5ba4be",
   "outputs": [],
   "execution_count": null
  },
  {
   "metadata": {},
   "cell_type": "code",
   "source": [
    "temp[650005:650050]"
   ],
   "id": "958f7ab18b9268dd",
   "outputs": [],
   "execution_count": null
  },
  {
   "metadata": {},
   "cell_type": "code",
   "source": [
    "temp[650010:650011].copy()"
   ],
   "id": "92d64918c4d8e682",
   "outputs": [],
   "execution_count": null
  },
  {
   "metadata": {},
   "cell_type": "code",
   "source": [
    "predict_points = 100\n",
    "test_predictions = []\n",
    "last_several_month = temp[650005:650011].copy()\n",
    "\n",
    "\n",
    "current_batch = df_to_X_y(last_several_month, window_size=5)[0]\n",
    "\n",
    "for i in range(predict_points):\n",
    "\n",
    "    # get the prediction value for the first batch\n",
    "    current_pred = model1.predict(current_batch).flatten()\n",
    "\n",
    "    # append the prediction into the array\n",
    "    test_predictions.append(current_pred)\n",
    "\n",
    "    # use the prediction to update the batch and remove the first value\n",
    "    current_batch = np.append(current_batch[:,1:,:],[[current_pred]],axis=1)\n",
    "\n",
    "\n",
    "\n",
    "results = temp[650010:(650010 + predict_points)].copy().reset_index()\n",
    "results[\"predic\"] = pd.DataFrame(test_predictions).rename(columns={0:\"predict\"})[\"predict\"]\n",
    "results"
   ],
   "id": "f367fe2844015489",
   "outputs": [],
   "execution_count": null
  },
  {
   "metadata": {},
   "cell_type": "code",
   "source": [
    "# Create an interactive plot using Plotly\n",
    "fig = px.line(results, x='time', y=['real_consumption', 'predic'], title=\"Interactive Time Series Plot\")\n",
    "\n",
    "# Customize the plot\n",
    "fig.update_layout(\n",
    "    xaxis_title=\"Timestamp\",\n",
    "    yaxis_title=\"Values\",\n",
    "    legend_title=\"Legend\",\n",
    "    xaxis_rangeslider_visible=True  # Enables the date slicer\n",
    ")\n",
    "\n",
    "# Show the plot\n",
    "fig.show()"
   ],
   "id": "8dfa2d39d849e207",
   "outputs": [],
   "execution_count": null
  },
  {
   "metadata": {},
   "cell_type": "code",
   "source": [
    "data_metrics(data=test_results, real=\"Actuals\", predicted=\"Test Predictions\")"
   ],
   "id": "97a81b223a2498ab",
   "outputs": [],
   "execution_count": null
  }
 ],
 "metadata": {
  "kernelspec": {
   "display_name": "Python 3",
   "language": "python",
   "name": "python3"
  },
  "language_info": {
   "codemirror_mode": {
    "name": "ipython",
    "version": 2
   },
   "file_extension": ".py",
   "mimetype": "text/x-python",
   "name": "python",
   "nbconvert_exporter": "python",
   "pygments_lexer": "ipython2",
   "version": "2.7.6"
  }
 },
 "nbformat": 4,
 "nbformat_minor": 5
}
